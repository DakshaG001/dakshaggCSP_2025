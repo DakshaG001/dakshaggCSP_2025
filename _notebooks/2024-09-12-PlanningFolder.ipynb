{
 "cells": [
  {
   "cell_type": "code",
   "execution_count": null,
   "metadata": {},
   "outputs": [],
   "source": [
    "---\n",
    "layout: post\n",
    "title: Planning Folder\n",
    "description: Accomplished vs Attempted\n",
    "type: issues \n",
    "comments: true\n",
    "---"
   ]
  },
  {
   "cell_type": "markdown",
   "metadata": {},
   "source": [
    "### Accomplished\n",
    "- Completed my home page with custom icons, and made a menu with a submenu\n",
    "- Completed my about me page where I also accomplished on how to move objects freely throughout a page\n",
    "-Completed my Hacks Tools & Equipment Play Hacks and accomplished making my own STDEV, Mean, and Median code\n",
    "\n",
    "### Attempted\n",
    "- Attempted making a Java Cell which isn't working so well (cannot get commands to run)\n",
    "- Attempted frontend hacks which is currently going through some issues with button spacing and etc.\n",
    "- Tried adding seperate backgrounds to individual notebooks which failed"
   ]
  }
 ],
 "metadata": {
  "language_info": {
   "name": "python"
  }
 },
 "nbformat": 4,
 "nbformat_minor": 2
}
