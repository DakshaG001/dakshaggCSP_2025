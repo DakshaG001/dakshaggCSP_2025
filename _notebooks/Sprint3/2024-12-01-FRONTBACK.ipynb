{
 "cells": [
  {
   "cell_type": "markdown",
   "metadata": {},
   "source": [
    "---\n",
    "layout: post\n",
    "title: Frontend and Backend contribution\n",
    "description:  some contribution I did for culinary posts\n",
    "type: issues \n",
    "comments: true\n",
    "---"
   ]
  },
  {
   "cell_type": "markdown",
   "metadata": {},
   "source": [
    " ### Frontend developed code (js + html):\n",
    "\n",
    "    const randomIngredients = [];\n",
    "    for (let i = 0; i < 5; i++) {\n",
    "        const randomIndex = Math.floor(Math.random() * ingredients.length);\n",
    "        randomIngredients.push(ingredients[randomIndex]);\n",
    "    }\n",
    "    return randomIngredients;\n",
    "}\n",
    "\n",
    "document.getElementById('customRecipeButton').addEventListener('click', () => {\n",
    "    const randomIngredients = getRandomIngredients();\n",
    "    document.getElementById('randomIngredients').innerHTML = randomIngredients.map(ingredient => `<li>${ingredient}</li>`).join('');\n",
    "});\n",
    "\n",
    "document.getElementById('randomRecipeButton').addEventListener('click', () => {\n",
    "    const randomRecipe = recipes[Math.floor(Math.random() * recipes.length)];\n",
    "    const recipeResult = `\n",
    "        <div class=\"recipe\">\n",
    "            <h3>${randomRecipe.name}</h3>\n",
    "            <p>${randomRecipe.description}</p>\n",
    "            <p><strong>Cooking Time:</strong> ${randomRecipe.cookingTime}</p>\n",
    "            <p><strong>Ingredients:</strong> ${randomRecipe.ingredients.join(', ')}</p>\n",
    "            <p><strong>Cooking Process:</strong> ${randomRecipe.cookingProcess}</p>\n",
    "        </div>\n",
    "    `;\n",
    "    document.getElementById('recipeResults').innerHTML = recipeResult;\n",
    "});\n",
    "\n",
    "generate random ingredients w/ 5x loop (takes list of 5 ingedients and function returns for display)\n",
    "event listener for the custom recipe to generate list of ingredients (random) \n",
    "event listener to select random recipe us ing math.random and display with html"
   ]
  },
  {
   "cell_type": "markdown",
   "metadata": {},
   "source": [
    "### Backend code (js):\n",
    "\n",
    " fetchChannels(); \n",
    "            document.getElementById('channelForm').reset();\n",
    "        } catch (error) {\n",
    "            console.error('Error adding channel:', error);\n",
    "            alert('Error adding channel: ' + error.message);\n",
    "\n",
    "\n",
    "refresh list when new is added, and logs errors w/ msg"
   ]
  }
 ],
 "metadata": {
  "language_info": {
   "name": "python"
  }
 },
 "nbformat": 4,
 "nbformat_minor": 2
}
