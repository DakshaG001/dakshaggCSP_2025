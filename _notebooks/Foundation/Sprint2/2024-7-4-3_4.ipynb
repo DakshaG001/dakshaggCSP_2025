{
 "cells": [
  {
   "cell_type": "markdown",
   "metadata": {},
   "source": [
    "---\n",
    "layout: post\n",
    "title: 3.4 Homework\n",
    "description:  Homework for 3.4 teachings\n",
    "type: issues \n",
    "comments: true\n",
    "---"
   ]
  },
  {
   "cell_type": "markdown",
   "metadata": {},
   "source": [
    "### Popcorn Hack #1"
   ]
  },
  {
   "cell_type": "code",
   "execution_count": 1,
   "metadata": {},
   "outputs": [
    {
     "data": {
      "application/javascript": "\n\nlet favoriteMovie = \"Cars\";\nlet favoriteSport = \"Soccer\";\nlet petName = \"monkey\";\n\n\n// Concatenation\nlet concatenatedMessage = \"My favorite movie is \" + favoriteMovie + \". I love playing \" + favoriteSport + \" and my pet's name is \" + petName + \".\";\n\n\n// Interpolation\nlet interpolatedMessage = `My favorite movie is ${favoriteMovie}. I love playing ${favoriteSport} and my pet's name is ${petName}.`;\n",
      "text/plain": [
       "<IPython.core.display.Javascript object>"
      ]
     },
     "metadata": {},
     "output_type": "display_data"
    }
   ],
   "source": [
    "%%js\n",
    "\n",
    "\n",
    "let favoriteMovie = \"Cars\";\n",
    "let favoriteSport = \"Soccer\";\n",
    "let petName = \"monkey\";\n",
    "\n",
    "\n",
    "let concatenatedMessage = \"My favorite movie is \" + favoriteMovie + \". I love playing \" + favoriteSport + \" and my pet's name is \" + petName + \".\";\n",
    "\n",
    "\n",
    "let interpolatedMessage = `My favorite movie is ${favoriteMovie}. I love playing ${favoriteSport} and my pet's name is ${petName}.`;"
   ]
  },
  {
   "cell_type": "markdown",
   "metadata": {},
   "source": [
    "### Popcorn Hack #2"
   ]
  },
  {
   "cell_type": "code",
   "execution_count": 2,
   "metadata": {},
   "outputs": [
    {
     "data": {
      "application/javascript": "\n\nlet phrase = \"siuuuuuuuuuuuuuuuuuuuuuuuuuu\";\n\n\nlet partOne = phrase.slice(1, 6);\nlet partTwo = phrase.slice(-15, -20);\nlet remainder = phrase.slice(22);\n\n\nconsole.log(partOne);  // Output: journey\nconsole.log(partTwo);  // Output: miles\nconsole.log(remainder); // Output: begins with a single step\n",
      "text/plain": [
       "<IPython.core.display.Javascript object>"
      ]
     },
     "metadata": {},
     "output_type": "display_data"
    }
   ],
   "source": [
    "%%js\n",
    "\n",
    "\n",
    "let phrase = \"siuuuuuuuuuuuuuuuuuuuuuuuuuu\";\n",
    "\n",
    "\n",
    "let partOne = phrase.slice(1, 6);\n",
    "let partTwo = phrase.slice(-15, -20);\n",
    "let remainder = phrase.slice(22);\n",
    "\n",
    "\n",
    "console.log(partOne);  // Output: journey\n",
    "console.log(partTwo);  // Output: miles\n",
    "console.log(remainder); // Output: begins with a single step"
   ]
  },
  {
   "cell_type": "markdown",
   "metadata": {},
   "source": [
    "### Popcorn Hack #3"
   ]
  },
  {
   "cell_type": "code",
   "execution_count": 6,
   "metadata": {},
   "outputs": [
    {
     "name": "stdout",
     "output_type": "stream",
     "text": [
      "Python s confusng\n"
     ]
    }
   ],
   "source": [
    "def name_vowels(input_str):\n",
    "    vowels = \"i\"\n",
    "    result = ''.join([char for char in input_str if char not in vowels])\n",
    "    return result\n",
    "\n",
    "sentence = \"Python is confusing\"\n",
    "print(remove_vowels(sentence))\n"
   ]
  },
  {
   "cell_type": "code",
   "execution_count": 4,
   "metadata": {},
   "outputs": [
    {
     "name": "stdout",
     "output_type": "stream",
     "text": [
      "world hello\n"
     ]
    }
   ],
   "source": [
    "def reverse_words(input_str):\n",
    "    words = input_str.split()\n",
    "    reversed_words = \" \".join(words[::-1])\n",
    "    return reversed_words\n",
    "\n",
    "sentence = \"hello world\"\n",
    "print(reverse_words(sentence))"
   ]
  },
  {
   "cell_type": "markdown",
   "metadata": {},
   "source": [
    "### Python Shopping lists"
   ]
  },
  {
   "cell_type": "code",
   "execution_count": 7,
   "metadata": {},
   "outputs": [
    {
     "name": "stdout",
     "output_type": "stream",
     "text": [
      "\n",
      "Shopping List:\n",
      "chicken: $12.00\n",
      "eggs: $10.00\n",
      "milk: $8.00\n",
      "bread: $9.00\n",
      "Total cost: $39.00\n"
     ]
    }
   ],
   "source": [
    "shopping_list = []\n",
    "total_cost = 0.0\n",
    "\n",
    "while True:\n",
    "    item_name = input(\"Enter the item name (or 'done' to finish): \")\n",
    "    if item_name.lower() == 'done':\n",
    "        break\n",
    "    item_price = float(input(\"Enter the price of the item: \"))\n",
    "    \n",
    "    shopping_list.append((item_name, item_price))\n",
    "    total_cost += item_price\n",
    "\n",
    "print(\"\\nShopping List:\")\n",
    "for item, price in shopping_list:\n",
    "    print(f\"{item}: ${price:.2f}\")\n",
    "print(f\"Total cost: ${total_cost:.2f}\")\n"
   ]
  },
  {
   "cell_type": "markdown",
   "metadata": {},
   "source": [
    "### JavaScript: Recipe Ingredient Converter"
   ]
  },
  {
   "cell_type": "code",
   "execution_count": 17,
   "metadata": {
    "vscode": {
     "languageId": "javascript"
    }
   },
   "outputs": [
    {
     "data": {
      "application/javascript": "\nconst conversionRates = {\n    cupsToTablespoons: 16,\n    tablespoonsToTeaspoons: 3,\n    cupsToTeaspoons: 48\n};\n\nlet ingredients = [];\n\nwhile (true) {\n    let ingredient = prompt(\"Enter the ingredient name (or 'done' to finish):\");\n    if (ingredient.toLowerCase() === 'done') break;\n\n    let quantity = parseFloat(prompt(\"Enter the quantity of the ingredient:\"));\n    let unit = prompt(\"Enter the unit (cups, tablespoons, teaspoons):\");\n    let targetUnit = prompt(\"Enter the unit to convert to (tablespoons, teaspoons):\");\n\n    let convertedQuantity;\n    if (unit === \"cups\" && targetUnit === \"tablespoons\") {\n        convertedQuantity = quantity * conversionRates.cupsToTablespoons;\n    } else if (unit === \"cups\" && targetUnit === \"teaspoons\") {\n        convertedQuantity = quantity * conversionRates.cupsToTeaspoons;\n    } else if (unit === \"tablespoons\" && targetUnit === \"teaspoons\") {\n        convertedQuantity = quantity * conversionRates.tablespoonsToTeaspoons;\n    } else {\n        alert(\"Invalid conversion units.\");\n        continue;\n    }\n\n    ingredients.push({ ingredient, quantity, unit, convertedQuantity, targetUnit });\n}\n\ningredients.forEach(item => {\n    console.log(`${item.quantity} ${item.unit} of ${item.ingredient} = ${item.convertedQuantity} ${item.targetUnit}`);\n});\n",
      "text/plain": [
       "<IPython.core.display.Javascript object>"
      ]
     },
     "metadata": {},
     "output_type": "display_data"
    }
   ],
   "source": [
    "%%javascript\n",
    "\n",
    "const conversionRates = {\n",
    "    cupsToTablespoons: 16,\n",
    "    tablespoonsToTeaspoons: 3,\n",
    "    cupsToTeaspoons: 48\n",
    "};\n",
    "\n",
    "let ingredients = [];\n",
    "\n",
    "while (true) {\n",
    "    let ingredient = prompt(\"Enter the ingredient name (or 'done' to finish):\");\n",
    "    if (ingredient.toLowerCase() === 'done') break;\n",
    "\n",
    "    let quantity = parseFloat(prompt(\"Enter the quantity of the ingredient:\"));\n",
    "    let unit = prompt(\"Enter the unit (cups, tablespoons, teaspoons):\");\n",
    "    let targetUnit = prompt(\"Enter the unit to convert to (tablespoons, teaspoons):\");\n",
    "\n",
    "    let convertedQuantity;\n",
    "    if (unit === \"cups\" && targetUnit === \"tablespoons\") {\n",
    "        convertedQuantity = quantity * conversionRates.cupsToTablespoons;\n",
    "    } else if (unit === \"cups\" && targetUnit === \"teaspoons\") {\n",
    "        convertedQuantity = quantity * conversionRates.cupsToTeaspoons;\n",
    "    } else if (unit === \"tablespoons\" && targetUnit === \"teaspoons\") {\n",
    "        convertedQuantity = quantity * conversionRates.tablespoonsToTeaspoons;\n",
    "    } else {\n",
    "        alert(\"Invalid conversion units.\");\n",
    "        continue;\n",
    "    }\n",
    "\n",
    "    ingredients.push({ ingredient, quantity, unit, convertedQuantity, targetUnit });\n",
    "}\n",
    "\n",
    "ingredients.forEach(item => {\n",
    "    console.log(`${item.quantity} ${item.unit} of ${item.ingredient} = ${item.convertedQuantity} ${item.targetUnit}`);\n",
    "});\n"
   ]
  }
 ],
 "metadata": {
  "kernelspec": {
   "display_name": "venv",
   "language": "python",
   "name": "python3"
  },
  "language_info": {
   "codemirror_mode": {
    "name": "ipython",
    "version": 3
   },
   "file_extension": ".py",
   "mimetype": "text/x-python",
   "name": "python",
   "nbconvert_exporter": "python",
   "pygments_lexer": "ipython3",
   "version": "3.12.3"
  }
 },
 "nbformat": 4,
 "nbformat_minor": 2
}
