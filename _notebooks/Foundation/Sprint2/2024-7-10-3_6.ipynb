{
 "cells": [
  {
   "cell_type": "markdown",
   "metadata": {},
   "source": [
    "---\n",
    "layout: post\n",
    "title: 3.6 Homework\n",
    "description:  Homework for 3.6 teachings\n",
    "type: issues \n",
    "comments: true\n",
    "---"
   ]
  },
  {
   "cell_type": "markdown",
   "metadata": {},
   "source": [
    "### Popcorn Hack #1"
   ]
  },
  {
   "cell_type": "code",
   "execution_count": 6,
   "metadata": {},
   "outputs": [
    {
     "name": "stdout",
     "output_type": "stream",
     "text": [
      "You failed the test.\n"
     ]
    }
   ],
   "source": [
    "score = 55\n",
    "\n",
    "# Conditional statement\n",
    "if score >= 65:\n",
    "    print(\"You passed the test!\")\n",
    "else:\n",
    "    print(\"You failed the test.\")"
   ]
  },
  {
   "cell_type": "code",
   "execution_count": 7,
   "metadata": {},
   "outputs": [
    {
     "data": {
      "application/javascript": "let score = 85;\n\n// Conditional statement\nif (score >= 65) {\n    console.log(\"You passed the test!\");\n} else {\n    console.log(\"You failed the test.\");\n}\n",
      "text/plain": [
       "<IPython.core.display.Javascript object>"
      ]
     },
     "metadata": {},
     "output_type": "display_data"
    }
   ],
   "source": [
    "%%js\n",
    "let score = 85;\n",
    "\n",
    "// Conditional statement\n",
    "if (score >= 65) {\n",
    "    console.log(\"You passed the test!\");\n",
    "} else {\n",
    "    console.log(\"You failed the test.\");\n",
    "}"
   ]
  },
  {
   "cell_type": "markdown",
   "metadata": {},
   "source": [
    "### Popcorn Hack #2"
   ]
  },
  {
   "cell_type": "code",
   "execution_count": 8,
   "metadata": {},
   "outputs": [
    {
     "name": "stdout",
     "output_type": "stream",
     "text": [
      "Come on in!\n"
     ]
    }
   ],
   "source": [
    "owns_a_key = True\n",
    "\n",
    "if owns_a_key:\n",
    "    print(\"Come on in!\")\n",
    "else:\n",
    "    print(\"You need a key to come in here\")"
   ]
  },
  {
   "cell_type": "code",
   "execution_count": 9,
   "metadata": {},
   "outputs": [
    {
     "data": {
      "application/javascript": "let owns_a_key = true;\n\nif (owns_a_key) {\n    console.log(\"Come on in!\");\n} else {\n    console.log(\"You need a key to come in here.\");\n}\n",
      "text/plain": [
       "<IPython.core.display.Javascript object>"
      ]
     },
     "metadata": {},
     "output_type": "display_data"
    }
   ],
   "source": [
    "%%js\n",
    "let owns_a_key = true;\n",
    "\n",
    "if (owns_a_key) {\n",
    "    console.log(\"Come on in!\");\n",
    "} else {\n",
    "    console.log(\"You need a key to come in here.\");\n",
    "}"
   ]
  },
  {
   "cell_type": "markdown",
   "metadata": {},
   "source": [
    "### Popcorn hack 3"
   ]
  },
  {
   "cell_type": "code",
   "execution_count": 10,
   "metadata": {},
   "outputs": [
    {
     "name": "stdout",
     "output_type": "stream",
     "text": [
      "Rolling the dice...\n",
      "You rolled a 5\n",
      "Great roll! You rolled a five.\n"
     ]
    }
   ],
   "source": [
    "import random\n",
    "\n",
    "roll_dice = random.randint(1, 6)\n",
    "\n",
    "print(\"Rolling the dice...\")\n",
    "print(f\"You rolled a {roll_dice}\")\n",
    "\n",
    "if roll_dice == 1:\n",
    "    print(\"Oh no! You rolled a one. Try again!\")\n",
    "elif roll_dice <= 3:\n",
    "    print(\"You rolled a low number. Better luck next time!\")\n",
    "elif roll_dice == 4:\n",
    "    print(\"Not bad! You rolled a four.\")\n",
    "elif roll_dice <= 5:\n",
    "    print(\"Great roll! You rolled a five.\")\n",
    "else:\n",
    "    print(\"Awesome! You rolled a six! You're on a roll!\")"
   ]
  },
  {
   "cell_type": "code",
   "execution_count": 11,
   "metadata": {},
   "outputs": [
    {
     "data": {
      "application/javascript": "let roll_dice = Math.floor(Math.random() * 6) + 1;\n\nconsole.log(\"Rolling the dice...\");\nconsole.log(`You rolled a ${roll_dice}`);\n\nif (roll_dice === 1) {\n    console.log(\"Oh no! You rolled a one. Try again!\");\n} else if (roll_dice <= 3) {\n    console.log(\"You rolled a low number. Better luck next time!\");\n} else if (roll_dice === 4) {\n    console.log(\"Not bad! You rolled a four.\");\n} else if (roll_dice === 5) {\n    console.log(\"Great roll! You rolled a five.\");\n} else {\n    console.log(\"Awesome! You rolled a six! You're on a roll!\");\n}\n",
      "text/plain": [
       "<IPython.core.display.Javascript object>"
      ]
     },
     "metadata": {},
     "output_type": "display_data"
    }
   ],
   "source": [
    "%%js\n",
    "let roll_dice = Math.floor(Math.random() * 6) + 1;\n",
    "\n",
    "console.log(\"Rolling the dice...\");\n",
    "console.log(`You rolled a ${roll_dice}`);\n",
    "\n",
    "if (roll_dice === 1) {\n",
    "    console.log(\"Oh no! You rolled a one. Try again!\");\n",
    "} else if (roll_dice <= 3) {\n",
    "    console.log(\"You rolled a low number. Better luck next time!\");\n",
    "} else if (roll_dice === 4) {\n",
    "    console.log(\"Not bad! You rolled a four.\");\n",
    "} else if (roll_dice === 5) {\n",
    "    console.log(\"Great roll! You rolled a five.\");\n",
    "} else {\n",
    "    console.log(\"Awesome! You rolled a six! You're on a roll!\");\n",
    "}"
   ]
  },
  {
   "cell_type": "markdown",
   "metadata": {},
   "source": [
    "### Homework 1"
   ]
  },
  {
   "cell_type": "code",
   "execution_count": 12,
   "metadata": {},
   "outputs": [
    {
     "name": "stdout",
     "output_type": "stream",
     "text": [
      "Hello, sewi! You are running Python using /home/daksha_gowda/nighthawk/dakshaggCSP_2025/venv/bin/python.\n",
      "Incorrect. The correct answer is (a) 11.\n",
      "Incorrect. The correct answer is (b) 3.\n",
      "Incorrect. The correct answer is (b) 90 minutes.\n",
      "Incorrect. The correct answer is (a) Deuce.\n",
      "Correct!\n",
      "sewi, you scored 1/5!\n",
      "\n",
      "Homework Hack: Let's try a simple comparison program!\n"
     ]
    },
    {
     "ename": "ValueError",
     "evalue": "could not convert string to float: 'escape'",
     "output_type": "error",
     "traceback": [
      "\u001b[0;31m---------------------------------------------------------------------------\u001b[0m",
      "\u001b[0;31mValueError\u001b[0m                                Traceback (most recent call last)",
      "Cell \u001b[0;32mIn[12], line 56\u001b[0m\n\u001b[1;32m     52\u001b[0m \u001b[38;5;28mprint\u001b[39m(\u001b[38;5;124mf\u001b[39m\u001b[38;5;124m'\u001b[39m\u001b[38;5;132;01m{\u001b[39;00muser_name\u001b[38;5;132;01m}\u001b[39;00m\u001b[38;5;124m, you scored \u001b[39m\u001b[38;5;132;01m{\u001b[39;00mcorrect\u001b[38;5;132;01m}\u001b[39;00m\u001b[38;5;124m/\u001b[39m\u001b[38;5;132;01m{\u001b[39;00mquestions\u001b[38;5;132;01m}\u001b[39;00m\u001b[38;5;124m!\u001b[39m\u001b[38;5;124m'\u001b[39m)\n\u001b[1;32m     54\u001b[0m \u001b[38;5;28mprint\u001b[39m(\u001b[38;5;124m\"\u001b[39m\u001b[38;5;130;01m\\n\u001b[39;00m\u001b[38;5;124mHomework Hack: Let\u001b[39m\u001b[38;5;124m'\u001b[39m\u001b[38;5;124ms try a simple comparison program!\u001b[39m\u001b[38;5;124m\"\u001b[39m)\n\u001b[0;32m---> 56\u001b[0m num1 \u001b[38;5;241m=\u001b[39m \u001b[38;5;28;43mfloat\u001b[39;49m\u001b[43m(\u001b[49m\u001b[38;5;28;43minput\u001b[39;49m\u001b[43m(\u001b[49m\u001b[38;5;124;43m\"\u001b[39;49m\u001b[38;5;124;43mEnter the first number: \u001b[39;49m\u001b[38;5;124;43m\"\u001b[39;49m\u001b[43m)\u001b[49m\u001b[43m)\u001b[49m\n\u001b[1;32m     57\u001b[0m num2 \u001b[38;5;241m=\u001b[39m \u001b[38;5;28mfloat\u001b[39m(\u001b[38;5;28minput\u001b[39m(\u001b[38;5;124m\"\u001b[39m\u001b[38;5;124mEnter the second number: \u001b[39m\u001b[38;5;124m\"\u001b[39m))\n\u001b[1;32m     59\u001b[0m \u001b[38;5;28;01mif\u001b[39;00m num1 \u001b[38;5;241m==\u001b[39m num2:\n",
      "\u001b[0;31mValueError\u001b[0m: could not convert string to float: 'escape'"
     ]
    }
   ],
   "source": [
    "import sys\n",
    "\n",
    "def question_with_response(prompt):\n",
    "    answer = input(prompt)\n",
    "    return answer\n",
    "\n",
    "questions = 5\n",
    "correct = 0\n",
    "\n",
    "user_name = question_with_response(\"Enter your name: \")\n",
    "print(f'Hello, {user_name}! You are running Python using {sys.executable}.')\n",
    "ready = question_with_response(\"Are you ready to take a sports quiz? (yes/no): \")\n",
    "if ready.lower() != 'yes':\n",
    "    print(\"Come back when you're ready! Goodbye.\")\n",
    "    sys.exit()\n",
    "\n",
    "q1 = question_with_response(\"1. How many players are on the field for one team in American football? (a) 11 (b) 9 (c) 15: \")\n",
    "if q1.lower() == \"a\":\n",
    "    print(\"Correct!\")\n",
    "    correct += 1\n",
    "else:\n",
    "    print(\"Incorrect. The correct answer is (a) 11.\")\n",
    "\n",
    "q2 = question_with_response(\"2. In basketball, how many points is a shot from beyond the three-point line worth? (a) 2 (b) 3 (c) 4: \")\n",
    "if q2.lower() == \"b\":\n",
    "    print(\"Correct!\")\n",
    "    correct += 1\n",
    "else:\n",
    "    print(\"Incorrect. The correct answer is (b) 3.\")\n",
    "\n",
    "q3 = question_with_response(\"3. What is the maximum duration of a standard professional soccer match (without extra time)? (a) 60 minutes (b) 90 minutes (c) 120 minutes: \")\n",
    "if q3.lower() == \"b\":\n",
    "    print(\"Correct!\")\n",
    "    correct += 1\n",
    "else:\n",
    "    print(\"Incorrect. The correct answer is (b) 90 minutes.\")\n",
    "\n",
    "q4 = question_with_response(\"4. In tennis, what is the term used when the score is 40-40? (a) Deuce (b) Match point (c) Advantage: \")\n",
    "if q4.lower() == \"a\":\n",
    "    print(\"Correct!\")\n",
    "    correct += 1\n",
    "else:\n",
    "    print(\"Incorrect. The correct answer is (a) Deuce.\")\n",
    "\n",
    "q5 = question_with_response(\"5. In which year did the first modern Olympic Games take place? (a) 1896 (b) 1900 (c) 1912: \")\n",
    "if q5.lower() == \"a\":\n",
    "    print(\"Correct!\")\n",
    "    correct += 1\n",
    "else:\n",
    "    print(\"Incorrect. The correct answer is (a) 1896.\")\n",
    "\n",
    "print(f'{user_name}, you scored {correct}/{questions}!')\n",
    "\n",
    "print(\"\\nHomework Hack: Let's try a simple comparison program!\")\n",
    "\n",
    "num1 = float(input(\"Enter the first number: \"))\n",
    "num2 = float(input(\"Enter the second number: \"))\n",
    "\n",
    "if num1 == num2:\n",
    "    print(\"Both numbers are equal.\")\n",
    "elif num1 > num2:\n",
    "    print(f\"The first number ({num1}) is larger.\")\n",
    "else:\n",
    "    print(f\"The second number ({num2}) is larger.\")"
   ]
  },
  {
   "cell_type": "markdown",
   "metadata": {},
   "source": [
    "## 3.7"
   ]
  },
  {
   "cell_type": "markdown",
   "metadata": {},
   "source": [
    "## Popcorn Hack 1"
   ]
  },
  {
   "cell_type": "code",
   "execution_count": 3,
   "metadata": {},
   "outputs": [
    {
     "name": "stdout",
     "output_type": "stream",
     "text": [
      "You get a fruit snack.\n"
     ]
    }
   ],
   "source": [
    "age = int(input(\"Enter your age: \"))\n",
    "likes_sweets = input(\"Do you like sweets? (yes/no): \").lower()\n",
    "\n",
    "if age >= 10:\n",
    "    if likes_sweets == \"yes\":\n",
    "        print(\"You can have candy!\")\n",
    "    else:\n",
    "        print(\"You can have a healthy snack.\")\n",
    "else:\n",
    "    print(\"You get a fruit snack.\")\n"
   ]
  },
  {
   "cell_type": "markdown",
   "metadata": {},
   "source": [
    "### Popcorn Hack 2"
   ]
  },
  {
   "cell_type": "code",
   "execution_count": 4,
   "metadata": {},
   "outputs": [
    {
     "name": "stdout",
     "output_type": "stream",
     "text": [
      "You don't have enough money to buy a laptop.\n"
     ]
    }
   ],
   "source": [
    "# Savings\n",
    "savings = 500  \n",
    "\n",
    "# Laptop prices\n",
    "dell_price = 800\n",
    "hp_price = 700\n",
    "macbook_price = 1200\n",
    "\n",
    "# Determine which laptop you can buy\n",
    "if savings >= macbook_price:\n",
    "    print(\"You can buy a MacBook!\")\n",
    "elif savings >= dell_price:\n",
    "    print(\"You can buy a Dell laptop!\")\n",
    "elif savings >= hp_price:\n",
    "    print(\"You can buy an HP laptop!\")\n",
    "else:\n",
    "    print(\"You don't have enough money to buy a laptop.\")\n"
   ]
  },
  {
   "cell_type": "markdown",
   "metadata": {},
   "source": [
    "### Popcorn Hack 3"
   ]
  },
  {
   "cell_type": "code",
   "execution_count": 5,
   "metadata": {},
   "outputs": [
    {
     "data": {
      "application/javascript": "// Grocery Conditions\nlet is_store_open = true;\nlet is_vegetables_available = false;\n\n// Shopping logic based on store and item availability\nif (is_store_open) {\n    console.log(\"You can go grocery shopping.\");\n\n    if (is_vegetables_available) {\n        console.log(\"Buy some fresh vegetables.\");\n    } else {\n        console.log(\"Check for other items on your list.\");\n    }\n} else {\n    console.log(\"The store is closed, shop another day.\");\n}\n",
      "text/plain": [
       "<IPython.core.display.Javascript object>"
      ]
     },
     "metadata": {},
     "output_type": "display_data"
    }
   ],
   "source": [
    "%%js\n",
    "// Grocery Conditions\n",
    "let is_store_open = true;\n",
    "let is_vegetables_available = false;\n",
    "\n",
    "// Shopping logic based on store and item availability\n",
    "if (is_store_open) {\n",
    "    console.log(\"You can go grocery shopping.\");\n",
    "\n",
    "    if (is_vegetables_available) {\n",
    "        console.log(\"Buy some fresh vegetables.\");\n",
    "    } else {\n",
    "        console.log(\"Check for other items on your list.\");\n",
    "    }\n",
    "} else {\n",
    "    console.log(\"The store is closed, shop another day.\");\n",
    "}"
   ]
  },
  {
   "cell_type": "markdown",
   "metadata": {},
   "source": [
    "### Homeowkr"
   ]
  },
  {
   "cell_type": "code",
   "execution_count": 6,
   "metadata": {},
   "outputs": [
    {
     "name": "stdout",
     "output_type": "stream",
     "text": [
      "Great! You can play with the younger kids.\n"
     ]
    }
   ],
   "source": [
    "age = int(input(\"Enter your age: \"))\n",
    "has_ball = input(\"Do you have a ball? (yes/no): \").lower()\n",
    "\n",
    "can_join_game = age >= 5 and has_ball == \"yes\"\n",
    "\n",
    "if can_join_game:\n",
    "    if age < 8:\n",
    "        message = \"You can play with the younger kids.\"\n",
    "    else:\n",
    "        message = \"You can play with the older kids.\"\n",
    "\n",
    "    print(f\"Great! {message}\")\n",
    "else:\n",
    "    print(\" you can't join the game yet.\")"
   ]
  }
 ],
 "metadata": {
  "kernelspec": {
   "display_name": "venv",
   "language": "python",
   "name": "python3"
  },
  "language_info": {
   "codemirror_mode": {
    "name": "ipython",
    "version": 3
   },
   "file_extension": ".py",
   "mimetype": "text/x-python",
   "name": "python",
   "nbconvert_exporter": "python",
   "pygments_lexer": "ipython3",
   "version": "3.12.3"
  }
 },
 "nbformat": 4,
 "nbformat_minor": 2
}
