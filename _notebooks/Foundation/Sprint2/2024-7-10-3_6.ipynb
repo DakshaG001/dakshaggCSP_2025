{
 "cells": [
  {
   "cell_type": "markdown",
   "metadata": {},
   "source": [
    "---\n",
    "layout: post\n",
    "title: 3Homework and Popcorn Hacks for 3.6 & 3.7\n",
    "description:  Homework for 3.6 teachings\n",
    "type: issues \n",
    "comments: true\n",
    "---"
   ]
  },
  {
   "cell_type": "markdown",
   "metadata": {},
   "source": [
    "### Popcorn Hack #1"
   ]
  },
  {
   "cell_type": "code",
   "execution_count": 1,
   "metadata": {},
   "outputs": [
    {
     "name": "stdout",
     "output_type": "stream",
     "text": [
      "You failed the test.\n"
     ]
    }
   ],
   "source": [
    "score = 55\n",
    "\n",
    "if score >= 65:\n",
    "    print(\"You passed the test!\")\n",
    "else:\n",
    "    print(\"You failed the test.\")"
   ]
  },
  {
   "cell_type": "code",
   "execution_count": 2,
   "metadata": {},
   "outputs": [
    {
     "data": {
      "application/javascript": "let score = 85;\n\n// Conditional statement\nif (score >= 65) {\n    console.log(\"You passed the test!\");\n} else {\n    console.log(\"You failed the test.\");\n}\n",
      "text/plain": [
       "<IPython.core.display.Javascript object>"
      ]
     },
     "metadata": {},
     "output_type": "display_data"
    }
   ],
   "source": [
    "%%js\n",
    "let score = 85;\n",
    "\n",
    "// Conditional statement\n",
    "if (score >= 65) {\n",
    "    console.log(\"You passed the test!\");\n",
    "} else {\n",
    "    console.log(\"You failed the test.\");\n",
    "}"
   ]
  },
  {
   "cell_type": "markdown",
   "metadata": {},
   "source": [
    "### Popcorn Hack #2"
   ]
  },
  {
   "cell_type": "code",
   "execution_count": 3,
   "metadata": {},
   "outputs": [
    {
     "name": "stdout",
     "output_type": "stream",
     "text": [
      "Come on in!\n"
     ]
    }
   ],
   "source": [
    "owns_a_key = True\n",
    "\n",
    "if owns_a_key:\n",
    "    print(\"Come on in!\")\n",
    "else:\n",
    "    print(\"You need a key to come in here\")"
   ]
  },
  {
   "cell_type": "code",
   "execution_count": 4,
   "metadata": {},
   "outputs": [
    {
     "data": {
      "application/javascript": "let owns_a_key = true;\n\nif (owns_a_key) {\n    console.log(\"Come on in!\");\n} else {\n    console.log(\"You need a key to come in here.\");\n}\n",
      "text/plain": [
       "<IPython.core.display.Javascript object>"
      ]
     },
     "metadata": {},
     "output_type": "display_data"
    }
   ],
   "source": [
    "%%js\n",
    "let owns_a_key = true;\n",
    "\n",
    "if (owns_a_key) {\n",
    "    console.log(\"Come on in!\");\n",
    "} else {\n",
    "    console.log(\"You need a key to come in here.\");\n",
    "}"
   ]
  },
  {
   "cell_type": "markdown",
   "metadata": {},
   "source": [
    "### Popcorn hack 3"
   ]
  },
  {
   "cell_type": "code",
   "execution_count": 5,
   "metadata": {},
   "outputs": [
    {
     "name": "stdout",
     "output_type": "stream",
     "text": [
      "Rolling the dice...\n",
      "You rolled a 6\n",
      "Awesome! You rolled a six! You're on a roll!\n"
     ]
    }
   ],
   "source": [
    "import random\n",
    "\n",
    "roll_dice = random.randint(1, 6)\n",
    "\n",
    "print(\"Rolling the dice...\")\n",
    "print(f\"You rolled a {roll_dice}\")\n",
    "\n",
    "if roll_dice == 1:\n",
    "    print(\"Oh no! You rolled a one. Try again!\")\n",
    "elif roll_dice <= 3:\n",
    "    print(\"You rolled a low number. Better luck next time!\")\n",
    "elif roll_dice == 4:\n",
    "    print(\"Not bad! You rolled a four.\")\n",
    "elif roll_dice <= 5:\n",
    "    print(\"Great roll! You rolled a five.\")\n",
    "else:\n",
    "    print(\"Awesome! You rolled a six! You're on a roll!\")"
   ]
  },
  {
   "cell_type": "code",
   "execution_count": 1,
   "metadata": {},
   "outputs": [
    {
     "data": {
      "application/javascript": "let roll_dice = Math.floor(Math.random() * 6) + 1;\n\nconsole.log(\"Rolling the dice...\");\nconsole.log(`You rolled a ${roll_dice}`);\n\nif (roll_dice === 1) {\n    console.log(\"Oh no! You rolled a one. Try again!\");\n} else if (roll_dice <= 3) {\n    console.log(\"You rolled a low number. Better luck next time!\");\n} else if (roll_dice === 4) {\n    console.log(\"Not bad! You rolled a four.\");\n} else if (roll_dice === 5) {\n    console.log(\"Great roll! You rolled a five.\");\n} else {\n    console.log(\"Awesome! You rolled a six! You're on a roll!\");\n}\n",
      "text/plain": [
       "<IPython.core.display.Javascript object>"
      ]
     },
     "metadata": {},
     "output_type": "display_data"
    }
   ],
   "source": [
    "%%js\n",
    "let roll_dice = Math.floor(Math.random() * 6) + 1;\n",
    "\n",
    "console.log(\"Rolling the dice...\");\n",
    "console.log(`You rolled a ${roll_dice}`);\n",
    "\n",
    "if (roll_dice === 1) {\n",
    "    console.log(\"Oh no! You rolled a one. Try again!\");\n",
    "} else if (roll_dice <= 3) {\n",
    "    console.log(\"You rolled a low number. Better luck next time!\");\n",
    "} else if (roll_dice === 4) {\n",
    "    console.log(\"Not bad! You rolled a four.\");\n",
    "} else if (roll_dice === 5) {\n",
    "    console.log(\"Great roll! You rolled a five.\");\n",
    "} else {\n",
    "    console.log(\"Awesome! You rolled a six! You're on a roll!\");\n",
    "}"
   ]
  },
  {
   "cell_type": "markdown",
   "metadata": {},
   "source": [
    "### Homework 1"
   ]
  },
  {
   "cell_type": "markdown",
   "metadata": {},
   "source": [
    "### 3.7"
   ]
  },
  {
   "cell_type": "markdown",
   "metadata": {},
   "source": [
    "## Popcorn Hack 1"
   ]
  },
  {
   "cell_type": "code",
   "execution_count": 3,
   "metadata": {},
   "outputs": [
    {
     "name": "stdout",
     "output_type": "stream",
     "text": [
      "You get a fruit snack.\n"
     ]
    }
   ],
   "source": [
    "age = int(input(\"Enter your age: \"))\n",
    "likes_sweets = input(\"Do you like sweets? (yes/no): \").lower()\n",
    "\n",
    "if age >= 10:\n",
    "    if likes_sweets == \"yes\":\n",
    "        print(\"You can have candy!\")\n",
    "    else:\n",
    "        print(\"You can have a healthy snack.\")\n",
    "else:\n",
    "    print(\"You get a fruit snack.\")\n"
   ]
  },
  {
   "cell_type": "markdown",
   "metadata": {},
   "source": [
    "### Popcorn Hack 2"
   ]
  },
  {
   "cell_type": "code",
   "execution_count": 10,
   "metadata": {},
   "outputs": [
    {
     "name": "stdout",
     "output_type": "stream",
     "text": [
      "You don't have enough money to buy a laptop.\n"
     ]
    }
   ],
   "source": [
    "# Savings\n",
    "savings = 500  \n",
    "\n",
    "# Laptop prices\n",
    "dell_price = 800\n",
    "hp_price = 700\n",
    "macbook_price = 1200\n",
    "\n",
    "# Determine which laptop you can buy\n",
    "if savings >= macbook_price:\n",
    "    print(\"You can buy a MacBook!\")\n",
    "elif savings >= dell_price:\n",
    "    print(\"You can buy a Dell laptop!\")\n",
    "elif savings >= hp_price:\n",
    "    print(\"You can buy an HP laptop!\")\n",
    "else:\n",
    "    print(\"You don't have enough money to buy a laptop.\")\n"
   ]
  },
  {
   "cell_type": "markdown",
   "metadata": {},
   "source": [
    "### Popcorn Hack 3"
   ]
  },
  {
   "cell_type": "code",
   "execution_count": 9,
   "metadata": {},
   "outputs": [
    {
     "data": {
      "application/javascript": "// Grocery Conditions\nlet is_store_open = true;\nlet is_vegetables_available = false;\n\n// Shopping logic based on store and item availability\nif (is_store_open) {\n    console.log(\"You can go grocery shopping.\");\n\n    if (is_vegetables_available) {\n        console.log(\"Buy some fresh vegetables.\");\n    } else {\n        console.log(\"Check for other items on your list.\");\n    }\n} else {\n    console.log(\"The store is closed, shop another day.\");\n}\n",
      "text/plain": [
       "<IPython.core.display.Javascript object>"
      ]
     },
     "metadata": {},
     "output_type": "display_data"
    }
   ],
   "source": [
    "%%js\n",
    "// Grocery Conditions\n",
    "let is_store_open = true;\n",
    "let is_vegetables_available = false;\n",
    "\n",
    "// Shopping logic based on store and item availability\n",
    "if (is_store_open) {\n",
    "    console.log(\"You can go grocery shopping.\");\n",
    "\n",
    "    if (is_vegetables_available) {\n",
    "        console.log(\"Buy some fresh vegetables.\");\n",
    "    } else {\n",
    "        console.log(\"Check for other items on your list.\");\n",
    "    }\n",
    "} else {\n",
    "    console.log(\"The store is closed, shop another day.\");\n",
    "}"
   ]
  },
  {
   "cell_type": "markdown",
   "metadata": {},
   "source": [
    "### Homeowkr"
   ]
  },
  {
   "cell_type": "code",
   "execution_count": 8,
   "metadata": {},
   "outputs": [
    {
     "name": "stdout",
     "output_type": "stream",
     "text": [
      " you can't join the game yet.\n"
     ]
    }
   ],
   "source": [
    "age = int(input(\"Enter your age: \"))\n",
    "has_ball = input(\"Do you have a ball? (yes/no): \").lower()\n",
    "\n",
    "can_join_game = age >= 5 and has_ball == \"yes\"\n",
    "\n",
    "if can_join_game:\n",
    "    if age < 8:\n",
    "        message = \"You can play with the younger kids.\"\n",
    "    else:\n",
    "        message = \"You can play with the older kids.\"\n",
    "\n",
    "    print(f\"Great! {message}\")\n",
    "else:\n",
    "    print(\" you can't join the game yet.\")"
   ]
  }
 ],
 "metadata": {
  "kernelspec": {
   "display_name": "venv",
   "language": "python",
   "name": "python3"
  },
  "language_info": {
   "codemirror_mode": {
    "name": "ipython",
    "version": 3
   },
   "file_extension": ".py",
   "mimetype": "text/x-python",
   "name": "python",
   "nbconvert_exporter": "python",
   "pygments_lexer": "ipython3",
   "version": "3.12.3"
  }
 },
 "nbformat": 4,
 "nbformat_minor": 2
}
