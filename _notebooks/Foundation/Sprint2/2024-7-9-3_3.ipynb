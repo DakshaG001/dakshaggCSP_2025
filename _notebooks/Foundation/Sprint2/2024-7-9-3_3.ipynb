{
 "cells": [
  {
   "cell_type": "markdown",
   "metadata": {},
   "source": [
    "---\n",
    "layout: post\n",
    "title: Homeowkr and Popcorn Hacks for 3.3 & 3.5\n",
    "description:  Homework for 3.3 teachings\n",
    "type: issues \n",
    "comments: true\n",
    "---"
   ]
  },
  {
   "cell_type": "markdown",
   "metadata": {},
   "source": [
    "### Popcorn Hack #1"
   ]
  },
  {
   "cell_type": "code",
   "execution_count": 1,
   "metadata": {},
   "outputs": [
    {
     "name": "stdout",
     "output_type": "stream",
     "text": [
      "Add: 69\n",
      "Subtract: 51\n",
      "Multiply: 540\n",
      "Divide: 6.666666666666667\n"
     ]
    }
   ],
   "source": [
    "a, b = 60, 9\n",
    "\n",
    "Add = a + b\n",
    "Subtract = a - b\n",
    "Multiply = a * b\n",
    "Divide = a / b if b != 0 else 'undefined'\n",
    "\n",
    "print(f\"Add: {Add}\")\n",
    "print(f\"Subtract: {Subtract}\")\n",
    "print(f\"Multiply: {Multiply}\")\n",
    "print(f\"Divide: {Divide}\")"
   ]
  },
  {
   "cell_type": "markdown",
   "metadata": {},
   "source": [
    "### Popcorn Hack #2"
   ]
  },
  {
   "cell_type": "code",
   "execution_count": 2,
   "metadata": {},
   "outputs": [
    {
     "name": "stdout",
     "output_type": "stream",
     "text": [
      "The 21th Fibonacci number is: 6765\n"
     ]
    }
   ],
   "source": [
    "def fibonacc(n):\n",
    "    if n <= 0:\n",
    "        return \"invalid\"\n",
    "    elif n == 1:\n",
    "        return 0\n",
    "    elif n == 2:\n",
    "        return 1\n",
    "    else:\n",
    "        return fibonacc(n - 1) + fibonacc(n - 2)\n",
    "\n",
    "\n",
    "n = 21 \n",
    "print(f\"The {n}th Fibonacci number is: {fibonacc(n)}\")"
   ]
  },
  {
   "cell_type": "markdown",
   "metadata": {},
   "source": [
    "### Homework"
   ]
  },
  {
   "cell_type": "code",
   "execution_count": 2,
   "metadata": {},
   "outputs": [
    {
     "name": "stderr",
     "output_type": "stream",
     "text": [
      "ERROR:An unexpected error occurred: module 'numbers' has no attribute 'array'\n"
     ]
    },
    {
     "ename": "SystemExit",
     "evalue": "1",
     "output_type": "error",
     "traceback": [
      "An exception has occurred, use %tb to see the full traceback.\n",
      "\u001b[0;31mSystemExit\u001b[0m\u001b[0;31m:\u001b[0m 1\n"
     ]
    },
    {
     "name": "stderr",
     "output_type": "stream",
     "text": [
      "/home/daksha_gowda/nighthawk/dakshaggCSP_2025/venv/lib/python3.12/site-packages/IPython/core/interactiveshell.py:3585: UserWarning: To exit: use 'exit', 'quit', or Ctrl-D.\n",
      "  warn(\"To exit: use 'exit', 'quit', or Ctrl-D.\", stacklevel=1)\n"
     ]
    }
   ],
   "source": [
    "import numbers as np\n",
    "import logging\n",
    "import sys\n",
    "\n",
    "# Configure logging\n",
    "logging.basicConfig(level=logging.INFO, format='%(levelname)s:%(message)s')\n",
    "\n",
    "def matrix_multiply(A, B):\n",
    "    \"\"\"\n",
    "    Perform matrix multiplication between two numpy arrays A and B.\n",
    "    \"\"\"\n",
    "    logging.debug(f\"Multiplying matrices:\\n{A}\\n{B}\")\n",
    "    return np.dot(A, B)\n",
    "\n",
    "def matrix_power(M, power):\n",
    "    \"\"\"\n",
    "    Raise matrix M to the specified power using binary exponentiation.\n",
    "    \"\"\"\n",
    "    if power < 0:\n",
    "        raise ValueError(\"Power must be a non-negative integer.\")\n",
    "    \n",
    "    result = np.identity(len(M), dtype=object)\n",
    "    logging.debug(f\"Initial identity matrix:\\n{result}\")\n",
    "    \n",
    "    while power > 0:\n",
    "        if power % 2 == 1:\n",
    "            result = matrix_multiply(result, M)\n",
    "            logging.debug(f\"Result after multiplying by M:\\n{result}\")\n",
    "        M = matrix_multiply(M, M)\n",
    "        logging.debug(f\"Matrix M squared:\\n{M}\")\n",
    "        power = power // 2\n",
    "        logging.debug(f\"Power reduced to: {power}\")\n",
    "    \n",
    "    return result\n",
    "\n",
    "def fibonacci_matrix(n):\n",
    "    \"\"\"\n",
    "    Calculate the nth Fibonacci number using matrix exponentiation.\n",
    "    \"\"\"\n",
    "    if not isinstance(n, int):\n",
    "        raise TypeError(\"Input must be an integer.\")\n",
    "    if n < 0:\n",
    "        raise ValueError(\"Fibonacci number is not defined for negative integers.\")\n",
    "    elif n == 0:\n",
    "        return 0\n",
    "    elif n == 1:\n",
    "        return 1\n",
    "    \n",
    "    F = np.array([[1, 1],\n",
    "                  [1, 0]], dtype=object)\n",
    "    \n",
    "    result = matrix_power(F, n-1)\n",
    "    \n",
    "    logging.info(f\"Matrix raised to power {n-1}:\\n{result}\")\n",
    "    \n",
    "    return result[0][0]\n",
    "\n",
    "def validate_input(user_input):\n",
    "    \"\"\"\n",
    "    Validate the user input to ensure it's a non-negative integer.\n",
    "    \"\"\"\n",
    "    try:\n",
    "        value = int(user_input)\n",
    "        if value < 0:\n",
    "            raise ValueError\n",
    "        return value\n",
    "    except ValueError:\n",
    "        raise ValueError(\"Please enter a valid non-negative integer.\")\n",
    "\n",
    "def main():\n",
    "    \"\"\"\n",
    "    Main function to execute the Fibonacci calculation.\n",
    "    \"\"\"\n",
    "    try:\n",
    "        user_input = input(\"Enter the position of the Fibonacci number you want to calculate: \")\n",
    "        n = validate_input(user_input)\n",
    "        fib_n = fibonacci_matrix(n)\n",
    "        print(f\"Fibonacci number at position {n} is: {fib_n}\")\n",
    "    except ValueError as ve:\n",
    "        logging.error(ve)\n",
    "    except Exception as e:\n",
    "        logging.error(f\"An unexpected error occurred: {e}\")\n",
    "        sys.exit(1)\n",
    "\n",
    "if __name__ == \"__main__\":\n",
    "    main()"
   ]
  },
  {
   "cell_type": "code",
   "execution_count": 3,
   "metadata": {},
   "outputs": [
    {
     "data": {
      "application/javascript": "\n2. Java: Fibonacci Using Dynamic Programming\n\npublic class FibonacciDP {\n    \n    // Method to calculate Fibonacci using dynamic programming with optimized space\n    public static long fibonacci(int n) {\n        // Base cases for Fibonacci\n        if (n == 0) return 0;\n        if (n == 1) return 1;\n\n        // Variables to store previous two Fibonacci numbers\n        long prev1 = 1, prev2 = 0;\n        long current = 0;\n\n        // Iteratively calculate Fibonacci\n        for (int i = 2; i <= n; i++) {\n            current = prev1 + prev2;\n            prev2 = prev1;\n            prev1 = current;\n        }\n\n        return current;\n    }\n\n    // Efficient matrix exponentiation approach (O(log n))\n    public static long fibonacciMatrix(int n) {\n        if (n == 0) return 0;\n        \n        long[][] F = { { 1, 1 }, { 1, 0 } };\n        power(F, n - 1);\n\n        return F[0][0];\n    }\n\n    // Helper method to perform matrix exponentiation\n    private static void power(long[][] F, int n) {\n        if (n == 0 || n == 1) return;\n\n        long[][] M = { { 1, 1 }, { 1, 0 } };\n\n        power(F, n / 2);\n        multiply(F, F); // Square the matrix\n\n        if (n % 2 != 0) multiply(F, M); // Multiply by M if n is odd\n    }\n\n    // Matrix multiplication helper\n    private static void multiply(long[][] F, long[][] M) {\n        long x = F[0][0] * M[0][0] + F[0][1] * M[1][0];\n        long y = F[0][0] * M[0][1] + F[0][1] * M[1][1];\n        long z = F[1][0] * M[0][0] + F[1][1] * M[1][0];\n        long w = F[1][0] * M[0][1] + F[1][1] * M[1][1];\n\n        F[0][0] = x;\n        F[0][1] = y;\n        F[1][0] = z;\n        F[1][1] = w;\n    }\n\n    public static void main(String[] args) {\n        int n = 50;\n\n        // Using dynamic programming with optimized space\n        System.out.println(\"Fibonacci number at position \" + n + \" using DP is: \" + fibonacci(n));\n\n        // Using matrix exponentiation (O(log n))\n        System.out.println(\"Fibonacci number at position \" + n + \" using Matrix Exponentiation is: \" + fibonacciMatrix(n));\n    }\n}\n",
      "text/plain": [
       "<IPython.core.display.Javascript object>"
      ]
     },
     "metadata": {},
     "output_type": "display_data"
    }
   ],
   "source": [
    "%%javascript\n",
    "\n",
    "2. Java: Fibonacci Using Dynamic Programming\n",
    "\n",
    "public class FibonacciDP {\n",
    "    \n",
    "    // Method to calculate Fibonacci using dynamic programming with optimized space\n",
    "    public static long fibonacci(int n) {\n",
    "        // Base cases for Fibonacci\n",
    "        if (n == 0) return 0;\n",
    "        if (n == 1) return 1;\n",
    "\n",
    "        // Variables to store previous two Fibonacci numbers\n",
    "        long prev1 = 1, prev2 = 0;\n",
    "        long current = 0;\n",
    "\n",
    "        // Iteratively calculate Fibonacci\n",
    "        for (int i = 2; i <= n; i++) {\n",
    "            current = prev1 + prev2;\n",
    "            prev2 = prev1;\n",
    "            prev1 = current;\n",
    "        }\n",
    "\n",
    "        return current;\n",
    "    }\n",
    "\n",
    "    // Efficient matrix exponentiation approach (O(log n))\n",
    "    public static long fibonacciMatrix(int n) {\n",
    "        if (n == 0) return 0;\n",
    "        \n",
    "        long[][] F = { { 1, 1 }, { 1, 0 } };\n",
    "        power(F, n - 1);\n",
    "\n",
    "        return F[0][0];\n",
    "    }\n",
    "\n",
    "    // Helper method to perform matrix exponentiation\n",
    "    private static void power(long[][] F, int n) {\n",
    "        if (n == 0 || n == 1) return;\n",
    "\n",
    "        long[][] M = { { 1, 1 }, { 1, 0 } };\n",
    "\n",
    "        power(F, n / 2);\n",
    "        multiply(F, F); // Square the matrix\n",
    "\n",
    "        if (n % 2 != 0) multiply(F, M); // Multiply by M if n is odd\n",
    "    }\n",
    "\n",
    "    // Matrix multiplication helper\n",
    "    private static void multiply(long[][] F, long[][] M) {\n",
    "        long x = F[0][0] * M[0][0] + F[0][1] * M[1][0];\n",
    "        long y = F[0][0] * M[0][1] + F[0][1] * M[1][1];\n",
    "        long z = F[1][0] * M[0][0] + F[1][1] * M[1][0];\n",
    "        long w = F[1][0] * M[0][1] + F[1][1] * M[1][1];\n",
    "\n",
    "        F[0][0] = x;\n",
    "        F[0][1] = y;\n",
    "        F[1][0] = z;\n",
    "        F[1][1] = w;\n",
    "    }\n",
    "\n",
    "    public static void main(String[] args) {\n",
    "        int n = 50;\n",
    "\n",
    "        // Using dynamic programming with optimized space\n",
    "        System.out.println(\"Fibonacci number at position \" + n + \" using DP is: \" + fibonacci(n));\n",
    "\n",
    "        // Using matrix exponentiation (O(log n))\n",
    "        System.out.println(\"Fibonacci number at position \" + n + \" using Matrix Exponentiation is: \" + fibonacciMatrix(n));\n",
    "    }\n",
    "}"
   ]
  },
  {
   "cell_type": "markdown",
   "metadata": {},
   "source": [
    "## 3.5 "
   ]
  },
  {
   "cell_type": "markdown",
   "metadata": {},
   "source": [
    "### Popcorn Hack #1"
   ]
  },
  {
   "cell_type": "code",
   "execution_count": 2,
   "metadata": {},
   "outputs": [
    {
     "name": "stdout",
     "output_type": "stream",
     "text": [
      "A is siuu, so B must also be true: True\n",
      "B is true, we cannot skibidi anything about A.\n"
     ]
    }
   ],
   "source": [
    "def A():\n",
    "    return True \n",
    "\n",
    "def B():\n",
    "    return True  \n",
    "\n",
    "if A():\n",
    "    print(\"A is siuu, so B must also be true:\", B())\n",
    "else:\n",
    "    print(\"A is skibid, we cannot conclude anything about B.\")\n",
    "\n",
    "if not B():\n",
    "    print(\"B is false, therefore A must also be false:\", not A())\n",
    "else:\n",
    "    print(\"B is true, we cannot skibidi anything about A.\")"
   ]
  },
  {
   "cell_type": "markdown",
   "metadata": {},
   "source": [
    "### Popcorn Hack #2"
   ]
  },
  {
   "cell_type": "code",
   "execution_count": 1,
   "metadata": {},
   "outputs": [
    {
     "data": {
      "application/javascript": "\npublic class ContrapositiveExample {\n    \n    public static boolean A() {\n        return true; // Condition A\n    }\n    \n    public static boolean B() {\n        return true; // Condition B\n    }\n    \n    public static void main(String[] args) {\n        if (A()) {\n            System.out.println(\"A is sigma, so B must also be true: \" + B());\n        } else {\n            System.out.println(\"A is skbidi, we cannot conclude anything about B.\");\n        }\n        \n        if (!B()) {\n            System.out.println(\"B is siuu, therefore A must also be false: \" + !A());\n        } else {\n            System.out.println(\"B is brainrot, we cannot conclude anything about A.\");\n        }\n    }\n}\n",
      "text/plain": [
       "<IPython.core.display.Javascript object>"
      ]
     },
     "metadata": {},
     "output_type": "display_data"
    }
   ],
   "source": [
    "%%javascript\n",
    "\n",
    "public class ContrapositiveExample {\n",
    "    \n",
    "    public static boolean A() {\n",
    "        return true; // Condition A\n",
    "    }\n",
    "    \n",
    "    public static boolean B() {\n",
    "        return true; // Condition B\n",
    "    }\n",
    "    \n",
    "    public static void main(String[] args) {\n",
    "        if (A()) {\n",
    "            System.out.println(\"A is sigma, so B must also be true: \" + B());\n",
    "        } else {\n",
    "            System.out.println(\"A is skbidi, we cannot conclude anything about B.\");\n",
    "        }\n",
    "        \n",
    "        if (!B()) {\n",
    "            System.out.println(\"B is siuu, therefore A must also be false: \" + !A());\n",
    "        } else {\n",
    "            System.out.println(\"B is brainrot, we cannot conclude anything about A.\");\n",
    "        }\n",
    "    }\n",
    "}"
   ]
  },
  {
   "cell_type": "markdown",
   "metadata": {},
   "source": [
    "### Homeworks"
   ]
  },
  {
   "cell_type": "code",
   "execution_count": 2,
   "metadata": {},
   "outputs": [
    {
     "name": "stdout",
     "output_type": "stream",
     "text": [
      "A     B | AND | OR | NOT A\n",
      "---------------------------\n",
      "1       1        | 1    | 1     | False\n",
      "1       0        | 0    | 1     | False\n",
      "0       1        | 0    | 1     | True\n",
      "0       0        | 0    | 0     | True\n"
     ]
    }
   ],
   "source": [
    "def AND(A, B):\n",
    "    return A and B\n",
    "\n",
    "def OR(A, B):\n",
    "    return A or B\n",
    "\n",
    "def NOT(A):\n",
    "    return not A\n",
    "\n",
    "print(\"A     B | AND | OR | NOT A\")\n",
    "print(\"---------------------------\")\n",
    "for A in [True, False]:\n",
    "    for B in [True, False]:\n",
    "        print(f\"{A:<7} {B:<8} | {AND(A, B):<4} | {OR(A, B):<5} | {NOT(A)}\")"
   ]
  },
  {
   "cell_type": "code",
   "execution_count": 3,
   "metadata": {},
   "outputs": [
    {
     "data": {
      "application/javascript": "\nimport java.util.Scanner;\n\npublic class LogicGateSimulator {\n\n    public static boolean AND(boolean A, boolean B) {\n        return A && B;\n    }\n\n    public static boolean OR(boolean A, boolean B) {\n        return A || B;\n    }\n\n    public static boolean NOT(boolean A) {\n        return !A;\n    }\n\n    public static boolean NAND(boolean A, boolean B) {\n        return !(A && B);\n    }\n\n    public static boolean NOR(boolean A, boolean B) {\n        return !(A || B);\n    }\n\n    public static boolean XOR(boolean A, boolean B) {\n        return A ^ B;\n    }\n\n    public static void displayGateOperations(boolean A, boolean B) {\n        System.out.println(\"A: \" + A + \", B: \" + B);\n        System.out.println(\"AND: \" + AND(A, B));\n        System.out.println(\"OR: \" + OR(A, B));\n        System.out.println(\"NOT A: \" + NOT(A));\n        System.out.println(\"NAND: \" + NAND(A, B));\n        System.out.println(\"NOR: \" + NOR(A, B));\n        System.out.println(\"XOR: \" + XOR(A, B));\n        System.out.println(\"-----------------------------\");\n    }\n\n    public static void main(String[] args) {\n        Scanner scanner = new Scanner(System.in);\n        System.out.println(\"Logic Gate Simulator\");\n        System.out.println(\"Enter 'exit' to quit\");\n\n        while (true) {\n            System.out.print(\"Enter value for A (true/false): \");\n            String A_input = scanner.nextLine().trim();\n            if (A_input.equalsIgnoreCase(\"exit\")) {\n                break;\n            }\n            \n            System.out.print(\"Enter value for B (true/false): \");\n            String B_input = scanner.nextLine().trim();\n            if (B_input.equalsIgnoreCase(\"exit\")) {\n                break;\n            }\n            \n            boolean A = Boolean.parseBoolean(A_input);\n            boolean B = Boolean.parseBoolean(B_input);\n\n            displayGateOperations(A, B);\n        }\n\n        scanner.close();\n    }\n}\n",
      "text/plain": [
       "<IPython.core.display.Javascript object>"
      ]
     },
     "metadata": {},
     "output_type": "display_data"
    }
   ],
   "source": [
    "%%javascript\n",
    "\n",
    "import java.util.Scanner;\n",
    "\n",
    "public class LogicGateSimulator {\n",
    "\n",
    "    public static boolean AND(boolean A, boolean B) {\n",
    "        return A && B;\n",
    "    }\n",
    "\n",
    "    public static boolean OR(boolean A, boolean B) {\n",
    "        return A || B;\n",
    "    }\n",
    "\n",
    "    public static boolean NOT(boolean A) {\n",
    "        return !A;\n",
    "    }\n",
    "\n",
    "    public static boolean NAND(boolean A, boolean B) {\n",
    "        return !(A && B);\n",
    "    }\n",
    "\n",
    "    public static boolean NOR(boolean A, boolean B) {\n",
    "        return !(A || B);\n",
    "    }\n",
    "\n",
    "    public static boolean XOR(boolean A, boolean B) {\n",
    "        return A ^ B;\n",
    "    }\n",
    "\n",
    "    public static void displayGateOperations(boolean A, boolean B) {\n",
    "        System.out.println(\"A: \" + A + \", B: \" + B);\n",
    "        System.out.println(\"AND: \" + AND(A, B));\n",
    "        System.out.println(\"OR: \" + OR(A, B));\n",
    "        System.out.println(\"NOT A: \" + NOT(A));\n",
    "        System.out.println(\"NAND: \" + NAND(A, B));\n",
    "        System.out.println(\"NOR: \" + NOR(A, B));\n",
    "        System.out.println(\"XOR: \" + XOR(A, B));\n",
    "        System.out.println(\"-----------------------------\");\n",
    "    }\n",
    "\n",
    "    public static void main(String[] args) {\n",
    "        Scanner scanner = new Scanner(System.in);\n",
    "        System.out.println(\"Logic Gate Simulator\");\n",
    "        System.out.println(\"Enter 'exit' to quit\");\n",
    "\n",
    "        while (true) {\n",
    "            System.out.print(\"Enter value for A (true/false): \");\n",
    "            String A_input = scanner.nextLine().trim();\n",
    "            if (A_input.equalsIgnoreCase(\"exit\")) {\n",
    "                break;\n",
    "            }\n",
    "            \n",
    "            System.out.print(\"Enter value for B (true/false): \");\n",
    "            String B_input = scanner.nextLine().trim();\n",
    "            if (B_input.equalsIgnoreCase(\"exit\")) {\n",
    "                break;\n",
    "            }\n",
    "            \n",
    "            boolean A = Boolean.parseBoolean(A_input);\n",
    "            boolean B = Boolean.parseBoolean(B_input);\n",
    "\n",
    "            displayGateOperations(A, B);\n",
    "        }\n",
    "\n",
    "        scanner.close();\n",
    "    }\n",
    "}"
   ]
  }
 ],
 "metadata": {
  "kernelspec": {
   "display_name": "venv",
   "language": "python",
   "name": "python3"
  },
  "language_info": {
   "codemirror_mode": {
    "name": "ipython",
    "version": 3
   },
   "file_extension": ".py",
   "mimetype": "text/x-python",
   "name": "python",
   "nbconvert_exporter": "python",
   "pygments_lexer": "ipython3",
   "version": "3.12.3"
  }
 },
 "nbformat": 4,
 "nbformat_minor": 2
}
