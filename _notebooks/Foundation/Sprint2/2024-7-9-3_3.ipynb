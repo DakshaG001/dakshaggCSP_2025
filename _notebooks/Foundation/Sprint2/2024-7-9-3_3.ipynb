{
 "cells": [
  {
   "cell_type": "markdown",
   "metadata": {},
   "source": [
    "---\n",
    "layout: post\n",
    "title: 3.3 Homework\n",
    "description:  Homework for 3.3 teachings\n",
    "type: issues \n",
    "comments: true\n",
    "---"
   ]
  },
  {
   "cell_type": "markdown",
   "metadata": {},
   "source": [
    "### Popcorn Hack #1"
   ]
  },
  {
   "cell_type": "code",
   "execution_count": 1,
   "metadata": {},
   "outputs": [
    {
     "name": "stdout",
     "output_type": "stream",
     "text": [
      "Add: 69\n",
      "Subtract: 51\n",
      "Multiply: 540\n",
      "Divide: 6.666666666666667\n"
     ]
    }
   ],
   "source": [
    "a, b = 60, 9\n",
    "\n",
    "Add = a + b\n",
    "Subtract = a - b\n",
    "Multiply = a * b\n",
    "Divide = a / b if b != 0 else 'undefined'\n",
    "\n",
    "print(f\"Add: {Add}\")\n",
    "print(f\"Subtract: {Subtract}\")\n",
    "print(f\"Multiply: {Multiply}\")\n",
    "print(f\"Divide: {Divide}\")"
   ]
  },
  {
   "cell_type": "markdown",
   "metadata": {},
   "source": [
    "### Popcorn Hack #2"
   ]
  },
  {
   "cell_type": "code",
   "execution_count": 2,
   "metadata": {},
   "outputs": [
    {
     "name": "stdout",
     "output_type": "stream",
     "text": [
      "The 21th Fibonacci number is: 6765\n"
     ]
    }
   ],
   "source": [
    "def fibonacc(n):\n",
    "    if n <= 0:\n",
    "        return \"invalid\"\n",
    "    elif n == 1:\n",
    "        return 0\n",
    "    elif n == 2:\n",
    "        return 1\n",
    "    else:\n",
    "        return fibonacc(n - 1) + fibonacc(n - 2)\n",
    "\n",
    "\n",
    "n = 21 \n",
    "print(f\"The {n}th Fibonacci number is: {fibonacc(n)}\")"
   ]
  },
  {
   "cell_type": "markdown",
   "metadata": {},
   "source": [
    "## 3.5 "
   ]
  },
  {
   "cell_type": "markdown",
   "metadata": {},
   "source": [
    "### Popcorn Hack #1"
   ]
  },
  {
   "cell_type": "code",
   "execution_count": 2,
   "metadata": {},
   "outputs": [
    {
     "name": "stdout",
     "output_type": "stream",
     "text": [
      "A is siuu, so B must also be true: True\n",
      "B is true, we cannot skibidi anything about A.\n"
     ]
    }
   ],
   "source": [
    "def A():\n",
    "    return True \n",
    "\n",
    "def B():\n",
    "    return True  \n",
    "\n",
    "if A():\n",
    "    print(\"A is siuu, so B must also be true:\", B())\n",
    "else:\n",
    "    print(\"A is skibid, we cannot conclude anything about B.\")\n",
    "\n",
    "if not B():\n",
    "    print(\"B is false, therefore A must also be false:\", not A())\n",
    "else:\n",
    "    print(\"B is true, we cannot skibidi anything about A.\")"
   ]
  },
  {
   "cell_type": "markdown",
   "metadata": {},
   "source": [
    "### Popcorn Hack #2"
   ]
  },
  {
   "cell_type": "code",
   "execution_count": 1,
   "metadata": {},
   "outputs": [
    {
     "data": {
      "application/javascript": "\npublic class ContrapositiveExample {\n    \n    public static boolean A() {\n        return true; // Condition A\n    }\n    \n    public static boolean B() {\n        return true; // Condition B\n    }\n    \n    public static void main(String[] args) {\n        if (A()) {\n            System.out.println(\"A is sigma, so B must also be true: \" + B());\n        } else {\n            System.out.println(\"A is skbidi, we cannot conclude anything about B.\");\n        }\n        \n        if (!B()) {\n            System.out.println(\"B is siuu, therefore A must also be false: \" + !A());\n        } else {\n            System.out.println(\"B is brainrot, we cannot conclude anything about A.\");\n        }\n    }\n}\n",
      "text/plain": [
       "<IPython.core.display.Javascript object>"
      ]
     },
     "metadata": {},
     "output_type": "display_data"
    }
   ],
   "source": [
    "%%javascript\n",
    "\n",
    "public class ContrapositiveExample {\n",
    "    \n",
    "    public static boolean A() {\n",
    "        return true; // Condition A\n",
    "    }\n",
    "    \n",
    "    public static boolean B() {\n",
    "        return true; // Condition B\n",
    "    }\n",
    "    \n",
    "    public static void main(String[] args) {\n",
    "        if (A()) {\n",
    "            System.out.println(\"A is sigma, so B must also be true: \" + B());\n",
    "        } else {\n",
    "            System.out.println(\"A is skbidi, we cannot conclude anything about B.\");\n",
    "        }\n",
    "        \n",
    "        if (!B()) {\n",
    "            System.out.println(\"B is siuu, therefore A must also be false: \" + !A());\n",
    "        } else {\n",
    "            System.out.println(\"B is brainrot, we cannot conclude anything about A.\");\n",
    "        }\n",
    "    }\n",
    "}"
   ]
  },
  {
   "cell_type": "markdown",
   "metadata": {},
   "source": [
    "### Homeworks"
   ]
  },
  {
   "cell_type": "code",
   "execution_count": 2,
   "metadata": {},
   "outputs": [
    {
     "name": "stdout",
     "output_type": "stream",
     "text": [
      "A     B | AND | OR | NOT A\n",
      "---------------------------\n",
      "1       1        | 1    | 1     | False\n",
      "1       0        | 0    | 1     | False\n",
      "0       1        | 0    | 1     | True\n",
      "0       0        | 0    | 0     | True\n"
     ]
    }
   ],
   "source": [
    "def AND(A, B):\n",
    "    return A and B\n",
    "\n",
    "def OR(A, B):\n",
    "    return A or B\n",
    "\n",
    "def NOT(A):\n",
    "    return not A\n",
    "\n",
    "print(\"A     B | AND | OR | NOT A\")\n",
    "print(\"---------------------------\")\n",
    "for A in [True, False]:\n",
    "    for B in [True, False]:\n",
    "        print(f\"{A:<7} {B:<8} | {AND(A, B):<4} | {OR(A, B):<5} | {NOT(A)}\")"
   ]
  },
  {
   "cell_type": "code",
   "execution_count": 3,
   "metadata": {},
   "outputs": [
    {
     "data": {
      "application/javascript": "\nimport java.util.Scanner;\n\npublic class LogicGateSimulator {\n\n    public static boolean AND(boolean A, boolean B) {\n        return A && B;\n    }\n\n    public static boolean OR(boolean A, boolean B) {\n        return A || B;\n    }\n\n    public static boolean NOT(boolean A) {\n        return !A;\n    }\n\n    public static boolean NAND(boolean A, boolean B) {\n        return !(A && B);\n    }\n\n    public static boolean NOR(boolean A, boolean B) {\n        return !(A || B);\n    }\n\n    public static boolean XOR(boolean A, boolean B) {\n        return A ^ B;\n    }\n\n    public static void displayGateOperations(boolean A, boolean B) {\n        System.out.println(\"A: \" + A + \", B: \" + B);\n        System.out.println(\"AND: \" + AND(A, B));\n        System.out.println(\"OR: \" + OR(A, B));\n        System.out.println(\"NOT A: \" + NOT(A));\n        System.out.println(\"NAND: \" + NAND(A, B));\n        System.out.println(\"NOR: \" + NOR(A, B));\n        System.out.println(\"XOR: \" + XOR(A, B));\n        System.out.println(\"-----------------------------\");\n    }\n\n    public static void main(String[] args) {\n        Scanner scanner = new Scanner(System.in);\n        System.out.println(\"Logic Gate Simulator\");\n        System.out.println(\"Enter 'exit' to quit\");\n\n        while (true) {\n            System.out.print(\"Enter value for A (true/false): \");\n            String A_input = scanner.nextLine().trim();\n            if (A_input.equalsIgnoreCase(\"exit\")) {\n                break;\n            }\n            \n            System.out.print(\"Enter value for B (true/false): \");\n            String B_input = scanner.nextLine().trim();\n            if (B_input.equalsIgnoreCase(\"exit\")) {\n                break;\n            }\n            \n            boolean A = Boolean.parseBoolean(A_input);\n            boolean B = Boolean.parseBoolean(B_input);\n\n            displayGateOperations(A, B);\n        }\n\n        scanner.close();\n    }\n}\n",
      "text/plain": [
       "<IPython.core.display.Javascript object>"
      ]
     },
     "metadata": {},
     "output_type": "display_data"
    }
   ],
   "source": [
    "%%javascript\n",
    "\n",
    "import java.util.Scanner;\n",
    "\n",
    "public class LogicGateSimulator {\n",
    "\n",
    "    public static boolean AND(boolean A, boolean B) {\n",
    "        return A && B;\n",
    "    }\n",
    "\n",
    "    public static boolean OR(boolean A, boolean B) {\n",
    "        return A || B;\n",
    "    }\n",
    "\n",
    "    public static boolean NOT(boolean A) {\n",
    "        return !A;\n",
    "    }\n",
    "\n",
    "    public static boolean NAND(boolean A, boolean B) {\n",
    "        return !(A && B);\n",
    "    }\n",
    "\n",
    "    public static boolean NOR(boolean A, boolean B) {\n",
    "        return !(A || B);\n",
    "    }\n",
    "\n",
    "    public static boolean XOR(boolean A, boolean B) {\n",
    "        return A ^ B;\n",
    "    }\n",
    "\n",
    "    public static void displayGateOperations(boolean A, boolean B) {\n",
    "        System.out.println(\"A: \" + A + \", B: \" + B);\n",
    "        System.out.println(\"AND: \" + AND(A, B));\n",
    "        System.out.println(\"OR: \" + OR(A, B));\n",
    "        System.out.println(\"NOT A: \" + NOT(A));\n",
    "        System.out.println(\"NAND: \" + NAND(A, B));\n",
    "        System.out.println(\"NOR: \" + NOR(A, B));\n",
    "        System.out.println(\"XOR: \" + XOR(A, B));\n",
    "        System.out.println(\"-----------------------------\");\n",
    "    }\n",
    "\n",
    "    public static void main(String[] args) {\n",
    "        Scanner scanner = new Scanner(System.in);\n",
    "        System.out.println(\"Logic Gate Simulator\");\n",
    "        System.out.println(\"Enter 'exit' to quit\");\n",
    "\n",
    "        while (true) {\n",
    "            System.out.print(\"Enter value for A (true/false): \");\n",
    "            String A_input = scanner.nextLine().trim();\n",
    "            if (A_input.equalsIgnoreCase(\"exit\")) {\n",
    "                break;\n",
    "            }\n",
    "            \n",
    "            System.out.print(\"Enter value for B (true/false): \");\n",
    "            String B_input = scanner.nextLine().trim();\n",
    "            if (B_input.equalsIgnoreCase(\"exit\")) {\n",
    "                break;\n",
    "            }\n",
    "            \n",
    "            boolean A = Boolean.parseBoolean(A_input);\n",
    "            boolean B = Boolean.parseBoolean(B_input);\n",
    "\n",
    "            displayGateOperations(A, B);\n",
    "        }\n",
    "\n",
    "        scanner.close();\n",
    "    }\n",
    "}"
   ]
  }
 ],
 "metadata": {
  "kernelspec": {
   "display_name": "Python 3 (ipykernel)",
   "language": "python",
   "name": "python3"
  },
  "language_info": {
   "codemirror_mode": {
    "name": "ipython",
    "version": 3
   },
   "file_extension": ".py",
   "mimetype": "text/x-python",
   "name": "python",
   "nbconvert_exporter": "python",
   "pygments_lexer": "ipython3",
   "version": "3.12.3"
  }
 },
 "nbformat": 4,
 "nbformat_minor": 2
}
