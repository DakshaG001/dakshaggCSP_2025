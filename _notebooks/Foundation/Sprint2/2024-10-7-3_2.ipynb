{
 "cells": [
  {
   "cell_type": "markdown",
   "metadata": {},
   "source": [
    "---\n",
    "layout: post\n",
    "title: Homework and Popcorn Hacks for 3.2\n",
    "description:  Homework for 3.2 teachings\n",
    "type: issues \n",
    "comments: true\n",
    "---"
   ]
  },
  {
   "cell_type": "markdown",
   "metadata": {},
   "source": [
    "### Popcorn Hack #1"
   ]
  },
  {
   "cell_type": "code",
   "execution_count": 1,
   "metadata": {},
   "outputs": [
    {
     "name": "stdout",
     "output_type": "stream",
     "text": [
      "1\n"
     ]
    }
   ],
   "source": [
    "bestDictionaryEver = {\"porsche\": 1, \"mclaren\": 2, \"koenigsegg \": 3}\n",
    "print(bestDictionaryEver[\"porsche\"]) "
   ]
  },
  {
   "cell_type": "markdown",
   "metadata": {},
   "source": [
    "### Popcorn Hack #2"
   ]
  },
  {
   "cell_type": "code",
   "execution_count": 5,
   "metadata": {},
   "outputs": [],
   "source": [
    "firstNumber = input(\"Please Enter the First Number Here: \")\n",
    "secondNumber = input(\"Please Enter the Second Number Here: \")\n",
    "mathFunction = input(\"Please Enter the function here: \")\n",
    "if mathFunction == \"+\":\n",
    "    print(firstNumber + secondNumber)\n",
    "elif mathFunction == \"-\":\n",
    "    print(firstNumber - secondNumber)\n",
    "elif mathFunction == \"*\":\n",
    "    print(firstNumber * secondNumber)\n",
    "elif mathFunction == \"/\":\n",
    "    print(firstNumber / secondNumber)"
   ]
  },
  {
   "cell_type": "markdown",
   "metadata": {},
   "source": [
    "### Popcorn Hack #3"
   ]
  },
  {
   "cell_type": "code",
   "execution_count": 6,
   "metadata": {},
   "outputs": [
    {
     "name": "stdout",
     "output_type": "stream",
     "text": [
      "['unounouno', 'dosdosdos', 'trestrestres']\n"
     ]
    }
   ],
   "source": [
    "def repeat_strings_in_list(strings, n): \n",
    "    result = [] \n",
    "    for string in strings:\n",
    "        result.append(string * n) \n",
    "    return result\n",
    "\n",
    "string_list = [\"uno\", \"dos\", \"tres\"]\n",
    "print(repeat_strings_in_list(string_list, 3))"
   ]
  },
  {
   "cell_type": "markdown",
   "metadata": {},
   "source": [
    "### Popcorn Hack #4"
   ]
  },
  {
   "cell_type": "markdown",
   "metadata": {},
   "source": [
    "### Homework 1"
   ]
  },
  {
   "cell_type": "code",
   "execution_count": 8,
   "metadata": {},
   "outputs": [
    {
     "name": "stdout",
     "output_type": "stream",
     "text": [
      "Profile: {'name': 'Daksha', 'age': 16, 'city': 'San Diego', 'favorite_color': 'white'}\n"
     ]
    }
   ],
   "source": [
    "profile = {\n",
    "    \"name\": \"Daksha\",\n",
    "    \"age\": 16,\n",
    "    \"city\": \"San Diego\",\n",
    "    \"favorite_color\": \"white\"\n",
    "}\n",
    "print(\"Profile:\", profile)"
   ]
  },
  {
   "cell_type": "markdown",
   "metadata": {},
   "source": [
    "### Homeowkr 2"
   ]
  },
  {
   "cell_type": "code",
   "execution_count": 9,
   "metadata": {},
   "outputs": [
    {
     "name": "stdout",
     "output_type": "stream",
     "text": [
      "Hobbies: ['Efootball', 'sports', 'sparring']\n"
     ]
    }
   ],
   "source": [
    "hobbies = [\"Efootball\", \"sports\", \"sparring\"]\n",
    "print(\"Hobbies:\", hobbies)"
   ]
  },
  {
   "cell_type": "markdown",
   "metadata": {},
   "source": [
    "### Homeowkr 3"
   ]
  },
  {
   "cell_type": "code",
   "execution_count": 10,
   "metadata": {},
   "outputs": [
    {
     "name": "stdout",
     "output_type": "stream",
     "text": [
      "Updated Profile: {'name': 'Daksha', 'age': 16, 'city': 'San Diego', 'favorite_color': 'white', 'hobbies': ['Efootball', 'sports', 'sparring']}\n"
     ]
    }
   ],
   "source": [
    "profile[\"hobbies\"] = hobbies\n",
    "print(\"Updated Profile:\", profile)"
   ]
  },
  {
   "cell_type": "markdown",
   "metadata": {},
   "source": [
    "### Homework 4"
   ]
  },
  {
   "cell_type": "code",
   "execution_count": 11,
   "metadata": {},
   "outputs": [
    {
     "name": "stdout",
     "output_type": "stream",
     "text": [
      "Is Efootball available today? True\n"
     ]
    }
   ],
   "source": [
    "has_hobby = True \n",
    "print(f\"Is {hobbies[0]} available today? {has_hobby}\")"
   ]
  },
  {
   "cell_type": "markdown",
   "metadata": {},
   "source": [
    "### Homework 5"
   ]
  },
  {
   "cell_type": "code",
   "execution_count": 12,
   "metadata": {},
   "outputs": [
    {
     "name": "stdout",
     "output_type": "stream",
     "text": [
      "I have 3 hobbies.\n"
     ]
    }
   ],
   "source": [
    "total_hobbies = len(hobbies)\n",
    "print(f\"I have {total_hobbies} hobbies.\")"
   ]
  },
  {
   "cell_type": "markdown",
   "metadata": {},
   "source": [
    "### Homework 6"
   ]
  },
  {
   "cell_type": "code",
   "execution_count": 13,
   "metadata": {},
   "outputs": [
    {
     "name": "stdout",
     "output_type": "stream",
     "text": [
      "Favorite Hobbies: ('Sports', 'TV')\n"
     ]
    }
   ],
   "source": [
    "favorite_hobbies = (\"Sports\", \"TV\")\n",
    "print(\"Favorite Hobbies:\", favorite_hobbies)"
   ]
  },
  {
   "cell_type": "markdown",
   "metadata": {},
   "source": [
    "### Homework 7"
   ]
  },
  {
   "cell_type": "code",
   "execution_count": 14,
   "metadata": {},
   "outputs": [
    {
     "name": "stdout",
     "output_type": "stream",
     "text": [
      "Skills: {'Sleeping', 'Fighting', 'Cooking'}\n"
     ]
    }
   ],
   "source": [
    "skills = {\"Cooking\", \"Fighting\", \"Sleeping\"}\n",
    "print(\"Skills:\", skills)"
   ]
  },
  {
   "cell_type": "markdown",
   "metadata": {},
   "source": [
    "### Homework 8"
   ]
  },
  {
   "cell_type": "code",
   "execution_count": 17,
   "metadata": {},
   "outputs": [
    {
     "name": "stdout",
     "output_type": "stream",
     "text": [
      "New Skill: None\n"
     ]
    }
   ],
   "source": [
    "new_skill = None\n",
    "print(\"New Skill:\", new_skill)"
   ]
  },
  {
   "cell_type": "markdown",
   "metadata": {},
   "source": [
    "### Homework 9"
   ]
  },
  {
   "cell_type": "code",
   "execution_count": 20,
   "metadata": {},
   "outputs": [
    {
     "name": "stdout",
     "output_type": "stream",
     "text": [
      "Total cost to pursue hobbies and skills: $42.00\n"
     ]
    }
   ],
   "source": [
    "total_cost = float(total_hobbies * 8 + len(skills) * 6)\n",
    "print(f\"Total cost to pursue hobbies and skills: ${total_cost:.2f}\")"
   ]
  }
 ],
 "metadata": {
  "kernelspec": {
   "display_name": "venv",
   "language": "python",
   "name": "python3"
  },
  "language_info": {
   "codemirror_mode": {
    "name": "ipython",
    "version": 3
   },
   "file_extension": ".py",
   "mimetype": "text/x-python",
   "name": "python",
   "nbconvert_exporter": "python",
   "pygments_lexer": "ipython3",
   "version": "3.12.3"
  }
 },
 "nbformat": 4,
 "nbformat_minor": 2
}
