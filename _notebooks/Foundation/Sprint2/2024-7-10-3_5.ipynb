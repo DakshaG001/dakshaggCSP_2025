{
 "cells": [
  {
   "cell_type": "markdown",
   "metadata": {},
   "source": [
    "---\n",
    "layout: post\n",
    "title: 3.5 Homework\n",
    "description:  Homework for 3.5 teachings\n",
    "type: issues \n",
    "comments: true\n",
    "---"
   ]
  },
  {
   "cell_type": "markdown",
   "metadata": {},
   "source": [
    "### Popcorn Hack #1"
   ]
  },
  {
   "cell_type": "code",
   "execution_count": 1,
   "metadata": {},
   "outputs": [
    {
     "name": "stdout",
     "output_type": "stream",
     "text": [
      "If one is skibidi then idk: True\n",
      "B is true, we cannot conclude anything about A.\n"
     ]
    }
   ],
   "source": [
    "def A():\n",
    "    return True  # Condition A\n",
    "\n",
    "def B():\n",
    "    return True  # Condition B\n",
    "\n",
    "# Original statement: if A then B\n",
    "if A():\n",
    "    print(\"If one is skibidi then idk:\", B())\n",
    "else:\n",
    "    print(\"siuuuu if a is posiive.\")\n",
    "\n",
    "# Contrapositive: if not B then not A\n",
    "if not B():\n",
    "    print(\"B is false, therefore A must also be false:\", not A())\n",
    "else:\n",
    "    print(\"B is true, we cannot conclude anything about A.\")"
   ]
  },
  {
   "cell_type": "markdown",
   "metadata": {},
   "source": [
    "### Popcorn Hack #2"
   ]
  },
  {
   "cell_type": "code",
   "execution_count": 2,
   "metadata": {},
   "outputs": [
    {
     "data": {
      "application/javascript": "\npublic class ContrapositiveExample {\n    \n    public static boolean A() {\n        return true; // Condition A\n    }\n    \n    public static boolean B() {\n        return true; // Condition B\n    }\n    \n    public static void main(String[] args) {\n        // Original statement: if A then B\n        if (A()) {\n            System.out.println(\"A is true, so B must also be true: \" + B());\n        } else {\n            System.out.println(\"A is false, we cannot conclude anything about B.\");\n        }\n        \n        // Contrapositive: if not B then not A\n        if (!B()) {\n            System.out.println(\"B is false, therefore A must also be false: \" + !A());\n        } else {\n            System.out.println(\"B is true, we cannot conclude anything about A.\");\n        }\n    }\n}\n",
      "text/plain": [
       "<IPython.core.display.Javascript object>"
      ]
     },
     "metadata": {},
     "output_type": "display_data"
    }
   ],
   "source": [
    "%%javascript\n",
    "\n",
    "public class ContrapositiveExample {\n",
    "    \n",
    "    public static boolean A() {\n",
    "        return true; // Condition A\n",
    "    }\n",
    "    \n",
    "    public static boolean B() {\n",
    "        return true; // Condition B\n",
    "    }\n",
    "    \n",
    "    public static void main(String[] args) {\n",
    "        // Original statement: if A then B\n",
    "        if (A()) {\n",
    "            System.out.println(\"A is true, so B must also be true: \" + B());\n",
    "        } else {\n",
    "            System.out.println(\"A is false, we cannot conclude anything about B.\");\n",
    "        }\n",
    "        \n",
    "        // Contrapositive: if not B then not A\n",
    "        if (!B()) {\n",
    "            System.out.println(\"B is false, therefore A must also be false: \" + !A());\n",
    "        } else {\n",
    "            System.out.println(\"B is true, we cannot conclude anything about A.\");\n",
    "        }\n",
    "    }\n",
    "}\n"
   ]
  },
  {
   "cell_type": "markdown",
   "metadata": {},
   "source": [
    "### Homework 1"
   ]
  },
  {
   "cell_type": "code",
   "execution_count": 4,
   "metadata": {},
   "outputs": [
    {
     "name": "stdout",
     "output_type": "stream",
     "text": [
      "A     B | AND | OR | NOT A\n",
      "---------------------------\n",
      "1       1        | 1    | 1     | False\n",
      "1       0        | 0    | 1     | False\n",
      "0       1        | 0    | 1     | True\n",
      "0       0        | 0    | 0     | True\n"
     ]
    }
   ],
   "source": [
    "def AND(A, B):\n",
    "    return A and B\n",
    "\n",
    "def OR(A, B):\n",
    "    return A or B\n",
    "\n",
    "def NOT(A):\n",
    "    return not A\n",
    "\n",
    "print(\"A     B | AND | OR | NOT A\")\n",
    "print(\"---------------------------\")\n",
    "for A in [True, False]:\n",
    "    for B in [True, False]:\n",
    "        print(f\"{A:<7} {B:<8} | {AND(A, B):<4} | {OR(A, B):<5} | {NOT(A)}\")"
   ]
  },
  {
   "cell_type": "markdown",
   "metadata": {},
   "source": [
    "### Homework 2"
   ]
  },
  {
   "cell_type": "code",
   "execution_count": 5,
   "metadata": {},
   "outputs": [
    {
     "data": {
      "application/javascript": "\nimport java.util.Scanner;\n\npublic class LogicGateSimulator {\n\n    // Define logic gate functions\n    public static boolean AND(boolean A, boolean B) {\n        return A && B;\n    }\n\n    public static boolean OR(boolean A, boolean B) {\n        return A || B;\n    }\n\n    public static boolean NOT(boolean A) {\n        return !A;\n    }\n\n    public static boolean NAND(boolean A, boolean B) {\n        return !(A && B);\n    }\n\n    public static boolean NOR(boolean A, boolean B) {\n        return !(A || B);\n    }\n\n    public static boolean XOR(boolean A, boolean B) {\n        return A ^ B;\n    }\n\n    // Display the results of the logic gates\n    public static void displayGateOperations(boolean A, boolean B) {\n        System.out.println(\"A: \" + A + \", B: \" + B);\n        System.out.println(\"AND: \" + AND(A, B));\n        System.out.println(\"OR: \" + OR(A, B));\n        System.out.println(\"NOT A: \" + NOT(A));\n        System.out.println(\"NAND: \" + NAND(A, B));\n        System.out.println(\"NOR: \" + NOR(A, B));\n        System.out.println(\"XOR: \" + XOR(A, B));\n        System.out.println(\"-----------------------------\");\n    }\n\n    public static void main(String[] args) {\n        Scanner scanner = new Scanner(System.in);\n        System.out.println(\"Logic Gate Simulator\");\n        System.out.println(\"Enter 'exit' to quit\");\n\n        while (true) {\n            System.out.print(\"Enter value for A (true/false): \");\n            String A_input = scanner.nextLine().trim();\n            if (A_input.equalsIgnoreCase(\"exit\")) {\n                break;\n            }\n            \n            System.out.print(\"Enter value for B (true/false): \");\n            String B_input = scanner.nextLine().trim();\n            if (B_input.equalsIgnoreCase(\"exit\")) {\n                break;\n            }\n            \n            // Convert inputs to boolean\n            boolean A = Boolean.parseBoolean(A_input);\n            boolean B = Boolean.parseBoolean(B_input);\n\n            // Display the results\n            displayGateOperations(A, B);\n        }\n\n        scanner.close();\n    }\n}\n",
      "text/plain": [
       "<IPython.core.display.Javascript object>"
      ]
     },
     "metadata": {},
     "output_type": "display_data"
    }
   ],
   "source": [
    "%%javascript\n",
    "\n",
    "import java.util.Scanner;\n",
    "\n",
    "public class LogicGateSimulator {\n",
    "\n",
    "    public static boolean AND(boolean A, boolean B) {\n",
    "        return A && B;\n",
    "    }\n",
    "\n",
    "    public static boolean OR(boolean A, boolean B) {\n",
    "        return A || B;\n",
    "    }\n",
    "\n",
    "    public static boolean NOT(boolean A) {\n",
    "        return !A;\n",
    "    }\n",
    "\n",
    "    public static boolean NAND(boolean A, boolean B) {\n",
    "        return !(A && B);\n",
    "    }\n",
    "\n",
    "    public static boolean NOR(boolean A, boolean B) {\n",
    "        return !(A || B);\n",
    "    }\n",
    "\n",
    "    public static boolean XOR(boolean A, boolean B) {\n",
    "        return A ^ B;\n",
    "    }\n",
    "\n",
    "    public static void displayGateOperations(boolean A, boolean B) {\n",
    "        System.out.println(\"A: \" + A + \", B: \" + B);\n",
    "        System.out.println(\"AND: \" + AND(A, B));\n",
    "        System.out.println(\"OR: \" + OR(A, B));\n",
    "        System.out.println(\"NOT A: \" + NOT(A));\n",
    "        System.out.println(\"NAND: \" + NAND(A, B));\n",
    "        System.out.println(\"NOR: \" + NOR(A, B));\n",
    "        System.out.println(\"XOR: \" + XOR(A, B));\n",
    "        System.out.println(\"-----------------------------\");\n",
    "    }\n",
    "\n",
    "    public static void main(String[] args) {\n",
    "        Scanner scanner = new Scanner(System.in);\n",
    "        System.out.println(\"Logic Gate Simulator\");\n",
    "        System.out.println(\"Enter 'exit' to quit\");\n",
    "\n",
    "        while (true) {\n",
    "            System.out.print(\"Enter value for A (true/false): \");\n",
    "            String A_input = scanner.nextLine().trim();\n",
    "            if (A_input.equalsIgnoreCase(\"exit\")) {\n",
    "                break;\n",
    "            }\n",
    "            \n",
    "            System.out.print(\"Enter value for B (true/false): \");\n",
    "            String B_input = scanner.nextLine().trim();\n",
    "            if (B_input.equalsIgnoreCase(\"exit\")) {\n",
    "                break;\n",
    "            }\n",
    "            \n",
    "            boolean A = Boolean.parseBoolean(A_input);\n",
    "            boolean B = Boolean.parseBoolean(B_input);\n",
    "\n",
    "            displayGateOperations(A, B);\n",
    "        }\n",
    "\n",
    "        scanner.close();\n",
    "    }\n",
    "}"
   ]
  }
 ],
 "metadata": {
  "kernelspec": {
   "display_name": "venv",
   "language": "python",
   "name": "python3"
  },
  "language_info": {
   "codemirror_mode": {
    "name": "ipython",
    "version": 3
   },
   "file_extension": ".py",
   "mimetype": "text/x-python",
   "name": "python",
   "nbconvert_exporter": "python",
   "pygments_lexer": "ipython3",
   "version": "3.12.3"
  }
 },
 "nbformat": 4,
 "nbformat_minor": 2
}
