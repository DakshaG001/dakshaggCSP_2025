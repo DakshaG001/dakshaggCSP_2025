{
 "cells": [
  {
   "cell_type": "markdown",
   "metadata": {
    "vscode": {
     "languageId": "plaintext"
    }
   },
   "source": [
    "---\n",
    "layout: post\n",
    "title: Sprint Summaries\n",
    "description:  Summary of Sprint 1 2 and 3\n",
    "type: issues \n",
    "comments: true\n",
    "---"
   ]
  },
  {
   "cell_type": "markdown",
   "metadata": {
    "vscode": {
     "languageId": "plaintext"
    }
   },
   "source": [
    "# Sprint 1 \n",
    "\n",
    "### Collabs\n",
    "- Worked together with a team for the first time on multiple projects\n",
    "- improved my ability to work in a team\n",
    "\n",
    "### Project\n",
    "- was able to complete my about me and add a 3 games to my site\n",
    "- learned various tools I could use and improved coding skills\n",
    "\n",
    "# Sprint 2\n",
    "\n",
    "### Collabs\n",
    "- learned how to work on a site with a group of members\n",
    "- learned how to make git pulls and push\n",
    "\n",
    "### Homework\n",
    "- Learned a variety of new tools I could use to develop new games and Ui's and such\n",
    "- Learned different definitions, improved my coding skills, and practiced using things like elifs and booleans\n",
    "\n",
    "### Project\n",
    "- Incorporated what I learned to change the front page of my site, including the sass\n",
    "- Made a working Blackjack game based on the Homework hacks and popcorn hacks\n",
    "\n",
    "# Sprint 3\n",
    "\n",
    "### Collabs\n",
    "- Worked with a team to present a site with a unique purpose\n",
    "\n",
    "### Frontend\n",
    "- made a working frontend that helps people find recipes\n",
    "-also helps people choose ingredients to choose\n",
    "-changed the style of the page to look unique\n",
    "-added custom buttons to the page improving its uniqueness and overall look\n",
    "\n",
    "### Backend\n",
    "- moderated what the team members did and made sure they finished on task (they did)\n",
    "\n"
   ]
  }
 ],
 "metadata": {
  "language_info": {
   "name": "python"
  }
 },
 "nbformat": 4,
 "nbformat_minor": 2
}
