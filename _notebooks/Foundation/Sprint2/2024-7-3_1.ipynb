{
 "cells": [
  {
   "cell_type": "markdown",
   "metadata": {},
   "source": [
    "---\n",
    "layout: post\n",
    "title: 3.1 Homework\n",
    "description:  Homework for 3.1 teachings\n",
    "type: issues \n",
    "comments: true\n",
    "---"
   ]
  },
  {
   "cell_type": "markdown",
   "metadata": {},
   "source": [
    "### Popcorn Hack 1"
   ]
  },
  {
   "cell_type": "code",
   "execution_count": 1,
   "metadata": {},
   "outputs": [
    {
     "data": {
      "application/javascript": "\n\n// Create a dictionary (object) in JavaScript\nvar myDictionary = {\n    1: \"1\",\n    2: \"2\",\n    3: \"3\"\n};\n\n// Accessing a value\nconsole.log(\"1 with key 2:\", myDictionary[2]); // Output: fruit\n",
      "text/plain": [
       "<IPython.core.display.Javascript object>"
      ]
     },
     "metadata": {},
     "output_type": "display_data"
    }
   ],
   "source": [
    "%%js\n",
    "\n",
    "\n",
    "// Create a dictionary (object) in JavaScript\n",
    "var myDictionary = {\n",
    "    1: \"1\",\n",
    "    2: \"2\",\n",
    "    3: \"3\"\n",
    "};\n",
    "\n",
    "// Accessing a value\n",
    "console.log(\"1 with key 2:\", myDictionary[2]); // Output: fruit"
   ]
  },
  {
   "cell_type": "markdown",
   "metadata": {},
   "source": [
    "### Popcorn Hack 2"
   ]
  },
  {
   "cell_type": "code",
   "execution_count": 2,
   "metadata": {},
   "outputs": [
    {
     "name": "stdout",
     "output_type": "stream",
     "text": [
      "Welcome to the Math Quiz Game!\n",
      "Answer as many questions as you can. Type 'q' to quit anytime.\n",
      "\n",
      "What is 44 * 50?\n",
      "Oops! The correct answer was 2200.\n",
      "What is 17 / 44?\n",
      "Invalid input, please enter a number or 'q' to quit.\n",
      "What is 29 + 24?\n",
      "Thanks for playing! Your final score is 0.\n"
     ]
    }
   ],
   "source": [
    "import random\n",
    "\n",
    "def play_game():\n",
    "    score = 0\n",
    "    operators = ['+', '/', '*']\n",
    "\n",
    "    print(\"Welcome to the Math Quiz Game!\")\n",
    "    print(\"Answer as many questions as you can. Type 'q' to quit anytime.\\n\")\n",
    "\n",
    "    while True:\n",
    "        # Generate two random numbers and choose a random operator\n",
    "        num1 = random.randint(5, 50)\n",
    "        num2 = random.randint(5, 50)\n",
    "        op = random.choice(operators)\n",
    "\n",
    "        # Calculate the correct answer based on the operator\n",
    "        if op == '+':\n",
    "            answer = num1 + num2\n",
    "        elif op == '-':\n",
    "            answer = num1 - num2\n",
    "        else:\n",
    "            answer = num1 * num2\n",
    "\n",
    "        # Ask the player the question\n",
    "        print(f\"What is {num1} {op} {num2}?\")\n",
    "        player_input = input(\"Your answer (or type 'q' to quit): \")\n",
    "\n",
    "        # Check if the player wants to quit\n",
    "        if player_input.lower() == 'q':\n",
    "            break\n",
    "\n",
    "        # Check if the answer is correct\n",
    "        try:\n",
    "            player_answer = int(player_input)\n",
    "            if player_answer == answer:\n",
    "                print(\"Correct!\")\n",
    "                score += 1\n",
    "            else:\n",
    "                print(f\"Oops! The correct answer was {answer}.\")\n",
    "        except ValueError:\n",
    "            print(\"Invalid input, please enter a number or 'q' to quit.\")\n",
    "\n",
    "    print(f\"Thanks for playing! Your final score is {score}.\")\n",
    "\n",
    "# Start the game\n",
    "play_game()"
   ]
  },
  {
   "cell_type": "markdown",
   "metadata": {},
   "source": [
    "### Popcorn Hack 3"
   ]
  },
  {
   "cell_type": "code",
   "execution_count": 3,
   "metadata": {},
   "outputs": [
    {
     "data": {
      "application/javascript": "\n// Temperature Converter in JavaScript\nlet temperature = parseFloat(prompt(\"Enter the temperature:\"));\nlet conversionType = prompt(\"Convert to (C)elsius or (F)ahrenheit?\").toUpperCase();\n\nif (conversionType === \"C\") {\n    // Convert Fahrenheit to Celsius\n    let celsius = (temperature - 32) * (5 / 9);\n    console.log(`${temperature}°F is equal to ${celsius.toFixed(2)}°C`);\n} else if (conversionType === \"F\") {\n    // Convert Celsius to Fahrenheit\n    let fahrenheit = (temperature * (9 / 5)) + 32;\n    console.log(`${temperature}°C is equal to ${fahrenheit.toFixed(2)}°F`);\n} else {\n    console.log(\"Invalid conversion type entered.\");\n}\n",
      "text/plain": [
       "<IPython.core.display.Javascript object>"
      ]
     },
     "metadata": {},
     "output_type": "display_data"
    }
   ],
   "source": [
    "%%js\n",
    "\n",
    "// Temperature Converter in JavaScript\n",
    "let temperature = parseFloat(prompt(\"Enter the temperature:\"));\n",
    "let conversionType = prompt(\"Convert to (C)elsius or (F)ahrenheit?\").toUpperCase();\n",
    "\n",
    "if (conversionType === \"C\") {\n",
    "    // Convert Fahrenheit to Celsius\n",
    "    let celsius = (temperature - 32) * (5 / 9);\n",
    "    console.log(`${temperature}°F is equal to ${celsius.toFixed(2)}°C`);\n",
    "} else if (conversionType === \"F\") {\n",
    "    // Convert Celsius to Fahrenheit\n",
    "    let fahrenheit = (temperature * (9 / 5)) + 32;\n",
    "    console.log(`${temperature}°C is equal to ${fahrenheit.toFixed(2)}°F`);\n",
    "} else {\n",
    "    console.log(\"Invalid conversion type entered.\");\n",
    "}"
   ]
  },
  {
   "cell_type": "code",
   "execution_count": 4,
   "metadata": {},
   "outputs": [
    {
     "name": "stdout",
     "output_type": "stream",
     "text": [
      "54.0°C is equal to 129.20°F\n"
     ]
    }
   ],
   "source": [
    "def temperature_converter():\n",
    "    try:\n",
    "        temperature = float(input(\"Enter the temperature: \"))\n",
    "        conversion_type = input(\"Convert to Celsius (C) or Fahrenheit (F)? \").strip().upper()\n",
    "\n",
    "        if conversion_type == \"C\":\n",
    "            celsius = (temperature - 32) * (5 / 9)\n",
    "            print(f\"{temperature}°F is equal to {celsius:.2f}°C\")\n",
    "\n",
    "        elif conversion_type == \"F\":\n",
    "            fahrenheit = (temperature * (9 / 5)) + 32\n",
    "            print(f\"{temperature}°C is equal to {fahrenheit:.2f}°F\")\n",
    "\n",
    "        else:\n",
    "            print(\"Invalid conversion type entered. Please enter 'C' or 'F'.\")\n",
    "\n",
    "    except ValueError:\n",
    "        print(\"Invalid input. Please enter a numeric temperature value.\")\n",
    "\n",
    "temperature_converter()\n"
   ]
  }
 ],
 "metadata": {
  "kernelspec": {
   "display_name": "venv",
   "language": "python",
   "name": "python3"
  },
  "language_info": {
   "codemirror_mode": {
    "name": "ipython",
    "version": 3
   },
   "file_extension": ".py",
   "mimetype": "text/x-python",
   "name": "python",
   "nbconvert_exporter": "python",
   "pygments_lexer": "ipython3",
   "version": "3.12.3"
  }
 },
 "nbformat": 4,
 "nbformat_minor": 2
}
