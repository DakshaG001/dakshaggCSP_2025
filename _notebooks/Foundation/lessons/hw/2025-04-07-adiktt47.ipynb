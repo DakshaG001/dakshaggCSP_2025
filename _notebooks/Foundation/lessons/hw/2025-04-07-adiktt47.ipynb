{
 "cells": [
  {
   "cell_type": "markdown",
   "metadata": {},
   "source": [
    "---\n",
    "layout: post\n",
    "title: adiktt#2\n",
    "description:  team teaach\n",
    "type: issues \n",
    "comments: true\n",
    "---"
   ]
  },
  {
   "cell_type": "markdown",
   "metadata": {},
   "source": [
    "### Popcorn Hack 1 \n",
    "\n",
    "The procedure `BinarySearch(numList, target)` correctly implements a binary search algorithm on the list of numbers `numList`. The procedure returns an index where `target` occurs in `numList`, or -1 if `target` does not occur in `numList`.\n",
    "\n",
    "**Which of the following conditions must be met in order for the procedure to work as intended?**\n",
    "\n",
    "A) The length of `numList` must be even  \n",
    "B) The list `numList` must not contain any duplicate values  \n",
    "C) The values in `numList` must be in sorted order ✅  \n",
    "D) The value of `target` must not be equal to -1  \n",
    "\n",
    "---\n",
    "\n",
    "**Correct Answer: C**\n",
    "\n",
    "**Explanation:**  \n",
    "Binary search only works correctly when the list is in **sorted order**. It relies on comparing the `target` with the middle value to decide whether to search the left or right half. If the list isn't sorted, this logic breaks down and the algorithm may miss the correct value or behave unpredictably.\n",
    "\n",
    "- **A is incorrect** – Binary search works on lists of any length, even or odd.  \n",
    "- **B is incorrect** – Duplicates are allowed; binary search can still return one occurrence.  \n",
    "- **D is incorrect** – The `target` can be -1. That’s not a restriction. `-1` is just used as a return value when the target isn't found.\n",
    "\n",
    "### Popcorn Hack 2\n",
    "\n",
    "**Which of the following statements correctly describes a disadvantage of binary search compared to linear search?**\n",
    "\n",
    "A) Binary search takes more time on average than linear search  \n",
    "B) Binary search cannot be used on unsorted lists without modifications ✅  \n",
    "C) Binary search always returns the first occurrence of the target  \n",
    "D) Binary search can only be used on lists with unique values  \n",
    "\n",
    "---\n",
    "\n",
    "**✅ Correct Answer: B**\n",
    "\n",
    "**Explanation:**  \n",
    "Binary search **requires the list to be sorted**. This is its main limitation compared to linear search, which can work on any list, sorted or not. If you try to apply binary search to an unsorted list without modifying it (e.g., by sorting it first), it may give incorrect results or fail to find the target altogether.\n",
    "\n",
    "---\n",
    "\n",
    "**Why the other options are wrong:**\n",
    "\n",
    "- **A is incorrect** – Binary search is **faster** than linear search on average, especially for large lists (`O(log n)` vs. `O(n)`).  \n",
    "- **C is incorrect** – Binary search does **not guarantee** the first occurrence in a list with duplicates. It returns *an* occurrence, which might not be the first.  \n",
    "- **D is incorrect** – Binary search works fine with **duplicate values**; the list doesn’t need to have only unique values.\n",
    "\n",
    "### Popcorn Hack 3\n",
    "\n",
    "**Given the sorted list:**\n",
    "\n",
    "```python\n",
    "['a', 'b', 'c', 'd', 'e', 'f', 'g']\n",
    "\n"
   ]
  },
  {
   "cell_type": "code",
   "execution_count": 1,
   "metadata": {},
   "outputs": [
    {
     "name": "stdout",
     "output_type": "stream",
     "text": [
      "2\n"
     ]
    }
   ],
   "source": [
    "def binary_search(arr, target):\n",
    "    low = 0\n",
    "    high = len(arr) - 1\n",
    "\n",
    "    while low <= high:\n",
    "        mid = (low + high) // 2\n",
    "        if arr[mid] == target:\n",
    "            return mid  # Found the target\n",
    "        elif arr[mid] < target:\n",
    "            low = mid + 1  # Search in the right half\n",
    "        else:\n",
    "            high = mid - 1  # Search in the left half\n",
    "\n",
    "    return -1  # Target not found\n",
    "\n",
    "# Test example\n",
    "letters = ['a', 'b', 'c', 'd', 'e', 'f', 'g']\n",
    "print(binary_search(letters, 'c'))  # Output: 2\n"
   ]
  },
  {
   "cell_type": "code",
   "execution_count": 7,
   "metadata": {},
   "outputs": [
    {
     "name": "stdout",
     "output_type": "stream",
     "text": [
      "Price $1.25 was found in the list.\n",
      "Price $6.49 was found in the list.\n",
      "Price $10.0 was NOT found in the list.\n",
      "\n",
      "First few rows of sorted data:\n",
      "        Product  Price\n",
      "5        Eraser   0.50\n",
      "14  Paper Clips   0.89\n",
      "2        Pencil   0.99\n",
      "9    Glue Stick   1.25\n",
      "1           Pen   1.50\n",
      "Original row count: 15\n",
      "Cleaned row count: 15\n"
     ]
    }
   ],
   "source": [
    "import pandas as pd\n",
    "\n",
    "# Manually create the dataset from the image\n",
    "data = pd.DataFrame({\n",
    "    \"Product\": [\"Notebook\", \"Pen\", \"Pencil\", \"Backpack\", \"Calculator\", \"Eraser\", \"Binder\", \n",
    "                \"Marker\", \"Scissors\", \"Glue Stick\", \"Ruler\", \"Highlighter\", \"Stapler\", \n",
    "                \"Tape\", \"Paper Clips\"],\n",
    "    \"Price\": [2.99, 1.50, 0.99, 25.00, 15.75, 0.50, 3.99, 2.25, 4.99, 1.25, 1.99, 2.50, \n",
    "              6.49, 1.75, 0.89]\n",
    "})\n",
    "\n",
    "# Drop rows with missing values\n",
    "data_cleaned = data.dropna()\n",
    "\n",
    "# Sort the data by 'Price'\n",
    "data_sorted = data_cleaned.sort_values(by=\"Price\")\n",
    "\n",
    "# Extract sorted prices as a list\n",
    "price_list = data_sorted[\"Price\"].tolist()\n",
    "\n",
    "# Binary search function\n",
    "def binary_search(lst, target):\n",
    "    low, high = 0, len(lst) - 1\n",
    "    while low <= high:\n",
    "        mid = (low + high) // 2\n",
    "        if lst[mid] == target:\n",
    "            return True\n",
    "        elif lst[mid] < target:\n",
    "            low = mid + 1\n",
    "        else:\n",
    "            high = mid - 1\n",
    "    return False\n",
    "\n",
    "# Prices to search\n",
    "targets = [1.25, 6.49, 10.00]\n",
    "\n",
    "# Search and print results\n",
    "for price in targets:\n",
    "    found = binary_search(price_list, price)\n",
    "    if found:\n",
    "        print(f\"Price ${price} was found in the list.\")\n",
    "    else:\n",
    "        print(f\"Price ${price} was NOT found in the list.\")\n",
    "\n",
    "# Output preview\n",
    "print(\"\\nFirst few rows of sorted data:\")\n",
    "print(data_sorted.head())\n",
    "print(\"Original row count:\", len(data))\n",
    "print(\"Cleaned row count:\", len(data_cleaned))\n"
   ]
  }
 ],
 "metadata": {
  "kernelspec": {
   "display_name": "venv",
   "language": "python",
   "name": "python3"
  },
  "language_info": {
   "codemirror_mode": {
    "name": "ipython",
    "version": 3
   },
   "file_extension": ".py",
   "mimetype": "text/x-python",
   "name": "python",
   "nbconvert_exporter": "python",
   "pygments_lexer": "ipython3",
   "version": "3.12.3"
  }
 },
 "nbformat": 4,
 "nbformat_minor": 2
}
