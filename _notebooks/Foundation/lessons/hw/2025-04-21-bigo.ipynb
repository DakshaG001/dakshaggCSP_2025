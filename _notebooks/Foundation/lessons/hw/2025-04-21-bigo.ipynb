{
 "cells": [
  {
   "cell_type": "markdown",
   "id": "44f12cbb",
   "metadata": {},
   "source": [
    "---\n",
    "layout: post\n",
    "title: BIGO\n",
    "description:  pluh\n",
    "type: issues \n",
    "comments: true\n",
    "---"
   ]
  },
  {
   "cell_type": "markdown",
   "id": "f57ccc5e",
   "metadata": {},
   "source": [
    "# Big O and Algorithm Efficiency – Popcorn Hacks\n",
    "\n",
    "## Popcorn Hack #1\n",
    "\n",
    "**Task:**  \n",
    "Given an array:  \n",
    "arr = [1, 2, 3, 4, 5]\n"
   ]
  },
  {
   "cell_type": "code",
   "execution_count": 3,
   "id": "6db85ed9",
   "metadata": {},
   "outputs": [
    {
     "name": "stdout",
     "output_type": "stream",
     "text": [
      "3\n"
     ]
    }
   ],
   "source": [
    "arr = [1, 2, 3, 4, 5]\n",
    "# Print the third item from the array using constant time (O(1)):\n",
    "print(arr[2])  # O(1) – Direct index access\n"
   ]
  },
  {
   "cell_type": "code",
   "execution_count": 4,
   "id": "71644a5c",
   "metadata": {},
   "outputs": [
    {
     "name": "stdout",
     "output_type": "stream",
     "text": [
      "1\n",
      "2\n",
      "3\n",
      "4\n",
      "5\n"
     ]
    }
   ],
   "source": [
    "#Print all the items from the array using linear time (O(n)):\n",
    "arr = [1, 2, 3, 4, 5]\n",
    "\n",
    "for item in arr:\n",
    "    print(item)  # O(n) – One operation per element\n"
   ]
  },
  {
   "cell_type": "markdown",
   "id": "ba36dc2d",
   "metadata": {},
   "source": [
    "## Popcorn Hack #2"
   ]
  },
  {
   "cell_type": "code",
   "execution_count": 5,
   "id": "68155e03",
   "metadata": {},
   "outputs": [
    {
     "name": "stdout",
     "output_type": "stream",
     "text": [
      "(1, 2)\n",
      "(1, 3)\n",
      "(2, 3)\n"
     ]
    }
   ],
   "source": [
    "arr = [1, 2, 3]\n",
    "\n",
    "def print_unique_pairs(arr):\n",
    "    for i in range(len(arr)):\n",
    "        for j in range(i + 1, len(arr)):\n",
    "            print(f\"({arr[i]}, {arr[j]})\")\n",
    "\n",
    "print_unique_pairs([1, 2, 3])\n",
    "# O(n^2) – Two nested loops, each iterating through the array"
   ]
  },
  {
   "cell_type": "markdown",
   "id": "7358a9af",
   "metadata": {},
   "source": [
    "Time Complexity Explanation:\n",
    "This is O(n²) time complexity.\n",
    "The nested loop causes the number of operations to grow quadratically with the size of the input array.\n",
    "\n"
   ]
  },
  {
   "cell_type": "markdown",
   "id": "ab43fd20",
   "metadata": {},
   "source": [
    "## Popcorn Hack #3\n",
    "\n",
    "### Which of these is inefficient for large inputs?\n",
    "\n",
    "**Answer:**  \n",
    "**b) Factorial Time**\n",
    "\n",
    "**Explanation:**  \n",
    "Factorial time (O(n!)) grows extremely fast and becomes impractical for even moderately large inputs.\n",
    "\n",
    "---\n",
    "\n",
    "### Which of these can be represented by a nested loop?\n",
    "\n",
    "**Answer:**  \n",
    "**c) Quadratic Time**\n",
    "\n",
    "**Explanation:**  \n",
    "Nested loops often result in O(n²) time complexity.\n"
   ]
  },
  {
   "cell_type": "markdown",
   "id": "6e5124a7",
   "metadata": {},
   "source": [
    "## Homework Hack"
   ]
  },
  {
   "cell_type": "code",
   "execution_count": 6,
   "id": "aa1901f8",
   "metadata": {},
   "outputs": [
    {
     "name": "stdout",
     "output_type": "stream",
     "text": [
      "5\n",
      "10\n",
      "15\n",
      "20\n",
      "25\n"
     ]
    }
   ],
   "source": [
    "def simulate_time_complexity(arr, complexity):\n",
    "    if complexity == \"constant\":\n",
    "        return arr[0]\n",
    "    elif complexity == \"linear\":\n",
    "        for item in arr:\n",
    "            print(item)\n",
    "    elif complexity == \"quadratic\":\n",
    "        for i in arr:\n",
    "            for j in arr:\n",
    "                print(f\"({i}, {j})\")\n",
    "    else:\n",
    "        print(\"Unknown time complexity.\")\n",
    "\n",
    "# Example usage:\n",
    "arr = [5, 10, 15, 20, 25]\n",
    "simulate_time_complexity(arr, \"linear\")\n"
   ]
  }
 ],
 "metadata": {
  "kernelspec": {
   "display_name": "venv",
   "language": "python",
   "name": "python3"
  },
  "language_info": {
   "codemirror_mode": {
    "name": "ipython",
    "version": 3
   },
   "file_extension": ".py",
   "mimetype": "text/x-python",
   "name": "python",
   "nbconvert_exporter": "python",
   "pygments_lexer": "ipython3",
   "version": "3.12.3"
  }
 },
 "nbformat": 4,
 "nbformat_minor": 5
}
