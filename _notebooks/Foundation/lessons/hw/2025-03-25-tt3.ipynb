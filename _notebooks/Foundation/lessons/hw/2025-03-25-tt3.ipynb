{
 "cells": [
  {
   "cell_type": "markdown",
   "metadata": {},
   "source": [
    "---\n",
    "layout: post\n",
    "title: 3nd team teach tvicks team\n",
    "description:  team 3\n",
    "type: issues \n",
    "comments: true\n",
    "---"
   ]
  },
  {
   "cell_type": "markdown",
   "metadata": {},
   "source": [
    "## **MCQ Practice**  \n",
    "**Which of the following best describes crowdsourcing?**  \n",
    "\n",
    "- [ ] Hiring one expert for a task.  \n",
    "- [ ] Using AI to generate data.  \n",
    "- [x] Collecting contributions from a large group of people.  \n",
    "- [ ] Outsourcing work to another company.  \n",
    "\n",
    "**Answer:** ✅ *Collecting contributions from a large group of people.*  \n",
    "\n",
    "---\n",
    "\n",
    "## **Popcorn Hack 3: Real World Crowdsourcing**  \n",
    "**Example of Crowdsourcing:**  \n",
    "\n",
    "- **Wikipedia:** Wikipedia is a crowdsourced online encyclopedia where anyone can contribute by writing, editing, or updating articles. It uses crowdsourcing by relying on volunteers worldwide to provide and verify information, ensuring the content is continuously improved and expanded.\n",
    "\n",
    "---\n",
    "\n",
    "## **Homework Hack: Crowdsourcing a Playlist**  \n",
    "**Task:**  \n",
    "- Im a gummy bear and mundian to bach ke \n",
    "\n",
    "**Discussion:**  \n",
    "- **How does crowdsourcing improve the playlist quality?**  \n",
    "  - Diverse tastes and preferences contribute to a well-rounded and inclusive playlist.  \n",
    "  - More participants result in discovering unique and lesser-known songs.  \n",
    "  - Provides a variety of genres, moods, and cultural influences.  \n",
    "\n",
    "- **How can crowdsourcing harm the playlist quality?**  \n",
    "  - Inconsistent themes or genres may lead to a lack of cohesion.  \n",
    "  - Popular or repetitive songs may dominate, reducing diversity.  \n",
    "  - Misuse or trolling could result in inappropriate or off-theme additions.\n"
   ]
  }
 ],
 "metadata": {
  "language_info": {
   "name": "python"
  }
 },
 "nbformat": 4,
 "nbformat_minor": 2
}
