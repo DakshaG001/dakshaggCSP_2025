{
 "cells": [
  {
   "cell_type": "markdown",
   "metadata": {},
   "source": [
    "---\n",
    "layout: post\n",
    "title: Sprint 5 beta Blog\n",
    "description:  Leaderboard\n",
    "type: issues \n",
    "comments: true\n",
    "---"
   ]
  },
  {
   "cell_type": "markdown",
   "metadata": {},
   "source": [
    "### Group's Purpose\n",
    "\n",
    "The purpose of our group’s program is to create a multiplayer drawing and guessing game inspired by Scribble.io. This program allows players to take turns drawing while others guess the word or phrase being illustrated. The goal is to provide an entertaining and interactive way for people to engage in creative gameplay, fostering collaboration, quick thinking, and creativity.\n",
    "\n",
    "### My Purpose\n",
    "\n",
    "My purpose is to design a leaderboard so that people can compete with their friends in order to achieve a higher score than them in certain drawings. This allows people to interact with one another more and have a little brainbreak to relieve them of their stress a little\n",
    "\n",
    "\n",
    "### My contribution\n",
    "Designed a leaderboard with CRUD operation support that can also be tested in postman and has a database to be saved and backed up\n",
    "\n",
    "### Design\n",
    "User submit their username, their drawing they did, and the score they got for the drawing (this depends on the amount of times they guessed it correct). They have the free will to change it however they want. even cheat a little :) "
   ]
  },
  {
   "cell_type": "markdown",
   "metadata": {},
   "source": [
    "### Create\n",
    "To add a new leaderboard entry, use the POST method at the /api/leaderboard endpoint. This endpoint expects a JSON payload with profile_name, drawing_name, and score."
   ]
  },
  {
   "cell_type": "code",
   "execution_count": null,
   "metadata": {},
   "outputs": [],
   "source": [
    "@leaderboard_api.route('/api/leaderboard', methods=['POST'])\n",
    "def add_leaderboard_entry():\n",
    "    try:\n",
    "        data = request.get_json()\n",
    "        if not data:\n",
    "            return jsonify({\"error\": \"No data provided\"}), 400\n",
    "\n",
    "        entry = LeaderboardEntry(\n",
    "            profile_name=data.get('profile_name'),\n",
    "            drawing_name=data.get('drawing_name'),\n",
    "            score=int(data.get('score', 0))\n",
    "        )\n",
    "        \n",
    "        if entry.create():\n",
    "            return jsonify({\"message\": \"Entry added successfully\"}), 201\n",
    "        return jsonify({\"error\": \"Failed to add entry\"}), 400\n",
    "\n",
    "    except Exception as e:\n",
    "        db.session.rollback()\n",
    "        return jsonify({\"error\": str(e)}), 500"
   ]
  },
  {
   "cell_type": "markdown",
   "metadata": {},
   "source": [
    "### Read\n",
    "To retrieve all leaderboard entries, use the GET method at the /api/leaderboard endpoint. This endpoint returns a JSON array of all entries sorted by score in descending order."
   ]
  },
  {
   "cell_type": "code",
   "execution_count": null,
   "metadata": {},
   "outputs": [],
   "source": [
    "@leaderboard_api.route('/api/leaderboard', methods=['GET'])\n",
    "def get_leaderboard():\n",
    "    try:\n",
    "        entries = LeaderboardEntry.query.order_by(\n",
    "            LeaderboardEntry.score.desc()\n",
    "        ).all()\n",
    "        return jsonify([entry.read() for entry in entries]), 200\n",
    "    except Exception as e:\n",
    "        return jsonify({\"error\": str(e)}), 500"
   ]
  },
  {
   "cell_type": "markdown",
   "metadata": {},
   "source": [
    "### Update\n",
    "To update an existing leaderboard entry, use the PUT method at the /api/leaderboard endpoint. This endpoint expects a JSON payload with profile_name, drawing_name, and score."
   ]
  },
  {
   "cell_type": "code",
   "execution_count": null,
   "metadata": {},
   "outputs": [],
   "source": [
    "@leaderboard_api.route('/api/leaderboard', methods=['PUT'])\n",
    "def update_leaderboard_entry():\n",
    "    try:\n",
    "        data = request.get_json()\n",
    "        if not data:\n",
    "            return jsonify({\"error\": \"No data provided\"}), 400\n",
    "\n",
    "        existing_entry = LeaderboardEntry.query.filter_by(\n",
    "            profile_name=data.get('profile_name'),\n",
    "            drawing_name=data.get('drawing_name')\n",
    "        ).first()\n",
    "\n",
    "        new_score = int(data.get('score', 0))\n",
    "\n",
    "        if existing_entry:\n",
    "            existing_entry.score = new_score\n",
    "            db.session.commit()\n",
    "            return jsonify({\"message\": \"Score updated successfully\"}), 200\n",
    "\n",
    "        entry = LeaderboardEntry(\n",
    "            profile_name=data.get('profile_name'),\n",
    "            drawing_name=data.get('drawing_name'),\n",
    "            score=new_score\n",
    "        )\n",
    "        \n",
    "        if entry.create():\n",
    "            return jsonify({\"message\": \"New entry created\"}), 201\n",
    "        return jsonify({\"error\": \"Failed to create entry\"}), 400\n",
    "\n",
    "    except Exception as e:\n",
    "        db.session.rollback()\n",
    "        return jsonify({\"error\": str(e)}), 500"
   ]
  },
  {
   "cell_type": "markdown",
   "metadata": {},
   "source": [
    "### Delete Operation\n",
    "To delete a specific leaderboard entry, use the DELETE method at the /api/leaderboard/<profile_name>/<drawing_name> endpoint. This endpoint deletes the entry matching the provided profile_name and drawing_name.\n"
   ]
  },
  {
   "cell_type": "code",
   "execution_count": null,
   "metadata": {},
   "outputs": [],
   "source": [
    "@leaderboard_api.route('/api/leaderboard/<profile_name>/<drawing_name>', methods=['DELETE'])\n",
    "def delete_leaderboard_entry(profile_name, drawing_name):\n",
    "    try:\n",
    "        entry = LeaderboardEntry.query.filter_by(\n",
    "            profile_name=profile_name,\n",
    "            drawing_name=drawing_name\n",
    "        ).first()\n",
    "        \n",
    "        if not entry:\n",
    "            return jsonify({\"error\": \"Entry not found\"}), 404\n",
    "            \n",
    "        entry.delete()\n",
    "        return jsonify({\"message\": \"Entry deleted successfully\"}), 200\n",
    "\n",
    "    except Exception as e:\n",
    "        db.session.rollback()\n",
    "        return jsonify({\"error\": str(e)}), 500"
   ]
  },
  {
   "cell_type": "markdown",
   "metadata": {},
   "source": [
    "### Call to Algorithm Request\n",
    "In the frontend, we use the fetch API to make requests to the backend. For example, to submit a score, we send a PUT request with the profile name, drawing name, and score. The response is handled by checking the status and updating the DOM accordingly. If the request is successful, we update the leaderboard; if there’s an error, we display an error message."
   ]
  },
  {
   "cell_type": "code",
   "execution_count": null,
   "metadata": {},
   "outputs": [],
   "source": [
    "async function submitScore() {\n",
    "    const profileName = document.getElementById('profileName').value.trim();\n",
    "    const drawingName = document.getElementById('drawingName').value.trim();\n",
    "    const score = parseInt(document.getElementById('score').value);\n",
    "\n",
    "    if (!profileName || !drawingName) {\n",
    "        showMessage('Please fill in all fields', true);\n",
    "        return;\n",
    "    }\n",
    "\n",
    "    if (isNaN(score) || score < 0 || score > 100) {\n",
    "        showMessage('Please enter a valid score between 0 and 100', true);\n",
    "        return;\n",
    "    }\n",
    "\n",
    "    try {\n",
    "        const response = await fetch(API_URL, {\n",
    "            method: 'PUT',\n",
    "            headers: {\n",
    "                'Content-Type': 'application/json',\n",
    "            },\n",
    "            body: JSON.stringify({\n",
    "                profile_name: profileName,\n",
    "                drawing_name: drawingName,\n",
    "                score: score\n",
    "            })\n",
    "        });\n",
    "\n",
    "        const data = await response.json();\n",
    "\n",
    "        if (response.ok) {\n",
    "            showMessage(data.message);\n",
    "            document.getElementById('profileName').value = '';\n",
    "            document.getElementById('drawingName').value = '';\n",
    "            document.getElementById('score').value = '';\n",
    "            await fetchLeaderboard();\n",
    "        } else {\n",
    "            throw new Error(data.error || 'Failed to submit score');\n",
    "        }\n",
    "    } catch (error) {\n",
    "        console.error('Error:', error);\n",
    "        showMessage(error.message, true);\n",
    "    }\n",
    "}"
   ]
  }
 ],
 "metadata": {
  "language_info": {
   "name": "python"
  }
 },
 "nbformat": 4,
 "nbformat_minor": 2
}
