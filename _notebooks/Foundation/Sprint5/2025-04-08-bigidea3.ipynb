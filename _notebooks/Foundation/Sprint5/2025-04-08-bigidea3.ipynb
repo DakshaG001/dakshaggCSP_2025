{
 "cells": [
  {
   "cell_type": "markdown",
   "metadata": {},
   "source": [
    "---\n",
    "layout: post\n",
    "title: manas\n",
    "description:  team teaach\n",
    "type: issues \n",
    "comments: true\n",
    "---"
   ]
  },
  {
   "cell_type": "code",
   "execution_count": 1,
   "metadata": {},
   "outputs": [
    {
     "name": "stdout",
     "output_type": "stream",
     "text": [
      "Original list: ['The Dark Knight', 'Inception', 'Interstellar', 'The Matrix']\n",
      "After replacing second movie: ['The Dark Knight', 'Avengers: Endgame', 'Interstellar', 'The Matrix']\n",
      "After adding another movie: ['The Dark Knight', 'Avengers: Endgame', 'Interstellar', 'The Matrix', 'Spider-Man: Into the Spider-Verse']\n",
      "\n",
      "Final movie list:\n",
      "1. The Dark Knight\n",
      "2. Avengers: Endgame\n",
      "3. Interstellar\n",
      "4. The Matrix\n",
      "5. Spider-Man: Into the Spider-Verse\n"
     ]
    }
   ],
   "source": [
    "# Popcorn Hack #1\n",
    "\n",
    "# Create a list of four favorite movies\n",
    "movies = [\"The Dark Knight\", \"Inception\", \"Interstellar\", \"The Matrix\"]\n",
    "print(\"Original list:\", movies)\n",
    "\n",
    "# Replace the second movie (index 1) with a new movie\n",
    "movies[1] = \"Avengers: Endgame\"\n",
    "print(\"After replacing second movie:\", movies)\n",
    "\n",
    "# Add another movie to the list\n",
    "movies.append(\"Spider-Man: Into the Spider-Verse\")\n",
    "print(\"After adding another movie:\", movies)\n",
    "\n",
    "# Display the final updated list\n",
    "print(\"\\nFinal movie list:\")\n",
    "for i, movie in enumerate(movies, 1):\n",
    "    print(f\"{i}. {movie}\")"
   ]
  },
  {
   "cell_type": "code",
   "execution_count": 2,
   "metadata": {},
   "outputs": [
    {
     "name": "stdout",
     "output_type": "stream",
     "text": [
      "Original list of ages: [15, 20, 34, 16, 18, 21, 14, 19]\n",
      "Voting eligible ages (using for loop): [20, 34, 18, 21, 19]\n",
      "Voting eligible ages (using list comprehension): [20, 34, 18, 21, 19]\n",
      "\n",
      "Number of people eligible to vote: 5\n",
      "Percentage eligible to vote: 62.5%\n"
     ]
    }
   ],
   "source": [
    "# Popcorn Hack #2\n",
    "\n",
    "# Given list of ages\n",
    "ages = [15, 20, 34, 16, 18, 21, 14, 19]\n",
    "print(\"Original list of ages:\", ages)\n",
    "\n",
    "# Method 1: Using a for loop to create a new list with voting-eligible ages\n",
    "voting_ages = []\n",
    "for age in ages:\n",
    "    if age >= 18:\n",
    "        voting_ages.append(age)\n",
    "        \n",
    "print(\"Voting eligible ages (using for loop):\", voting_ages)\n",
    "\n",
    "# Method 2: Using list comprehension (more Pythonic)\n",
    "voting_ages_comprehension = [age for age in ages if age >= 18]\n",
    "print(\"Voting eligible ages (using list comprehension):\", voting_ages_comprehension)\n",
    "\n",
    "# Count how many people are eligible to vote\n",
    "print(f\"\\nNumber of people eligible to vote: {len(voting_ages)}\")\n",
    "print(f\"Percentage eligible to vote: {len(voting_ages)/len(ages)*100:.1f}%\")"
   ]
  },
  {
   "cell_type": "markdown",
   "metadata": {},
   "source": [
    "# 📚 Homework Hacks\n",
    "\n",
    "## ✅ Homework Hack #1: Watch both videos and write notes  \n",
    "**Instructions:**  \n",
    "- Write **3 bullet points per video**  \n",
    "- **Bonus** if you write **more than 6 bullet points per video**  \n",
    "\n",
    "---\n",
    "\n",
    "## 🎥 Video 1: Python Lists\n",
    "\n",
    "- Lists are ordered collections; order matters and is preserved.\n",
    "- Created using square brackets (`[]`) or the `list()` constructor.\n",
    "- Values can be added with `.append()`, which adds to the end.\n",
    "- Access elements using indices starting from `0`; negative indices count from the end (`-1` is the last item).\n",
    "- Lists support **slicing**: `[start:stop]` returns a sublist (includes start, excludes stop).\n",
    "- Lists can store different data types: integers, strings, even other lists.\n",
    "\n",
    "---\n",
    "\n",
    "## 🎥 Video 2: Python Dictionaries\n",
    "\n",
    "- Dictionaries store data in key-value pairs.\n",
    "- Created using curly braces (`{}`) or the `dict()` constructor.\n",
    "- Keys must be unique and immutable (e.g., strings or numbers).\n",
    "- Values are accessed using the key: `my_dict[\"key\"]`\n",
    "- Add or update values with assignment: `my_dict[\"new_key\"] = value`\n",
    "- Use `.get(\"key\")` to safely access a key without errors if it doesn’t exist.\n"
   ]
  },
  {
   "cell_type": "code",
   "execution_count": 3,
   "metadata": {},
   "outputs": [
    {
     "name": "stdout",
     "output_type": "stream",
     "text": [
      "Original list of numbers from 1 to 30:\n",
      "[1, 2, 3, 4, 5, 6, 7, 8, 9, 10, 11, 12, 13, 14, 15, 16, 17, 18, 19, 20, 21, 22, 23, 24, 25, 26, 27, 28, 29, 30]\n",
      "\n",
      "Numbers divisible by 3 but not by 5:\n",
      "[3, 6, 9, 12, 18, 21, 24, 27]\n",
      "\n",
      "Same result using a for loop:\n",
      "[3, 6, 9, 12, 18, 21, 24, 27]\n",
      "\n",
      "Explanation for filtered numbers:\n",
      "3 is divisible by 3 but not by 5\n",
      "6 is divisible by 3 but not by 5\n",
      "9 is divisible by 3 but not by 5\n",
      "12 is divisible by 3 but not by 5\n",
      "18 is divisible by 3 but not by 5\n",
      "21 is divisible by 3 but not by 5\n",
      "24 is divisible by 3 but not by 5\n",
      "27 is divisible by 3 but not by 5\n"
     ]
    }
   ],
   "source": [
    "# Homework Hack #2: Numbers divisible by 3 but not by 5\n",
    "\n",
    "# Step 1: Initialize a list containing numbers from 1 to 30\n",
    "original_numbers = list(range(1, 31))\n",
    "\n",
    "# Step 2: Filter out numbers divisible by 3 but not by 5\n",
    "filtered_numbers = [num for num in original_numbers if num % 3 == 0 and num % 5 != 0]\n",
    "\n",
    "# Step 3: Print both the original and filtered lists\n",
    "print(\"Original list of numbers from 1 to 30:\")\n",
    "print(original_numbers)\n",
    "\n",
    "print(\"\\nNumbers divisible by 3 but not by 5:\")\n",
    "print(filtered_numbers)\n",
    "\n",
    "# Alternative approach using a for loop instead of list comprehension\n",
    "filtered_numbers_loop = []\n",
    "for num in original_numbers:\n",
    "    if num % 3 == 0 and num % 5 != 0:\n",
    "        filtered_numbers_loop.append(num)\n",
    "\n",
    "print(\"\\nSame result using a for loop:\")\n",
    "print(filtered_numbers_loop)\n",
    "\n",
    "# Print each number with its divisibility explanation\n",
    "print(\"\\nExplanation for filtered numbers:\")\n",
    "for num in filtered_numbers:\n",
    "    print(f\"{num} is divisible by 3 but not by 5\")"
   ]
  },
  {
   "cell_type": "code",
   "execution_count": 4,
   "metadata": {},
   "outputs": [
    {
     "name": "stdout",
     "output_type": "stream",
     "text": [
      "Original list of names (8 names):\n",
      "['Alice', 'Bob', 'Charlie', 'David', 'Eva', 'Frank', 'Grace', 'Hannah']\n",
      "\n",
      "Names with at least 5 characters (6 names):\n",
      "['Alice', 'Charlie', 'David', 'Frank', 'Grace', 'Hannah']\n",
      "\n",
      "Names with at least 4 characters:\n",
      "['Alice', 'Charlie', 'David', 'Frank', 'Grace', 'Hannah']\n",
      "\n",
      "Names with at least 6 characters:\n",
      "['Charlie', 'Hannah']\n",
      "\n",
      "Using traditional for loop method:\n",
      "['Alice', 'Charlie', 'David', 'Frank', 'Grace', 'Hannah']\n"
     ]
    }
   ],
   "source": [
    "# Homework Hack #3: Filter Long Names\n",
    "\n",
    "def filter_long_names(names, min_length):\n",
    "    \"\"\"\n",
    "    Filter names by minimum length.\n",
    "    \n",
    "    Args:\n",
    "        names: List of names (strings)\n",
    "        min_length: Minimum name length to include\n",
    "        \n",
    "    Returns:\n",
    "        List containing only names with length >= min_length\n",
    "    \"\"\"\n",
    "    return [name for name in names if len(name) >= min_length]\n",
    "\n",
    "# Test case with a list of names\n",
    "names_list = [\"Alice\", \"Bob\", \"Charlie\", \"David\", \"Eva\", \"Frank\", \"Grace\", \"Hannah\"]\n",
    "\n",
    "# Display the original list\n",
    "print(f\"Original list of names ({len(names_list)} names):\")\n",
    "print(names_list)\n",
    "\n",
    "# Test with minimum length of 5\n",
    "min_length_requirement = 5\n",
    "filtered_names = filter_long_names(names_list, min_length_requirement)\n",
    "print(f\"\\nNames with at least {min_length_requirement} characters ({len(filtered_names)} names):\")\n",
    "print(filtered_names)\n",
    "\n",
    "# Additional tests with different minimum lengths\n",
    "print(f\"\\nNames with at least 4 characters:\")\n",
    "print(filter_long_names(names_list, 4))\n",
    "\n",
    "print(f\"\\nNames with at least 6 characters:\")\n",
    "print(filter_long_names(names_list, 6))\n",
    "\n",
    "# Alternative implementation using a for loop\n",
    "def filter_long_names_loop(names, min_length):\n",
    "    long_names = []\n",
    "    for name in names:\n",
    "        if len(name) >= min_length:\n",
    "            long_names.append(name)\n",
    "    return long_names\n",
    "\n",
    "print(\"\\nUsing traditional for loop method:\")\n",
    "print(filter_long_names_loop(names_list, 5))"
   ]
  },
  {
   "cell_type": "markdown",
   "metadata": {},
   "source": [
    "## Review Questions\n",
    "\n",
    "### 1. Explain what lists are in Python, including how to modify and manipulate them.\n",
    "- **Definition**: Lists in Python are ordered, mutable collections of items that can hold elements of different data types (e.g., integers, strings, or even other lists).\n",
    "- **Creation**: Lists are created using square brackets (`[]`) or the `list()` constructor.\n",
    "- **Modification**:\n",
    "  - Add elements using `.append()` (to the end) or `.insert()` (at a specific index).\n",
    "  - Remove elements using `.remove()` (by value) or `.pop()` (by index).\n",
    "  - Replace elements by directly assigning a new value to a specific index (e.g., `list[1] = \"new_value\"`).\n",
    "- **Manipulation**:\n",
    "  - Use slicing (`list[start:stop]`) to extract sublists.\n",
    "  - Use list comprehensions for concise filtering or transformations.\n",
    "  - Sort lists with `.sort()` (in-place) or `sorted()` (returns a new sorted list).\n",
    "\n",
    "### 2. Provide a real-world scenario where a filtering algorithm might be applied.\n",
    "- **Scenario**: A filtering algorithm could be used in an e-commerce platform to display products based on user preferences. For example, filtering a list of products to show only those within a specific price range or with a minimum customer rating.\n",
    "- **Example**: A user searches for laptops priced under $1000 with at least a 4-star rating. The platform applies a filtering algorithm to extract and display only the relevant products from the database.\n",
    "\n",
    "### 3. Discuss why analyzing the efficiency of filtering algorithms is important for software development.\n",
    "- **Performance**: Efficient filtering algorithms ensure that applications can handle large datasets without significant delays, improving user experience.\n",
    "- **Scalability**: As data grows, inefficient algorithms may lead to performance bottlenecks. Analyzing efficiency helps ensure the system can scale effectively.\n",
    "- **Resource Optimization**: Efficient algorithms reduce computational resource usage (e.g., CPU and memory), which is critical for cost-effective and sustainable software.\n",
    "- **Real-Time Applications**: In scenarios like financial trading or recommendation systems, filtering must be done in real-time. Analyzing efficiency ensures the system meets time constraints."
   ]
  }
 ],
 "metadata": {
  "kernelspec": {
   "display_name": "venv",
   "language": "python",
   "name": "python3"
  },
  "language_info": {
   "codemirror_mode": {
    "name": "ipython",
    "version": 3
   },
   "file_extension": ".py",
   "mimetype": "text/x-python",
   "name": "python",
   "nbconvert_exporter": "python",
   "pygments_lexer": "ipython3",
   "version": "3.12.3"
  }
 },
 "nbformat": 4,
 "nbformat_minor": 2
}
