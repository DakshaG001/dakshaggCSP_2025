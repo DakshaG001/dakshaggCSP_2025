{
 "cells": [
  {
   "cell_type": "markdown",
   "id": "570487b4",
   "metadata": {},
   "source": [
    "---\n",
    "layout: post\n",
    "title: binary and llogic gates\n",
    "description: tung tung tung tung tung tung tung sahur\n",
    "type: issues \n",
    "comments: true\n",
    "---"
   ]
  },
  {
   "cell_type": "markdown",
   "id": "e2e4b098",
   "metadata": {},
   "source": [
    "# 🍿 Popcorn Hacks\n",
    "\n",
    "---\n",
    "\n",
    "## Popcorn Hack 1: Binary to Decimal Converter\n",
    "\n"
   ]
  },
  {
   "cell_type": "code",
   "execution_count": 1,
   "id": "c92507bc",
   "metadata": {},
   "outputs": [
    {
     "name": "stdout",
     "output_type": "stream",
     "text": [
      "The decimal representation of 1010011 is 83.\n"
     ]
    }
   ],
   "source": [
    "def binary_to_decimal(binary_str):\n",
    "    decimal = 0\n",
    "    for i in range(len(binary_str)):\n",
    "        decimal += int(binary_str[-(i + 1)]) * (2 ** i)\n",
    "    return decimal\n",
    "\n",
    "# Get user input\n",
    "binary_input = input(\"Enter a binary number: \")\n",
    "decimal_output = binary_to_decimal(binary_input)\n",
    "print(f\"The decimal representation of {binary_input} is {decimal_output}.\")\n"
   ]
  },
  {
   "cell_type": "markdown",
   "id": "4af0edee",
   "metadata": {},
   "source": [
    "# Popcorn Hack 2: Binary Addition Battle\n",
    "How it Works:\n",
    "\n",
    "Step 1: The game randomly generates two binary numbers (between 0 and 255).\n",
    "\n",
    "Step 2: The user must add these binary numbers and input the result.\n",
    "\n",
    "Step 3: The game checks if the result is correct and measures how fast the user solved it, providing feedback and points based on performance."
   ]
  },
  {
   "cell_type": "code",
   "execution_count": 9,
   "id": "76de685c",
   "metadata": {},
   "outputs": [
    {
     "name": "stdout",
     "output_type": "stream",
     "text": [
      "Add the following binary numbers:\n",
      "Number 1: 111101\n",
      "Number 2: 11110111\n",
      "❌ Oops! The correct answer was 100110100.\n",
      "🏅 Your score: -5 points.\n"
     ]
    }
   ],
   "source": [
    "import random\n",
    "import time\n",
    "\n",
    "def binary_addition_battle():\n",
    "    # Generate two random binary numbers (up to 8 bits)\n",
    "    num1 = bin(random.randint(0, 255))[2:]\n",
    "    num2 = bin(random.randint(0, 255))[2:]\n",
    "    \n",
    "    # Show the binary numbers\n",
    "    print(f\"Add the following binary numbers:\")\n",
    "    print(f\"Number 1: {num1}\")\n",
    "    print(f\"Number 2: {num2}\")\n",
    "    \n",
    "    # Start the timer\n",
    "    start_time = time.time()\n",
    "    \n",
    "    # Ask the user for the sum\n",
    "    user_answer = input(\"Your answer (in binary): \")\n",
    "    \n",
    "    # End the timer\n",
    "    end_time = time.time()\n",
    "    \n",
    "    # Calculate the correct binary sum\n",
    "    correct_answer = bin(int(num1, 2) + int(num2, 2))[2:]\n",
    "    \n",
    "    # Check if the answer is correct\n",
    "    if user_answer == correct_answer:\n",
    "        print(f\"✅ Correct! You took {end_time - start_time:.2f} seconds.\")\n",
    "        print(f\"🏅 Your score: +10 points!\")\n",
    "    else:\n",
    "        print(f\"❌ Oops! The correct answer was {correct_answer}.\")\n",
    "        print(f\"🏅 Your score: -5 points.\")\n",
    "\n",
    "# Run the game\n",
    "binary_addition_battle()\n"
   ]
  },
  {
   "cell_type": "markdown",
   "id": "ab6fdd4f",
   "metadata": {},
   "source": [
    "# Homework Hack\n",
    "1. Explain in 1–2 sentences how to convert a binary number into a decimal number.\n",
    "You convert a binary number into a decimal by multiplying each bit by 2 raised to the power of its position (starting from the right at 0), then adding up all the results.\n",
    "For example, in 101, you calculate: 1×2² + 0×2¹ + 1×2⁰ = 4 + 0 + 1 = 5.\n",
    "\n",
    "2. If you are given the binary number 11111111, what decimal number is that?\n",
    "The binary number 11111111 equals 255 in decimal.\n",
    "(Explanation: 1×2⁷ + 1×2⁶ + 1×2⁵ + 1×2⁴ + 1×2³ + 1×2² + 1×2¹ + 1×2⁰ = 128 + 64 + 32 + 16 + 8 + 4 + 2 + 1 = 255.)\n",
    "\n"
   ]
  },
  {
   "cell_type": "markdown",
   "id": "ca45c490",
   "metadata": {},
   "source": [
    "# Popcorn Hack 1\n",
    "### Question:\n",
    "What are methods of real-world purpose that using logic gates can implement? Explain deeper if using our listed impacts, explaining why this impact is helpful.\n",
    "\n",
    "### Answer:\n",
    "Logic gates are used in a variety of real-world systems. Here are some key examples and the associated impacts:\n",
    "\n",
    "1. **Security Systems (Impact: Safety and Privacy)**\n",
    "   - Logic gates control access systems like alarms and authentication processes. For example, an AND gate might be used to require two factors (e.g., a keycard and a pin) to trigger access.\n",
    "   - **Why it's helpful**: Increases security by ensuring multiple conditions are met before granting access.\n",
    "\n",
    "2. **Digital Circuits (Impact: Accuracy and Speed)**\n",
    "   - Digital circuits that perform arithmetic and logic operations (e.g., in processors) rely on logic gates.\n",
    "   - **Why it's helpful**: Logic gates ensure correct and fast computations, which are essential in modern computing systems.\n",
    "\n",
    "3. **Traffic Light Control Systems (Impact: Efficiency and Safety)**\n",
    "   - Logic gates help control traffic lights based on sensors and timers. AND, OR, and NOT gates are commonly used to coordinate safe traffic flow.\n",
    "   - **Why it's helpful**: Increases road safety by ensuring traffic signals are managed logically and efficiently.\n",
    "\n",
    "4. **Error Detection in Data Transmission (Impact: Reliability)**\n",
    "   - XOR gates are used in error detection and correction algorithms, like parity checks.\n",
    "   - **Why it's helpful**: Helps ensure data integrity during transmission, preventing data corruption.\n",
    "\n",
    "---\n",
    "\n",
    "# Popcorn Hack 2\n",
    "### Question:\n",
    "A digital circuit receives three binary inputs: X, Y, and Z. The circuit outputs 1 if and only if X AND Y are both 1, OR Z is 1. Which of the following expressions represents the circuit’s behavior?\n",
    "\n",
    "**A.** (X AND Y) OR Z  \n",
    "**B.** X AND (Y OR Z)  \n",
    "**C.** (X OR Y) AND Z  \n",
    "**D.** NOT(X AND Y) OR Z  \n",
    "\n",
    "### Answer:\n",
    "The correct answer is **A. (X AND Y) OR Z**.\n",
    "\n",
    "**Explanation:**\n",
    "- The output is 1 if X AND Y are both 1, or if Z is 1. \n",
    "- This directly matches the logic of the expression `(X AND Y) OR Z`.\n",
    "\n",
    "---\n",
    "\n",
    "# Homework Hack: Authorization System\n",
    "### Task:\n",
    "Fill in the missing code necessary to implement a Python function that simulates a secure entry system using an AND gate.\n",
    "\n",
    "```python\n",
    "def secure_entry_system(keycard, pin):\n",
    "    def AND(a, b):\n",
    "        return a & b  # AND logic\n",
    "\n",
    "    return AND(keycard, pin)\n",
    "\n",
    "# Test cases\n",
    "print(secure_entry_system(1, 1))  # Expected Output: 1 (Access Granted)\n",
    "print(secure_entry_system(0, 1))  # Expected Output: 0 (Access Denied)\n",
    "\n",
    "\n"
   ]
  },
  {
   "cell_type": "markdown",
   "id": "6c296a99",
   "metadata": {},
   "source": [
    "# Answer\n",
    "\n",
    "To add another variable like voice authorization, you can extend the function by incorporating another AND gate to check all three conditions (keycard, pin, and voice authorization):\n"
   ]
  },
  {
   "cell_type": "code",
   "execution_count": 3,
   "id": "ce7f72c9",
   "metadata": {},
   "outputs": [
    {
     "name": "stdout",
     "output_type": "stream",
     "text": [
      "1\n",
      "0\n",
      "0\n",
      "0\n"
     ]
    }
   ],
   "source": [
    "def secure_entry_system(keycard, pin, voice_authorization):\n",
    "    def AND(a, b):\n",
    "        return a & b  # AND logic\n",
    "\n",
    "    # Combine keycard, pin, and voice authorization using AND gates\n",
    "    return AND(AND(keycard, pin), voice_authorization)\n",
    "\n",
    "# Test cases\n",
    "print(secure_entry_system(1, 1, 1))  # Expected Output: 1 (Access Granted)\n",
    "print(secure_entry_system(0, 1, 1))  # Expected Output: 0 (Access Denied)\n",
    "print(secure_entry_system(1, 0, 1))  # Expected Output: 0 (Access Denied)\n",
    "print(secure_entry_system(1, 1, 0))  # Expected Output: 0 (Access Denied)\n"
   ]
  }
 ],
 "metadata": {
  "kernelspec": {
   "display_name": "venv",
   "language": "python",
   "name": "python3"
  },
  "language_info": {
   "codemirror_mode": {
    "name": "ipython",
    "version": 3
   },
   "file_extension": ".py",
   "mimetype": "text/x-python",
   "name": "python",
   "nbconvert_exporter": "python",
   "pygments_lexer": "ipython3",
   "version": "3.12.3"
  }
 },
 "nbformat": 4,
 "nbformat_minor": 5
}
