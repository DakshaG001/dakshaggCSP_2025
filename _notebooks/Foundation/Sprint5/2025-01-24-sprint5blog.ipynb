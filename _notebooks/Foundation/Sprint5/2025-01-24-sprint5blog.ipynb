{
 "cells": [
  {
   "cell_type": "markdown",
   "metadata": {},
   "source": [
    "---\n",
    "layout: post\n",
    "title: Sprint5 Blog\n",
    "description:  Leaderboard\n",
    "type: issues \n",
    "comments: true\n",
    "---"
   ]
  },
  {
   "cell_type": "markdown",
   "metadata": {},
   "source": [
    "\n",
    "<iframe width=\"640\" height=\"360\" src=\"https://www.loom.com/embed/9072cee326a74125b2ad3c8740fe5e47?sid=edf0a3f6-4baf-4862-a959-6d6de26f3915\" frameborder=\"0\" webkitallowfullscreen mozallowfullscreen allowfullscreen></iframe>\n",
    "\n",
    "\n",
    "## 1. List Creation "
   ]
  },
  {
   "cell_type": "code",
   "execution_count": null,
   "metadata": {},
   "outputs": [],
   "source": [
    "def get(self):\n",
    "    try:\n",
    "        competition_entries = Time.query.all() \n",
    "        result = {}"
   ]
  },
  {
   "cell_type": "markdown",
   "metadata": {},
   "source": [
    "The **list creation** part is where the `competition_entries` list is created by **querying** the `Time` table.  \n",
    "\n",
    "## 2. List Processing"
   ]
  },
  {
   "cell_type": "code",
   "execution_count": null,
   "metadata": {},
   "outputs": [],
   "source": [
    "        for word in result:\n",
    "            result[word] = sorted(\n",
    "                result[word],\n",
    "                key=lambda x: x['score'],\n",
    "                reverse=True\n",
    "            )\n",
    "\n",
    "        return result\n",
    "\n",
    "    except Exception as e:\n",
    "        print(f\"Error in get method: {str(e)}\")\n",
    "        return {}"
   ]
  },
  {
   "cell_type": "markdown",
   "metadata": {},
   "source": [
    "This code segment is part of the list processing in the `get` method of the `LeaderboardAPI` class. It processes the **result dictionary** by **sorting** the lists of **leaderboard entries** for each **word** by their **scores** in **descending order**.\n",
    "\n",
    "# A function"
   ]
  },
  {
   "cell_type": "code",
   "execution_count": null,
   "metadata": {},
   "outputs": [],
   "source": [
    "def get(self):\n",
    "    try:\n",
    "        result = {}\n",
    "        for entry in Time.query.all():  # Iteration\n",
    "            word = entry.drawn_word\n",
    "            result.setdefault(word, [])\n",
    "            \n",
    "            speed_factor = entry.timer_duration / entry.time_taken\n",
    "            score = min(1000, int(speed_factor * 500))\n",
    "\n",
    "            leaderboard_entry = LeaderboardEntry.query.filter_by(\n",
    "                created_by=entry.created_by, drawing_name=word\n",
    "            ).first()\n",
    "\n",
    "            if leaderboard_entry:  # Selection\n",
    "                if score > leaderboard_entry.score:\n",
    "                    leaderboard_entry.score = score\n",
    "                    leaderboard_entry.update()\n",
    "            else:\n",
    "                leaderboard_entry = LeaderboardEntry(\n",
    "                    profile_name=entry.users_name, drawing_name=word,\n",
    "                    score=score, created_by=entry.created_by\n",
    "                )\n",
    "                leaderboard_entry.create()\n",
    "\n",
    "            result[word].append(leaderboard_entry.read())\n",
    "\n",
    "        for word in result:\n",
    "            result[word] = sorted(result[word], key=lambda x: x['score'], reverse=True)\n",
    "\n",
    "        return result\n",
    "    except Exception as e:\n",
    "        return {\"error\": str(e)}, 500\n"
   ]
  },
  {
   "cell_type": "markdown",
   "metadata": {},
   "source": [
    "### Explanation\n",
    "\n",
    "- **Iterates** over all competition entries.\n",
    "- **Selects** if a leaderboard entry exists for the user and drawing word.\n",
    "  - Updates score if the new score is higher.\n",
    "  - Creates a new entry if none exists.\n",
    "- **Sorts** leaderboard entries for each drawing word by score (descending).\n",
    "- **Returns** the sorted leaderboard data.\n",
    "\n",
    "\n",
    "# 4. Call to the function"
   ]
  },
  {
   "cell_type": "code",
   "execution_count": null,
   "metadata": {},
   "outputs": [],
   "source": [
    "async function fetchLeaderboard() {\n",
    "    try {\n",
    "        const response = await fetch(`${pythonURI}/api/leaderboard`, {\n",
    "            credentials: 'include'\n",
    "        });\n",
    "\n",
    "        if (!response.ok) throw new Error('Failed to fetch leaderboard data');\n",
    "\n",
    "        const data = await response.json();\n",
    "        const container = document.getElementById('leaderboard-sections');\n",
    "        container.innerHTML = '';\n",
    "\n",
    "        Object.entries(data).forEach(([word, entries]) => {\n",
    "            container.appendChild(createWordSection(word, entries));\n",
    "        });\n",
    "    } catch (error) {\n",
    "        console.error('Error:', error);\n",
    "        showMessage(error.message, 'error');\n",
    "    }\n",
    "}\n"
   ]
  },
  {
   "cell_type": "markdown",
   "metadata": {},
   "source": [
    "### Explanation\n",
    "\n",
    "- **Sends** a `GET` request to fetch leaderboard data.\n",
    "- **Displays** the leaderboard entries in the UI.\n",
    "\n",
    "\n",
    "\n",
    "| Category | Score | Justification |\n",
    "|----------|-------|--------------|\n",
    "| **MCQ**  | 0.9/1 | I completed it honestly, following AP Exam conditions. I also reviewed my mistakes with screenshots and explanations for my corrections. |\n",
    "| **PPR**  | 0.85/1 | While I met all requirements, some sections could have been stronger. I could have put more effort into explanations and the required College Board video demo. |\n",
    "| **Total** | 1.75/2 | Improvements could be made in explanations and MCQ performance. |\n",
    "\n",
    "### Links:\n",
    "- **PPR**: [Sprint 5 Blog](https://dakshag001.github.io/dakshaggCSP_2025/2025/01/24/sprint5blog_IPYNB_2_.html)  \n",
    "- **MCQ**: [MCQ 2](https://dakshag001.github.io/dakshaggCSP_2025/2025/03/03/mcq2_IPYNB_2_.html)  \n"
   ]
  }
 ],
 "metadata": {
  "language_info": {
   "name": "python"
  }
 },
 "nbformat": 4,
 "nbformat_minor": 2
}
