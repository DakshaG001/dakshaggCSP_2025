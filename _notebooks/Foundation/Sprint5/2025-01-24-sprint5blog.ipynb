{
 "cells": [
  {
   "cell_type": "markdown",
   "metadata": {},
   "source": [
    "---\n",
    "layout: post\n",
    "title: Sprint 5 Blog\n",
    "description:  Leaderboard\n",
    "type: issues \n",
    "comments: true\n",
    "---"
   ]
  },
  {
   "cell_type": "markdown",
   "metadata": {},
   "source": [
    "\n",
    "# Leaderboard API Technical Analysis\n",
    "\n",
    "## 1. List Requests, Use of Lists, Dictionaries, and Database\n",
    "\n",
    "### List Requests\n",
    "The leaderboard API supports the following requests:\n",
    "- **GET** `/api/leaderboard`: Retrieve the leaderboard entries.\n",
    "- **POST** `/api/leaderboard`: Add a new leaderboard entry.\n",
    "- **PUT** `/api/leaderboard`: Update an existing leaderboard entry.\n",
    "- **DELETE** `/api/leaderboard/<profile_name>/<drawing_name>`: Delete a specific leaderboard entry.\n",
    "\n",
    "### Use of Lists and Dictionaries\n",
    "In the API, we use lists to handle multiple leaderboard entries and dictionaries to represent individual entries. The database rows are converted to dictionaries for JSON responses.\n",
    "\n",
    "#### Example:\n",
    "\n",
    "\n"
   ]
  },
  {
   "cell_type": "code",
   "execution_count": null,
   "metadata": {},
   "outputs": [],
   "source": [
    "# Converting database rows to list of dictionaries\n",
    "entries = LeaderboardEntry.query.order_by(LeaderboardEntry.score.desc()).all()\n",
    "entries_list = [entry.read() for entry in entries]"
   ]
  },
  {
   "cell_type": "markdown",
   "metadata": {},
   "source": [
    "## 2. Formatting Response Data (JSON) from API into DOM\n",
    "We use Flask's jsonify function to format the response data as JSON. In the frontend, we use JavaScript to fetch the JSON data from the API and update the DOM. This involves converting the JSON response into HTML elements to display the leaderboard.\n",
    "\n",
    "#### Example:"
   ]
  },
  {
   "cell_type": "code",
   "execution_count": null,
   "metadata": {},
   "outputs": [],
   "source": [
    "@leaderboard_api.route('/api/leaderboard', methods=['GET'])\n",
    "def get_leaderboard():\n",
    "    entries = LeaderboardEntry.query.order_by(LeaderboardEntry.score.desc()).all()\n",
    "    return jsonify([entry.read() for entry in entries]), 200"
   ]
  },
  {
   "cell_type": "markdown",
   "metadata": {},
   "source": [
    "## 3. Database Queries\n",
    "We use SQLAlchemy ORM to interact with the database. SQLAlchemy provides methods to query the database and return results as Python lists. For example, we can retrieve all leaderboard entries sorted by score or filter entries by profile name.\n",
    "\n",
    "#### Example:"
   ]
  },
  {
   "cell_type": "code",
   "execution_count": null,
   "metadata": {},
   "outputs": [],
   "source": [
    "# Get all entries sorted by score\n",
    "entries = LeaderboardEntry.query.order_by(LeaderboardEntry.score.desc()).all()\n",
    "\n",
    "# Filter by profile name\n",
    "entry = LeaderboardEntry.query.filter_by(profile_name=profile_name).first()"
   ]
  },
  {
   "cell_type": "markdown",
   "metadata": {},
   "source": [
    "## 4. CRUD Methods in Class\n",
    "We define methods in the **LeaderboardEntry** class to perform CRUD operations on the database:\n",
    "\n",
    "- Create: Adds a new entry to the database.\n",
    "- Read: Converts a database entry to a dictionary.\n",
    "- Update: Updates entry fields with new data.\n",
    "- Delete: Removes an entry from the database.\n",
    "\n",
    "#### Example:\n"
   ]
  },
  {
   "cell_type": "code",
   "execution_count": null,
   "metadata": {},
   "outputs": [],
   "source": [
    "class LeaderboardEntry(db.Model):\n",
    "    # Create\n",
    "    def create(self):\n",
    "        db.session.add(self)\n",
    "        db.session.commit()\n",
    "        \n",
    "    # Read\n",
    "    def read(self):\n",
    "        return {\n",
    "            \"profile_name\": self.profile_name,\n",
    "            \"drawing_name\": self.drawing_name,\n",
    "            \"score\": self.score\n",
    "        }\n",
    "        \n",
    "    # Update\n",
    "    def update(self, data):\n",
    "        for key, value in data.items():\n",
    "            setattr(self, key, value)\n",
    "        db.session.commit()\n",
    "        \n",
    "    # Delete\n",
    "    def delete(self):\n",
    "        db.session.delete(self)\n",
    "        db.session.commit()"
   ]
  },
  {
   "cell_type": "markdown",
   "metadata": {},
   "source": [
    "## 5. Algorithmic Code Request\n",
    "We define API endpoints to handle different types of requests. For example, the **PUT** request to update a leaderboard entry involves checking if the entry exists, updating the score if it does, or creating a new entry if it doesn't.\n",
    "\n",
    "#### Example:"
   ]
  },
  {
   "cell_type": "code",
   "execution_count": null,
   "metadata": {},
   "outputs": [],
   "source": [
    "@leaderboard_api.route('/api/leaderboard', methods=['PUT'])\n",
    "def update_leaderboard_entry():\n",
    "    try:\n",
    "        data = request.get_json()\n",
    "        existing_entry = LeaderboardEntry.query.filter_by(\n",
    "            profile_name=data.get('profile_name'),\n",
    "            drawing_name=data.get('drawing_name')\n",
    "        ).first()\n",
    "        \n",
    "        if existing_entry:\n",
    "            existing_entry.score = int(data.get('score', 0))\n",
    "            db.session.commit()\n",
    "            return jsonify({\"message\": \"Updated\"}), 200\n",
    "            \n",
    "        return jsonify({\"error\": \"Entry not found\"}), 404\n",
    "    except Exception as e:\n",
    "        return jsonify({\"error\": str(e)}), 500"
   ]
  },
  {
   "cell_type": "markdown",
   "metadata": {},
   "source": [
    "## 6. API Class\n",
    "We use Flask's **Blueprint** to define the API routes. The **leaderboard_api** blueprint handles the **GET, POST, PUT, and DELETE** methods, allowing us to organize the API endpoints and their implementations.\n",
    "\n",
    "#### Example:\n"
   ]
  },
  {
   "cell_type": "code",
   "execution_count": null,
   "metadata": {},
   "outputs": [],
   "source": [
    "leaderboard_api = Blueprint('leaderboard_api', __name__)\n",
    "\n",
    "@leaderboard_api.route('/api/leaderboard', methods=['GET'])\n",
    "def get_leaderboard():\n",
    "    # Implementation\n",
    "\n",
    "@leaderboard_api.route('/api/leaderboard', methods=['POST'])\n",
    "def add_leaderboard_entry():\n",
    "    # Implementation\n",
    "\n",
    "@leaderboard_api.route('/api/leaderboard', methods=['PUT'])\n",
    "def update_leaderboard_entry():\n",
    "    # Implementation\n",
    "\n",
    "@leaderboard_api.route('/api/leaderboard/<profile_name>/<drawing_name>', methods=['DELETE'])\n",
    "def delete_leaderboard_entry(profile_name, drawing_name):\n",
    "    # Implementation"
   ]
  },
  {
   "cell_type": "markdown",
   "metadata": {},
   "source": [
    "## 7. Method with Sequencing, Selection, and Iteration\n",
    "The **update_leaderboard_entry** method contains sequencing (steps to process the request), selection (conditional checks), and iteration (looping through data if needed). This method updates an existing entry or creates a new one based on the provided data.\n",
    "\n",
    "#### Example:"
   ]
  },
  {
   "cell_type": "code",
   "execution_count": null,
   "metadata": {},
   "outputs": [],
   "source": [
    "@leaderboard_api.route('/api/leaderboard', methods=['PUT'])\n",
    "def update_leaderboard_entry():\n",
    "    try:\n",
    "        data = request.get_json()\n",
    "        if not data:\n",
    "            return jsonify({\"error\": \"No data provided\"}), 400\n",
    "\n",
    "        existing_entry = LeaderboardEntry.query.filter_by(\n",
    "            profile_name=data.get('profile_name'),\n",
    "            drawing_name=data.get('drawing_name')\n",
    "        ).first()\n",
    "\n",
    "        new_score = int(data.get('score', 0))\n",
    "\n",
    "        if existing_entry:\n",
    "            existing_entry.score = new_score\n",
    "            db.session.commit()\n",
    "            return jsonify({\"message\": \"Score updated successfully\"}), 200\n",
    "\n",
    "        entry = LeaderboardEntry(\n",
    "            profile_name=data.get('profile_name'),\n",
    "            drawing_name=data.get('drawing_name'),\n",
    "            score=new_score\n",
    "        )\n",
    "        \n",
    "        if entry.create():\n",
    "            return jsonify({\"message\": \"New entry created\"}), 201\n",
    "        return jsonify({\"error\": \"Failed to create entry\"}), 400\n",
    "\n",
    "    except Exception as e:\n",
    "        db.session.rollback()\n",
    "        return jsonify({\"error\": str(e)}), 500"
   ]
  },
  {
   "cell_type": "markdown",
   "metadata": {},
   "source": [
    "## 8. Parameters and Return Type\n",
    "The **update_leaderboard_entry** method takes JSON data as input and returns a JSON response. The input data includes **profile_name, drawing_name, and score**. The response is formatted using **jsonify** to ensure it is returned as a JSON object.\n",
    "\n",
    "#### Example:"
   ]
  },
  {
   "cell_type": "code",
   "execution_count": null,
   "metadata": {},
   "outputs": [],
   "source": [
    "@leaderboard_api.route('/api/leaderboard', methods=['PUT'])\n",
    "def update_leaderboard_entry():\n",
    "    try:\n",
    "        data = request.get_json()\n",
    "        if not data:\n",
    "            return jsonify({\"error\": \"No data provided\"}), 400\n",
    "\n",
    "        existing_entry = LeaderboardEntry.query.filter_by(\n",
    "            profile_name=data.get('profile_name'),\n",
    "            drawing_name=data.get('drawing_name')\n",
    "        ).first()\n",
    "\n",
    "        new_score = int(data.get('score', 0))\n",
    "\n",
    "        if existing_entry:\n",
    "            existing_entry.score = new_score\n",
    "            db.session.commit()\n",
    "            return jsonify({\"message\": \"Score updated successfully\"}), 200\n",
    "\n",
    "        entry = LeaderboardEntry(\n",
    "            profile_name=data.get('profile_name'),\n",
    "            drawing_name=data.get('drawing_name'),\n",
    "            score=new_score\n",
    "        )\n",
    "        \n",
    "        if entry.create():\n",
    "            return jsonify({\"message\": \"New entry created\"}), 201\n",
    "        return jsonify({\"error\": \"Failed to create entry\"}), 400\n",
    "\n",
    "    except Exception as e:\n",
    "        db.session.rollback()\n",
    "        return jsonify({\"error\": str(e)}), 500"
   ]
  },
  {
   "cell_type": "markdown",
   "metadata": {},
   "source": [
    "## 9. Call to Algorithm Request\n",
    "In the frontend, we use the **fetch** API to make requests to the backend. For example, to submit a score, we send a **PUT** request with the profile name, drawing name, and score. The response is handled by checking the status and updating the DOM accordingly. If the request is successful, we update the leaderboard; if there's an error, we display an error message.\n",
    "\n",
    "#### Example:"
   ]
  },
  {
   "cell_type": "code",
   "execution_count": null,
   "metadata": {},
   "outputs": [],
   "source": [
    "async function submitScore() {\n",
    "    const profileName = document.getElementById('profileName').value.trim();\n",
    "    const drawingName = document.getElementById('drawingName').value.trim();\n",
    "    const score = parseInt(document.getElementById('score').value);\n",
    "\n",
    "    if (!profileName || !drawingName) {\n",
    "        showMessage('Please fill in all fields', true);\n",
    "        return;\n",
    "    }\n",
    "\n",
    "    if (isNaN(score) || score < 0 || score > 100) {\n",
    "        showMessage('Please enter a valid score between 0 and 100', true);\n",
    "        return;\n",
    "    }\n",
    "\n",
    "    try {\n",
    "        const response = await fetch(API_URL, {\n",
    "            method: 'PUT',\n",
    "            headers: {\n",
    "                'Content-Type': 'application/json',\n",
    "            },\n",
    "            body: JSON.stringify({\n",
    "                profile_name: profileName,\n",
    "                drawing_name: drawingName,\n",
    "                score: score\n",
    "            })\n",
    "        });\n",
    "\n",
    "        const data = await response.json();\n",
    "\n",
    "        if (response.ok) {\n",
    "            showMessage(data.message);\n",
    "            document.getElementById('profileName').value = '';\n",
    "            document.getElementById('drawingName').value = '';\n",
    "            document.getElementById('score').value = '';\n",
    "            await fetchLeaderboard();\n",
    "        } else {\n",
    "            throw new Error(data.error || 'Failed to submit score');\n",
    "        }\n",
    "    } catch (error) {\n",
    "        console.error('Error:', error);\n",
    "        showMessage(error.message, true);\n",
    "    }\n",
    "}\n"
   ]
  }
 ],
 "metadata": {
  "language_info": {
   "name": "python"
  }
 },
 "nbformat": 4,
 "nbformat_minor": 2
}
