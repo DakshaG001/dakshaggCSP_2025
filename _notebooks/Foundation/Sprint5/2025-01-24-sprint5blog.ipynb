{
 "cells": [
  {
   "cell_type": "markdown",
   "metadata": {},
   "source": [
    "---\n",
    "layout: post\n",
    "title: PPR\n",
    "description:  Leaderboard\n",
    "type: issues \n",
    "comments: true\n",
    "---"
   ]
  },
  {
   "cell_type": "markdown",
   "metadata": {},
   "source": [
    "\n",
    "<iframe width=\"640\" height=\"360\" src=\"https://www.loom.com/embed/9072cee326a74125b2ad3c8740fe5e47?sid=edf0a3f6-4baf-4862-a959-6d6de26f3915\" frameborder=\"0\" webkitallowfullscreen mozallowfullscreen allowfullscreen></iframe>\n",
    "\n",
    "\n",
    "## 1. List Creation "
   ]
  },
  {
   "cell_type": "code",
   "execution_count": null,
   "metadata": {},
   "outputs": [],
   "source": [
    "def get(self):\n",
    "    try:\n",
    "        competition_entries = Time.query.all() \n",
    "        result = {}"
   ]
  },
  {
   "cell_type": "markdown",
   "metadata": {},
   "source": [
    "The **list creation** part is where the `competition_entries` list is created by **querying** the `Time` table.  \n",
    "\n",
    "## 2. List Processing"
   ]
  },
  {
   "cell_type": "code",
   "execution_count": null,
   "metadata": {},
   "outputs": [],
   "source": [
    "        for word in result:\n",
    "            result[word] = sorted(\n",
    "                result[word],\n",
    "                key=lambda x: x['score'],\n",
    "                reverse=True\n",
    "            )\n",
    "\n",
    "        return result\n",
    "\n",
    "    except Exception as e:\n",
    "        print(f\"Error in get method: {str(e)}\")\n",
    "        return {}"
   ]
  },
  {
   "cell_type": "markdown",
   "metadata": {},
   "source": [
    "This code segment is part of the list processing in the `get` method of the `LeaderboardAPI` class. It processes the **result dictionary** by **sorting** the lists of **leaderboard entries** for each **word** by their **scores** in **descending order**.\n",
    "\n",
    "# A function"
   ]
  },
  {
   "cell_type": "code",
   "execution_count": null,
   "metadata": {},
   "outputs": [],
   "source": [
    "def post(self):\n",
    "    current_user = g.current_user\n",
    "    data = request.get_json()\n",
    "\n",
    "    if not data or \"drawing_name\" not in data:\n",
    "        return {\n",
    "            \"message\": \"Missing drawing name\",\n",
    "            \"error\": \"Bad Request\"\n",
    "        }, 400\n",
    "\n",
    "    try:\n",
    "        if \"score\" in data:\n",
    "            score = int(data['score'])\n",
    "        else:\n",
    "            competition_entry = Time.query.filter_by(\n",
    "                created_by=current_user.id,\n",
    "                drawn_word=data['drawing_name']\n",
    "            ).first()\n",
    "\n",
    "            if not competition_entry:\n",
    "                return {\n",
    "                    \"message\": \"No competition entry found for this drawing\",\n",
    "                    \"error\": \"Not Found\"\n",
    "                }, 404\n",
    "\n",
    "            speed_factor = competition_entry.timer_duration / competition_entry.time_taken\n",
    "            score = min(1000, int(speed_factor * 500))\n",
    "\n",
    "        existing_entry = LeaderboardEntry.query.filter_by(\n",
    "            created_by=current_user.id,\n",
    "            drawing_name=data['drawing_name']\n",
    "        ).first()\n",
    "\n",
    "        if existing_entry:\n",
    "            if score > existing_entry.score:\n",
    "                existing_entry.score = score\n",
    "                existing_entry.update()\n",
    "            return existing_entry.read(), 200\n",
    "        else:\n",
    "            entry = LeaderboardEntry(\n",
    "                profile_name=current_user.name,\n",
    "                drawing_name=data['drawing_name'],\n",
    "                score=score,\n",
    "                created_by=current_user.id\n",
    "            )\n",
    "            entry.create()\n",
    "            return entry.read(), 201\n",
    "\n",
    "    except Exception as e:\n",
    "        return {\n",
    "            \"message\": \"Failed to create/update entry\",\n",
    "            \"error\": str(e)\n",
    "        }, 500"
   ]
  },
  {
   "cell_type": "markdown",
   "metadata": {},
   "source": [
    "### Explanation\n",
    "\n",
    "- **Retrieves** the current user and request data.\n",
    "- **Validates** the input data for the presence of `drawing_name`.\n",
    "- **Calculates** the score:\n",
    "  - Uses the provided score if available.\n",
    "  - Otherwise, fetches competition data and calculates the score based on the speed factor.\n",
    "- **Checks** if a leaderboard entry exists for the user and drawing word:\n",
    "  - **Updates** the score if the new score is higher.\n",
    "  - **Creates** a new entry if none exists.\n",
    "- **Handles** exceptions and returns appropriate error messages.\n",
    "\n",
    "# 4. Call to the function"
   ]
  },
  {
   "cell_type": "code",
   "execution_count": null,
   "metadata": {},
   "outputs": [],
   "source": [
    "document.getElementById('score-form').addEventListener('submit', async function(event) {\n",
    "    event.preventDefault();\n",
    "    const drawingName = document.getElementById('drawingName').value.trim();\n",
    "    const score = document.getElementById('score').value;\n",
    "    \n",
    "    try {\n",
    "        const body = { drawing_name: drawingName };\n",
    "        if (score) {\n",
    "            const scoreNum = parseInt(score);\n",
    "            if (scoreNum < 0 || scoreNum > 1000) {\n",
    "                showMessage('Score must be between 0 and 1000', 'error');\n",
    "                return;\n",
    "            }\n",
    "            body.score = scoreNum;\n",
    "        }\n",
    "\n",
    "        const response = await fetch(`${pythonURI}/api/leaderboard`, {\n",
    "            method: 'POST',\n",
    "            credentials: 'include',\n",
    "            headers: { 'Content-Type': 'application/json' },\n",
    "            body: JSON.stringify(body)\n",
    "        });\n",
    "\n",
    "        const data = await response.json();\n",
    "        \n",
    "        if (!response.ok) throw new Error(data.message);\n",
    "        \n",
    "        showMessage('Score submitted successfully!', 'success');\n",
    "        this.reset();\n",
    "        await fetchLeaderboard();\n",
    "    } catch (error) {\n",
    "        console.error('Error:', error);\n",
    "        showMessage(error.message, 'error');\n",
    "    }\n",
    "});\n"
   ]
  },
  {
   "cell_type": "markdown",
   "metadata": {},
   "source": [
    "### Explanation\n",
    "\n",
    "- **Retrieves** the drawing name and score from the form inputs.\n",
    "- **Validates** the score to ensure it is between 0 and 1000.\n",
    "- **Prepares** the request body with the drawing name and score.\n",
    "- **Sends** a `POST` request to the `api` with the request body.\n",
    "- **Handles** the response:\n",
    "  - If successful, displays a success message, resets the form, and fetches the updated leaderboard data.\n",
    "  - If unsuccessful, displays an error message."
   ]
  }
 ],
 "metadata": {
  "language_info": {
   "name": "python"
  }
 },
 "nbformat": 4,
 "nbformat_minor": 2
}
