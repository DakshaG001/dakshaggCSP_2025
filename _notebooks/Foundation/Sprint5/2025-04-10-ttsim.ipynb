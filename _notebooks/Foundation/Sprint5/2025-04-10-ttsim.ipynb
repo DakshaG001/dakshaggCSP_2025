{
 "cells": [
  {
   "cell_type": "markdown",
   "id": "d2cc03ac",
   "metadata": {},
   "source": [
    "---\n",
    "layout: post\n",
    "title: ttsim\n",
    "description:  pluh\n",
    "type: issues \n",
    "comments: true\n",
    "---"
   ]
  },
  {
   "cell_type": "markdown",
   "id": "5c326f2f",
   "metadata": {},
   "source": [
    "# Popcorn Hack #1: Brainstorm\n",
    "\n",
    "## What do you think a random algorithm is?\n",
    "A random algorithm uses chance or randomness to make decisions or select values. It doesn’t always produce the same result, making it useful for unpredictability or fair selection.\n",
    "\n",
    "## Why would you use random algorithms in real-life coding?\n",
    "- Simulate real-world uncertainty (e.g., games, simulations)\n",
    "- Fair selections (e.g., picking a winner or task)\n",
    "- Testing software with random inputs\n",
    "- Distributing tasks evenly and unpredictably\n",
    "\n",
    "## What kind of questions might College Board ask?\n",
    "- Predict the output or range of outputs\n",
    "- Understand randomness in pseudocode\n",
    "- Difference between deterministic and random algorithms\n",
    "- Effects of random selection on an algorithm’s behavior\n",
    "\n",
    "---\n",
    "\n",
    "# Popcorn Hack #2: Random Activity Picker\n",
    "\n",
    "\n"
   ]
  },
  {
   "cell_type": "code",
   "execution_count": 1,
   "id": "4439613d",
   "metadata": {},
   "outputs": [
    {
     "name": "stdout",
     "output_type": "stream",
     "text": [
      "Today’s random activity: Practice coding\n"
     ]
    }
   ],
   "source": [
    "import random\n",
    "\n",
    "# Step 1: Define a list of activities (customize this!)\n",
    "activities = ['Play basketball', 'Watch anime', 'Practice coding', 'Make a TikTok', 'Take a walk', 'Do yoga']\n",
    "\n",
    "# Step 2: Randomly choose an activity\n",
    "random_activity = random.choice(activities)\n",
    "\n",
    "# Step 3: Display the chosen activity\n",
    "print(f\"Today’s random activity: {random_activity}\")\n"
   ]
  },
  {
   "cell_type": "markdown",
   "id": "0aa6b525",
   "metadata": {},
   "source": [
    "# Popcorn Hack #3: Random Party Role Assignment"
   ]
  },
  {
   "cell_type": "code",
   "execution_count": 2,
   "id": "38cb77c2",
   "metadata": {},
   "outputs": [
    {
     "name": "stdout",
     "output_type": "stream",
     "text": [
      "Johan will be monitoring the dance floor!\n",
      "Aliyah will be monitoring the snack bar!\n",
      "Chris will be monitoring the music booth!\n",
      "Zoe will be monitoring the game zone!\n",
      "Maya will be monitoring the photo booth!\n"
     ]
    }
   ],
   "source": [
    "import random\n",
    "\n",
    "# Define hosts and activities\n",
    "hosts = ['Johan', 'Aliyah', 'Chris', 'Zoe', 'Maya']\n",
    "activities = ['music booth', 'photo booth', 'snack bar', 'game zone', 'dance floor']\n",
    "\n",
    "# Shuffle activities randomly\n",
    "random.shuffle(activities)\n",
    "\n",
    "# Assign each host to an activity\n",
    "for i in range(len(hosts)):\n",
    "    print(f\"{hosts[i]} will be monitoring the {activities[i]}!\")\n"
   ]
  },
  {
   "cell_type": "markdown",
   "id": "2292d4f9",
   "metadata": {},
   "source": [
    "# Homework Hack 1: Random Team Assignment"
   ]
  },
  {
   "cell_type": "code",
   "execution_count": 3,
   "id": "e8a12ae3",
   "metadata": {},
   "outputs": [
    {
     "name": "stdout",
     "output_type": "stream",
     "text": [
      "Ava is in team Phoenix Flames\n",
      "Liam is in team Thunderbolts\n",
      "Olivia is in team Cyber Ninjas\n",
      "Noah is in team Phoenix Flames\n",
      "Emma is in team Thunderbolts\n",
      "Elijah is in team Phoenix Flames\n",
      "Sophia is in team Thunderbolts\n",
      "Lucas is in team Thunderbolts\n",
      "Isabella is in team Thunderbolts\n",
      "Mason is in team Thunderbolts\n",
      "Mia is in team Phoenix Flames\n",
      "Logan is in team Thunderbolts\n",
      "Amelia is in team Thunderbolts\n",
      "James is in team Thunderbolts\n",
      "Harper is in team Cyber Ninjas\n"
     ]
    }
   ],
   "source": [
    "import random\n",
    "\n",
    "# List of 15 students\n",
    "students = [\n",
    "    'Ava', 'Liam', 'Olivia', 'Noah', 'Emma',\n",
    "    'Elijah', 'Sophia', 'Lucas', 'Isabella', 'Mason',\n",
    "    'Mia', 'Logan', 'Amelia', 'James', 'Harper'\n",
    "]\n",
    "\n",
    "# Team names\n",
    "teams = ['Thunderbolts', 'Phoenix Flames', 'Cyber Ninjas']\n",
    "\n",
    "# Dictionary to hold assignments\n",
    "assignments = {}\n",
    "\n",
    "# Randomly assign each student to a team\n",
    "for student in students:\n",
    "    team = random.choice(teams)\n",
    "    assignments[student] = team\n",
    "\n",
    "# Print the assignments\n",
    "for student, team in assignments.items():\n",
    "    print(f\"{student} is in team {team}\")\n"
   ]
  },
  {
   "cell_type": "markdown",
   "id": "326e4816",
   "metadata": {},
   "source": [
    "# Homework Hack 2: Random Weather"
   ]
  },
  {
   "cell_type": "code",
   "execution_count": 4,
   "id": "f00f04fa",
   "metadata": {},
   "outputs": [
    {
     "name": "stdout",
     "output_type": "stream",
     "text": [
      "Day 1: Cloudy\n",
      "Day 2: Cloudy\n",
      "Day 3: Rainy\n",
      "Day 4: Cloudy\n",
      "Day 5: Rainy\n",
      "Day 6: Sunny\n",
      "Day 7: Cloudy\n"
     ]
    }
   ],
   "source": [
    "import random\n",
    "\n",
    "# Weather options\n",
    "weather_types = ['Sunny', 'Cloudy', 'Rainy']\n",
    "\n",
    "# Simulate weather for 7 days\n",
    "for day in range(1, 8):\n",
    "    weather = random.choice(weather_types)\n",
    "    print(f\"Day {day}: {weather}\")\n"
   ]
  },
  {
   "cell_type": "markdown",
   "id": "dce18364",
   "metadata": {},
   "source": [
    "# Simulations"
   ]
  },
  {
   "cell_type": "markdown",
   "id": "9297873a",
   "metadata": {},
   "source": [
    "# Popcorn Hack #1: Number Spinner\n",
    "\n",
    "## 🎯 Objective:\n",
    "Simulate a number spinner instead of rolling a dice. You can choose any range of numbers.\n"
   ]
  },
  {
   "cell_type": "code",
   "execution_count": 5,
   "id": "151957cb",
   "metadata": {},
   "outputs": [
    {
     "name": "stdout",
     "output_type": "stream",
     "text": [
      "The spinner landed on: 11\n"
     ]
    }
   ],
   "source": [
    "import random\n",
    "\n",
    "# Choose a number range (e.g., 1 to 12)\n",
    "spinner_min = 1\n",
    "spinner_max = 12\n",
    "\n",
    "# Simulate the spin\n",
    "spin_result = random.randint(spinner_min, spinner_max)\n",
    "\n",
    "# Display the result\n",
    "print(f\"The spinner landed on: {spin_result}\")\n"
   ]
  },
  {
   "cell_type": "markdown",
   "id": "f31f593a",
   "metadata": {},
   "source": [
    "# Popcorn Hack #2: Rock, Paper, Scissors"
   ]
  },
  {
   "cell_type": "code",
   "execution_count": 6,
   "id": "685345fc",
   "metadata": {},
   "outputs": [
    {
     "name": "stdout",
     "output_type": "stream",
     "text": [
      "You chose: rock\n",
      "Computer chose: rock\n",
      "It's a tie!\n"
     ]
    }
   ],
   "source": [
    "import random\n",
    "\n",
    "# List of possible choices\n",
    "choices = ['rock', 'paper', 'scissors']\n",
    "\n",
    "# User input\n",
    "user_choice = input(\"Choose rock, paper, or scissors: \").lower()\n",
    "\n",
    "# Random computer choice\n",
    "computer_choice = random.choice(choices)\n",
    "\n",
    "# Determine the result\n",
    "if user_choice == computer_choice:\n",
    "    result = \"It's a tie!\"\n",
    "elif (\n",
    "    (user_choice == 'rock' and computer_choice == 'scissors') or\n",
    "    (user_choice == 'paper' and computer_choice == 'rock') or\n",
    "    (user_choice == 'scissors' and computer_choice == 'paper')\n",
    "):\n",
    "    result = \"You win!\"\n",
    "else:\n",
    "    result = \"You lose!\"\n",
    "\n",
    "# Show outcome\n",
    "print(f\"You chose: {user_choice}\")\n",
    "print(f\"Computer chose: {computer_choice}\")\n",
    "print(result)\n"
   ]
  },
  {
   "cell_type": "markdown",
   "id": "91ec864f",
   "metadata": {},
   "source": [
    "# Homework Hack: Random Coffee Shop Queue"
   ]
  },
  {
   "cell_type": "code",
   "execution_count": 7,
   "id": "c7d9f92f",
   "metadata": {},
   "outputs": [
    {
     "name": "stdout",
     "output_type": "stream",
     "text": [
      "Customer 1: 4 minutes\n",
      "Customer 2: 5 minutes\n",
      "Customer 3: 2 minutes\n",
      "Customer 4: 5 minutes\n",
      "Customer 5: 5 minutes\n",
      "\n",
      "Total time to serve all customers: 21 minutes\n"
     ]
    }
   ],
   "source": [
    "import random\n",
    "\n",
    "# Number of customers\n",
    "num_customers = 5\n",
    "\n",
    "# Generate random service times between 1–5 minutes\n",
    "service_times = [random.randint(1, 5) for _ in range(num_customers)]\n",
    "\n",
    "# Calculate total time\n",
    "total_time = sum(service_times)\n",
    "\n",
    "# Print each customer’s wait time and total\n",
    "for i, time in enumerate(service_times, start=1):\n",
    "    print(f\"Customer {i}: {time} minutes\")\n",
    "\n",
    "print(f\"\\nTotal time to serve all customers: {total_time} minutes\")\n"
   ]
  }
 ],
 "metadata": {
  "kernelspec": {
   "display_name": "venv",
   "language": "python",
   "name": "python3"
  },
  "language_info": {
   "codemirror_mode": {
    "name": "ipython",
    "version": 3
   },
   "file_extension": ".py",
   "mimetype": "text/x-python",
   "name": "python",
   "nbconvert_exporter": "python",
   "pygments_lexer": "ipython3",
   "version": "3.12.3"
  }
 },
 "nbformat": 4,
 "nbformat_minor": 5
}
