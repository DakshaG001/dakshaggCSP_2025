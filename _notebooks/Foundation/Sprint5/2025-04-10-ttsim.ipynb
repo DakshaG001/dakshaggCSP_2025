{
 "cells": [
  {
   "cell_type": "markdown",
   "id": "d2cc03ac",
   "metadata": {},
   "source": [
    "---\n",
    "layout: post\n",
    "title: ttsim\n",
    "description:  pluh\n",
    "type: issues \n",
    "comments: true\n",
    "---"
   ]
  },
  {
   "cell_type": "markdown",
   "id": "5c326f2f",
   "metadata": {},
   "source": [
    "# Popcorn Hack #1: Brainstorm\n",
    "\n",
    "## What do you think a random algorithm is?\n",
    "A random algorithm uses chance or randomness to make decisions or select values. It doesn’t always produce the same result, making it useful for unpredictability or fair selection.\n",
    "\n",
    "## Why would you use random algorithms in real-life coding?\n",
    "- Simulate real-world uncertainty (e.g., games, simulations)\n",
    "- Fair selections (e.g., picking a winner or task)\n",
    "- Testing software with random inputs\n",
    "- Distributing tasks evenly and unpredictably\n",
    "\n",
    "## What kind of questions might College Board ask?\n",
    "- Predict the output or range of outputs\n",
    "- Understand randomness in pseudocode\n",
    "- Difference between deterministic and random algorithms\n",
    "- Effects of random selection on an algorithm’s behavior\n",
    "\n",
    "---\n",
    "\n",
    "# Popcorn Hack #2: Random Activity Picker\n",
    "\n",
    "\n"
   ]
  },
  {
   "cell_type": "code",
   "execution_count": 1,
   "id": "4439613d",
   "metadata": {},
   "outputs": [
    {
     "name": "stdout",
     "output_type": "stream",
     "text": [
      "Today’s random activity: Practice coding\n"
     ]
    }
   ],
   "source": [
    "import random\n",
    "\n",
    "# Step 1: Define a list of activities (customize this!)\n",
    "activities = ['Play basketball', 'Watch anime', 'Practice coding', 'Make a TikTok', 'Take a walk', 'Do yoga']\n",
    "\n",
    "# Step 2: Randomly choose an activity\n",
    "random_activity = random.choice(activities)\n",
    "\n",
    "# Step 3: Display the chosen activity\n",
    "print(f\"Today’s random activity: {random_activity}\")\n"
   ]
  },
  {
   "cell_type": "markdown",
   "id": "0aa6b525",
   "metadata": {},
   "source": [
    "# Popcorn Hack #3: Random Party Role Assignment"
   ]
  },
  {
   "cell_type": "code",
   "execution_count": 2,
   "id": "38cb77c2",
   "metadata": {},
   "outputs": [
    {
     "name": "stdout",
     "output_type": "stream",
     "text": [
      "Johan will be monitoring the dance floor!\n",
      "Aliyah will be monitoring the snack bar!\n",
      "Chris will be monitoring the music booth!\n",
      "Zoe will be monitoring the game zone!\n",
      "Maya will be monitoring the photo booth!\n"
     ]
    }
   ],
   "source": [
    "import random\n",
    "\n",
    "# Define hosts and activities\n",
    "hosts = ['Johan', 'Aliyah', 'Chris', 'Zoe', 'Maya']\n",
    "activities = ['music booth', 'photo booth', 'snack bar', 'game zone', 'dance floor']\n",
    "\n",
    "# Shuffle activities randomly\n",
    "random.shuffle(activities)\n",
    "\n",
    "# Assign each host to an activity\n",
    "for i in range(len(hosts)):\n",
    "    print(f\"{hosts[i]} will be monitoring the {activities[i]}!\")\n"
   ]
  },
  {
   "cell_type": "markdown",
   "id": "2292d4f9",
   "metadata": {},
   "source": [
    "# Homework Hack 1: Random Team Assignment"
   ]
  },
  {
   "cell_type": "code",
   "execution_count": 3,
   "id": "e8a12ae3",
   "metadata": {},
   "outputs": [
    {
     "name": "stdout",
     "output_type": "stream",
     "text": [
      "Ava is in team Phoenix Flames\n",
      "Liam is in team Thunderbolts\n",
      "Olivia is in team Cyber Ninjas\n",
      "Noah is in team Phoenix Flames\n",
      "Emma is in team Thunderbolts\n",
      "Elijah is in team Phoenix Flames\n",
      "Sophia is in team Thunderbolts\n",
      "Lucas is in team Thunderbolts\n",
      "Isabella is in team Thunderbolts\n",
      "Mason is in team Thunderbolts\n",
      "Mia is in team Phoenix Flames\n",
      "Logan is in team Thunderbolts\n",
      "Amelia is in team Thunderbolts\n",
      "James is in team Thunderbolts\n",
      "Harper is in team Cyber Ninjas\n"
     ]
    }
   ],
   "source": [
    "import random\n",
    "\n",
    "# List of 15 students\n",
    "students = [\n",
    "    'Ava', 'Liam', 'Olivia', 'Noah', 'Emma',\n",
    "    'Elijah', 'Sophia', 'Lucas', 'Isabella', 'Mason',\n",
    "    'Mia', 'Logan', 'Amelia', 'James', 'Harper'\n",
    "]\n",
    "\n",
    "# Team names\n",
    "teams = ['Thunderbolts', 'Phoenix Flames', 'Cyber Ninjas']\n",
    "\n",
    "# Dictionary to hold assignments\n",
    "assignments = {}\n",
    "\n",
    "# Randomly assign each student to a team\n",
    "for student in students:\n",
    "    team = random.choice(teams)\n",
    "    assignments[student] = team\n",
    "\n",
    "# Print the assignments\n",
    "for student, team in assignments.items():\n",
    "    print(f\"{student} is in team {team}\")\n"
   ]
  },
  {
   "cell_type": "markdown",
   "id": "326e4816",
   "metadata": {},
   "source": [
    "# Homework Hack 2: Random Weather"
   ]
  },
  {
   "cell_type": "code",
   "execution_count": 32,
   "id": "f00f04fa",
   "metadata": {},
   "outputs": [
    {
     "name": "stdout",
     "output_type": "stream",
     "text": [
      "Day 1: RAINING YO TS POURING ON ME\n",
      "Day 2: SUNNY my only sunshine (LEBROOOOOONNNN)\n",
      "Day 3: CLOUDY ichigo do you know how i hate the rain\n",
      "Day 4: CLOUDY ichigo do you know how i hate the rain\n",
      "Day 5: RAINING YO TS POURING ON ME\n",
      "Day 6: RAINING YO TS POURING ON ME\n",
      "Day 7: RAINING YO TS POURING ON ME\n"
     ]
    }
   ],
   "source": [
    "import random\n",
    "\n",
    "# Weather options\n",
    "weather_types = ['SUNNY my only sunshine (LEBROOOOOONNNN)', 'CLOUDY ichigo do you know how i hate the rain', 'RAINING YO TS POURING ON ME']\n",
    "\n",
    "# Simulate weather for 7 days\n",
    "for day in range(1, 8):\n",
    "    weather = random.choice(weather_types)\n",
    "    print(f\"Day {day}: {weather}\")\n"
   ]
  },
  {
   "cell_type": "markdown",
   "id": "dce18364",
   "metadata": {},
   "source": [
    "# Simulations"
   ]
  },
  {
   "cell_type": "markdown",
   "id": "9297873a",
   "metadata": {},
   "source": [
    "# Popcorn Hack #1: Number Spinner\n",
    "\n",
    "## 🎯 Objective:\n",
    "Simulate a number spinner instead of rolling a dice. You can choose any range of numbers.\n"
   ]
  },
  {
   "cell_type": "code",
   "execution_count": 8,
   "id": "151957cb",
   "metadata": {},
   "outputs": [
    {
     "name": "stdout",
     "output_type": "stream",
     "text": [
      "The spinner landed on: 107788288109390519889067366484598533251431137648809766825482063617969478756575848975632210975\n"
     ]
    }
   ],
   "source": [
    "import random\n",
    "\n",
    "# Choose a number range (e.g., 1 to 12)\n",
    "spinner_min = 1\n",
    "spinner_max = 1000000000000000000000000000000000000000000000000000000000000000000000000000000000000000000000\n",
    "\n",
    "# Simulate the spin\n",
    "spin_result = random.randint(spinner_min, spinner_max)\n",
    "\n",
    "# Display the result\n",
    "print(f\"The spinner landed on: {spin_result}\")\n"
   ]
  },
  {
   "cell_type": "markdown",
   "id": "f31f593a",
   "metadata": {},
   "source": [
    "# Popcorn Hack #2: Rock, Paper, Scissors"
   ]
  },
  {
   "cell_type": "code",
   "execution_count": 10,
   "id": "685345fc",
   "metadata": {},
   "outputs": [
    {
     "name": "stdout",
     "output_type": "stream",
     "text": [
      "You chose: rock\n",
      "Computer chose: paper\n",
      "u is dog water\n"
     ]
    }
   ],
   "source": [
    "import random\n",
    "\n",
    "# List of possible choices\n",
    "choices = ['rock', 'paper', 'scissors']\n",
    "\n",
    "# User input\n",
    "user_choice = input(\"Choose rock, paper, or scissors: \").lower()\n",
    "\n",
    "# Random computer choice\n",
    "computer_choice = random.choice(choices)\n",
    "\n",
    "# Determine the result\n",
    "if user_choice == computer_choice:\n",
    "    result = \"both of u is dookie\"\n",
    "elif (\n",
    "    (user_choice == 'rock' and computer_choice == 'scissors') or\n",
    "    (user_choice == 'paper' and computer_choice == 'rock') or\n",
    "    (user_choice == 'scissors' and computer_choice == 'paper')\n",
    "):\n",
    "    result = \"crazy fr\"\n",
    "else:\n",
    "    result = \"u is dog water\"\n",
    "\n",
    "# Show outcome\n",
    "print(f\"You chose: {user_choice}\")\n",
    "print(f\"Computer chose: {computer_choice}\")\n",
    "print(result)\n"
   ]
  },
  {
   "cell_type": "markdown",
   "id": "91ec864f",
   "metadata": {},
   "source": [
    "# Homework Hack: Random Coffee Shop Queue"
   ]
  },
  {
   "cell_type": "code",
   "execution_count": 13,
   "id": "c7d9f92f",
   "metadata": {},
   "outputs": [
    {
     "name": "stdout",
     "output_type": "stream",
     "text": [
      "Customer 1: 15 minutes\n",
      "Customer 2: 25 minutes\n",
      "Customer 3: 60 minutes\n",
      "Customer 4: 16 minutes\n",
      "Customer 5: 15 minutes\n",
      "Customer 6: 48 minutes\n",
      "Customer 7: 15 minutes\n",
      "Customer 8: 11 minutes\n",
      "Customer 9: 72 minutes\n",
      "Customer 10: 25 minutes\n",
      "Customer 11: 10 minutes\n",
      "Customer 12: 34 minutes\n",
      "Customer 13: 36 minutes\n",
      "Customer 14: 28 minutes\n",
      "Customer 15: 11 minutes\n",
      "Customer 16: 70 minutes\n",
      "Customer 17: 68 minutes\n",
      "Customer 18: 54 minutes\n",
      "Customer 19: 1 minutes\n",
      "Customer 20: 59 minutes\n",
      "Customer 21: 28 minutes\n",
      "Customer 22: 15 minutes\n",
      "Customer 23: 67 minutes\n",
      "Customer 24: 20 minutes\n",
      "Customer 25: 59 minutes\n",
      "Customer 26: 50 minutes\n",
      "Customer 27: 6 minutes\n",
      "Customer 28: 61 minutes\n",
      "Customer 29: 55 minutes\n",
      "Customer 30: 54 minutes\n",
      "Customer 31: 59 minutes\n",
      "Customer 32: 27 minutes\n",
      "Customer 33: 22 minutes\n",
      "Customer 34: 31 minutes\n",
      "Customer 35: 45 minutes\n",
      "Customer 36: 54 minutes\n",
      "Customer 37: 36 minutes\n",
      "Customer 38: 72 minutes\n",
      "Customer 39: 45 minutes\n",
      "Customer 40: 38 minutes\n",
      "Customer 41: 50 minutes\n",
      "Customer 42: 60 minutes\n",
      "Customer 43: 59 minutes\n",
      "Customer 44: 5 minutes\n",
      "Customer 45: 56 minutes\n",
      "Customer 46: 72 minutes\n",
      "Customer 47: 16 minutes\n",
      "Customer 48: 74 minutes\n",
      "Customer 49: 42 minutes\n",
      "Customer 50: 60 minutes\n",
      "Customer 51: 64 minutes\n",
      "Customer 52: 22 minutes\n",
      "Customer 53: 47 minutes\n",
      "Customer 54: 19 minutes\n",
      "Customer 55: 35 minutes\n",
      "Customer 56: 52 minutes\n",
      "Customer 57: 27 minutes\n",
      "Customer 58: 53 minutes\n",
      "Customer 59: 4 minutes\n",
      "Customer 60: 17 minutes\n",
      "Customer 61: 24 minutes\n",
      "Customer 62: 16 minutes\n",
      "Customer 63: 48 minutes\n",
      "Customer 64: 62 minutes\n",
      "Customer 65: 3 minutes\n",
      "Customer 66: 17 minutes\n",
      "Customer 67: 53 minutes\n",
      "Customer 68: 62 minutes\n",
      "Customer 69: 18 minutes\n",
      "Customer 70: 51 minutes\n",
      "Customer 71: 38 minutes\n",
      "Customer 72: 56 minutes\n",
      "Customer 73: 45 minutes\n",
      "Customer 74: 35 minutes\n",
      "Customer 75: 62 minutes\n",
      "Customer 76: 73 minutes\n",
      "Customer 77: 65 minutes\n",
      "Customer 78: 14 minutes\n",
      "Customer 79: 44 minutes\n",
      "Customer 80: 64 minutes\n",
      "Customer 81: 50 minutes\n",
      "Customer 82: 51 minutes\n",
      "Customer 83: 34 minutes\n",
      "Customer 84: 42 minutes\n",
      "Customer 85: 29 minutes\n",
      "Customer 86: 17 minutes\n",
      "Customer 87: 42 minutes\n",
      "Customer 88: 2 minutes\n",
      "Customer 89: 15 minutes\n",
      "Customer 90: 53 minutes\n",
      "Customer 91: 58 minutes\n",
      "Customer 92: 40 minutes\n",
      "Customer 93: 13 minutes\n",
      "Customer 94: 68 minutes\n",
      "Customer 95: 63 minutes\n",
      "Customer 96: 7 minutes\n",
      "Customer 97: 40 minutes\n",
      "Customer 98: 29 minutes\n",
      "Customer 99: 33 minutes\n",
      "Customer 100: 51 minutes\n",
      "Customer 101: 70 minutes\n",
      "Customer 102: 54 minutes\n",
      "Customer 103: 51 minutes\n",
      "Customer 104: 34 minutes\n",
      "Customer 105: 14 minutes\n",
      "Customer 106: 37 minutes\n",
      "Customer 107: 54 minutes\n",
      "Customer 108: 39 minutes\n",
      "Customer 109: 15 minutes\n",
      "Customer 110: 51 minutes\n",
      "Customer 111: 57 minutes\n",
      "Customer 112: 36 minutes\n",
      "Customer 113: 12 minutes\n",
      "Customer 114: 2 minutes\n",
      "Customer 115: 6 minutes\n",
      "Customer 116: 7 minutes\n",
      "Customer 117: 49 minutes\n",
      "Customer 118: 45 minutes\n",
      "Customer 119: 56 minutes\n",
      "Customer 120: 73 minutes\n",
      "Customer 121: 77 minutes\n",
      "Customer 122: 4 minutes\n",
      "Customer 123: 34 minutes\n",
      "Customer 124: 37 minutes\n",
      "Customer 125: 20 minutes\n",
      "Customer 126: 36 minutes\n",
      "Customer 127: 2 minutes\n",
      "Customer 128: 72 minutes\n",
      "Customer 129: 25 minutes\n",
      "Customer 130: 48 minutes\n",
      "Customer 131: 4 minutes\n",
      "Customer 132: 18 minutes\n",
      "Customer 133: 10 minutes\n",
      "Customer 134: 67 minutes\n",
      "Customer 135: 5 minutes\n",
      "Customer 136: 22 minutes\n",
      "Customer 137: 35 minutes\n",
      "Customer 138: 56 minutes\n",
      "Customer 139: 68 minutes\n",
      "Customer 140: 78 minutes\n",
      "Customer 141: 43 minutes\n",
      "Customer 142: 71 minutes\n",
      "Customer 143: 19 minutes\n",
      "Customer 144: 54 minutes\n",
      "Customer 145: 42 minutes\n",
      "Customer 146: 52 minutes\n",
      "Customer 147: 69 minutes\n",
      "Customer 148: 30 minutes\n",
      "Customer 149: 13 minutes\n",
      "Customer 150: 10 minutes\n",
      "Customer 151: 5 minutes\n",
      "Customer 152: 33 minutes\n",
      "Customer 153: 18 minutes\n",
      "Customer 154: 40 minutes\n",
      "Customer 155: 53 minutes\n",
      "Customer 156: 59 minutes\n",
      "Customer 157: 43 minutes\n",
      "Customer 158: 11 minutes\n",
      "Customer 159: 40 minutes\n",
      "Customer 160: 69 minutes\n",
      "Customer 161: 60 minutes\n",
      "Customer 162: 17 minutes\n",
      "Customer 163: 72 minutes\n",
      "Customer 164: 60 minutes\n",
      "Customer 165: 25 minutes\n",
      "Customer 166: 60 minutes\n",
      "Customer 167: 37 minutes\n",
      "Customer 168: 68 minutes\n",
      "Customer 169: 17 minutes\n",
      "Customer 170: 60 minutes\n",
      "Customer 171: 59 minutes\n",
      "Customer 172: 26 minutes\n",
      "Customer 173: 46 minutes\n",
      "Customer 174: 78 minutes\n",
      "Customer 175: 47 minutes\n",
      "Customer 176: 57 minutes\n",
      "Customer 177: 2 minutes\n",
      "Customer 178: 2 minutes\n",
      "Customer 179: 44 minutes\n",
      "Customer 180: 8 minutes\n",
      "Customer 181: 19 minutes\n",
      "Customer 182: 34 minutes\n",
      "Customer 183: 16 minutes\n",
      "Customer 184: 33 minutes\n",
      "Customer 185: 44 minutes\n",
      "Customer 186: 53 minutes\n",
      "Customer 187: 49 minutes\n",
      "Customer 188: 36 minutes\n",
      "Customer 189: 14 minutes\n",
      "Customer 190: 69 minutes\n",
      "Customer 191: 70 minutes\n",
      "Customer 192: 60 minutes\n",
      "Customer 193: 61 minutes\n",
      "Customer 194: 50 minutes\n",
      "Customer 195: 19 minutes\n",
      "Customer 196: 47 minutes\n",
      "Customer 197: 42 minutes\n",
      "Customer 198: 56 minutes\n",
      "Customer 199: 73 minutes\n",
      "Customer 200: 20 minutes\n",
      "Customer 201: 2 minutes\n",
      "Customer 202: 69 minutes\n",
      "Customer 203: 11 minutes\n",
      "Customer 204: 52 minutes\n",
      "Customer 205: 10 minutes\n",
      "Customer 206: 53 minutes\n",
      "Customer 207: 64 minutes\n",
      "Customer 208: 60 minutes\n",
      "Customer 209: 5 minutes\n",
      "Customer 210: 19 minutes\n",
      "Customer 211: 7 minutes\n",
      "Customer 212: 50 minutes\n",
      "Customer 213: 60 minutes\n",
      "\n",
      "Total time to serve all customers: 8364 minutes\n"
     ]
    }
   ],
   "source": [
    "import random\n",
    "\n",
    "# Number of customers\n",
    "num_customers = 213\n",
    "\n",
    "# Generate random service times between 1–5 minutes\n",
    "service_times = [random.randint(1, 78) for _ in range(num_customers)]\n",
    "\n",
    "# Calculate total time\n",
    "total_time = sum(service_times)\n",
    "\n",
    "# Print each customer’s wait time and total\n",
    "for i, time in enumerate(service_times, start=1):\n",
    "    print(f\"Customer {i}: {time} minutes\")\n",
    "\n",
    "print(f\"\\nTotal time to serve all customers: {total_time} minutes\")\n"
   ]
  }
 ],
 "metadata": {
  "kernelspec": {
   "display_name": "venv",
   "language": "python",
   "name": "python3"
  },
  "language_info": {
   "codemirror_mode": {
    "name": "ipython",
    "version": 3
   },
   "file_extension": ".py",
   "mimetype": "text/x-python",
   "name": "python",
   "nbconvert_exporter": "python",
   "pygments_lexer": "ipython3",
   "version": "3.12.3"
  }
 },
 "nbformat": 4,
 "nbformat_minor": 5
}
