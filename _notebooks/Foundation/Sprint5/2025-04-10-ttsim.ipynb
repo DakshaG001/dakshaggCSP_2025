{
 "cells": [
  {
   "cell_type": "markdown",
   "id": "d2cc03ac",
   "metadata": {},
   "source": [
    "---\n",
    "layout: post\n",
    "title: ttsim\n",
    "description:  pluh\n",
    "type: issues \n",
    "comments: true\n",
    "---"
   ]
  },
  {
   "cell_type": "markdown",
   "id": "5c326f2f",
   "metadata": {},
   "source": [
    "# Popcorn Hack #1: Brainstorm\n",
    "\n",
    "## What do you think a random algorithm is?\n",
    "A random algorithm uses chance or randomness to make decisions or select values. It doesn’t always produce the same result, making it useful for unpredictability or fair selection.\n",
    "\n",
    "## Why would you use random algorithms in real-life coding?\n",
    "- Simulate real-world uncertainty (e.g., games, simulations)\n",
    "- Fair selections (e.g., picking a winner or task)\n",
    "- Testing software with random inputs\n",
    "- Distributing tasks evenly and unpredictably\n",
    "\n",
    "## What kind of questions might College Board ask?\n",
    "- Predict the output or range of outputs\n",
    "- Understand randomness in pseudocode\n",
    "- Difference between deterministic and random algorithms\n",
    "- Effects of random selection on an algorithm’s behavior\n",
    "\n",
    "---\n",
    "\n",
    "# Popcorn Hack #2: Random Activity Picker\n",
    "\n",
    "\n"
   ]
  },
  {
   "cell_type": "code",
   "execution_count": 1,
   "id": "4439613d",
   "metadata": {},
   "outputs": [
    {
     "name": "stdout",
     "output_type": "stream",
     "text": [
      "Today’s random activity: Practice coding\n"
     ]
    }
   ],
   "source": [
    "import random\n",
    "\n",
    "# Step 1: Define a list of activities (customize this!)\n",
    "activities = ['Play basketball', 'Watch anime', 'Practice coding', 'Make a TikTok', 'Take a walk', 'Do yoga']\n",
    "\n",
    "# Step 2: Randomly choose an activity\n",
    "random_activity = random.choice(activities)\n",
    "\n",
    "# Step 3: Display the chosen activity\n",
    "print(f\"Today’s random activity: {random_activity}\")\n"
   ]
  },
  {
   "cell_type": "markdown",
   "id": "0aa6b525",
   "metadata": {},
   "source": [
    "# Popcorn Hack #3: Random Party Role Assignment"
   ]
  },
  {
   "cell_type": "code",
   "execution_count": 2,
   "id": "38cb77c2",
   "metadata": {},
   "outputs": [
    {
     "name": "stdout",
     "output_type": "stream",
     "text": [
      "Johan will be monitoring the dance floor!\n",
      "Aliyah will be monitoring the snack bar!\n",
      "Chris will be monitoring the music booth!\n",
      "Zoe will be monitoring the game zone!\n",
      "Maya will be monitoring the photo booth!\n"
     ]
    }
   ],
   "source": [
    "import random\n",
    "\n",
    "# Define hosts and activities\n",
    "hosts = ['Johan', 'Aliyah', 'Chris', 'Zoe', 'Maya']\n",
    "activities = ['music booth', 'photo booth', 'snack bar', 'game zone', 'dance floor']\n",
    "\n",
    "# Shuffle activities randomly\n",
    "random.shuffle(activities)\n",
    "\n",
    "# Assign each host to an activity\n",
    "for i in range(len(hosts)):\n",
    "    print(f\"{hosts[i]} will be monitoring the {activities[i]}!\")\n"
   ]
  },
  {
   "cell_type": "markdown",
   "id": "2292d4f9",
   "metadata": {},
   "source": [
    "# Homework Hack 1: Random Team Assignment"
   ]
  },
  {
   "cell_type": "code",
   "execution_count": 3,
   "id": "e8a12ae3",
   "metadata": {},
   "outputs": [
    {
     "name": "stdout",
     "output_type": "stream",
     "text": [
      "Ava is in team Phoenix Flames\n",
      "Liam is in team Thunderbolts\n",
      "Olivia is in team Cyber Ninjas\n",
      "Noah is in team Phoenix Flames\n",
      "Emma is in team Thunderbolts\n",
      "Elijah is in team Phoenix Flames\n",
      "Sophia is in team Thunderbolts\n",
      "Lucas is in team Thunderbolts\n",
      "Isabella is in team Thunderbolts\n",
      "Mason is in team Thunderbolts\n",
      "Mia is in team Phoenix Flames\n",
      "Logan is in team Thunderbolts\n",
      "Amelia is in team Thunderbolts\n",
      "James is in team Thunderbolts\n",
      "Harper is in team Cyber Ninjas\n"
     ]
    }
   ],
   "source": [
    "import random\n",
    "\n",
    "# List of 15 students\n",
    "students = [\n",
    "    'Ava', 'Liam', 'Olivia', 'Noah', 'Emma',\n",
    "    'Elijah', 'Sophia', 'Lucas', 'Isabella', 'Mason',\n",
    "    'Mia', 'Logan', 'Amelia', 'James', 'Harper'\n",
    "]\n",
    "\n",
    "# Team names\n",
    "teams = ['Thunderbolts', 'Phoenix Flames', 'Cyber Ninjas']\n",
    "\n",
    "# Dictionary to hold assignments\n",
    "assignments = {}\n",
    "\n",
    "# Randomly assign each student to a team\n",
    "for student in students:\n",
    "    team = random.choice(teams)\n",
    "    assignments[student] = team\n",
    "\n",
    "# Print the assignments\n",
    "for student, team in assignments.items():\n",
    "    print(f\"{student} is in team {team}\")\n"
   ]
  },
  {
   "cell_type": "markdown",
   "id": "326e4816",
   "metadata": {},
   "source": [
    "# Homework Hack 2: Random Weather"
   ]
  },
  {
   "cell_type": "code",
   "execution_count": 4,
   "id": "f00f04fa",
   "metadata": {},
   "outputs": [
    {
     "name": "stdout",
     "output_type": "stream",
     "text": [
      "Day 1: Cloudy\n",
      "Day 2: Cloudy\n",
      "Day 3: Rainy\n",
      "Day 4: Cloudy\n",
      "Day 5: Rainy\n",
      "Day 6: Sunny\n",
      "Day 7: Cloudy\n"
     ]
    }
   ],
   "source": [
    "import random\n",
    "\n",
    "# Weather options\n",
    "weather_types = ['Sunny', 'Cloudy', 'Rainy']\n",
    "\n",
    "# Simulate weather for 7 days\n",
    "for day in range(1, 8):\n",
    "    weather = random.choice(weather_types)\n",
    "    print(f\"Day {day}: {weather}\")\n"
   ]
  }
 ],
 "metadata": {
  "kernelspec": {
   "display_name": "venv",
   "language": "python",
   "name": "python3"
  },
  "language_info": {
   "codemirror_mode": {
    "name": "ipython",
    "version": 3
   },
   "file_extension": ".py",
   "mimetype": "text/x-python",
   "name": "python",
   "nbconvert_exporter": "python",
   "pygments_lexer": "ipython3",
   "version": "3.12.3"
  }
 },
 "nbformat": 4,
 "nbformat_minor": 5
}
