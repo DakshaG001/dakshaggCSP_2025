{
 "cells": [
  {
   "cell_type": "markdown",
   "id": "93c2d0f2",
   "metadata": {},
   "source": [
    "---\n",
    "layout: post\n",
    "title: undecidialbe thing\n",
    "description:  bombardillo crocodillo\n",
    "type: issues \n",
    "comments: true\n",
    "---"
   ]
  },
  {
   "cell_type": "markdown",
   "id": "af55f69d",
   "metadata": {},
   "source": [
    "# Popcorn Hacks – Big-O and Undecidability\n",
    "\n",
    "## Popcorn Hack 1: Undecidable Problem Solvability\n",
    "\n",
    "**Question:**  \n",
    "An algorithm can be used to solve an undecidable problem.  \n",
    "**Answer:** ❌ **False**  \n",
    "> Undecidable problems, by definition, have no algorithm that can solve all possible inputs.\n",
    "\n",
    "---\n",
    "\n",
    "## Popcorn Hack 2: Approximating Undecidable Problems\n",
    "\n",
    "**Question:**  \n",
    "If a programmer encounters an undecidable problem, they can just use an algorithm that works most of the time.  \n",
    "**Answer:** ✅ **True**  \n",
    "> While there's no guaranteed solution for every input, heuristics or approximate algorithms can be used to solve many cases in practice.\n",
    "\n",
    "---\n",
    "\n",
    "## Popcorn Hack 3: Identifying a Decidable Problem\n",
    "\n",
    "**Question:**  \n",
    "Which of the following options is **not** an example of an undecidable problem?\n",
    "\n",
    "- A. Halting Problem  \n",
    "- B. The Collatz Conjecture  \n",
    "- C. Rice’s Theorem  \n",
    "- D. Bubble sorting  \n",
    "\n",
    "**Answer:** ✅ **D. Bubble sorting**  \n",
    "> Bubble sorting is a deterministic and well-understood sorting algorithm, so it’s a decidable problem.\n",
    "\n",
    "---\n"
   ]
  },
  {
   "cell_type": "markdown",
   "id": "6b274509",
   "metadata": {},
   "source": [
    "# Undecidable Problems Homework  \n",
    "## How Systems Handle Infinite Loops or Long-Running Code\n",
    "\n",
    "### 🖥️ Operating Systems\n",
    "Modern OSes can't *guarantee* detection of infinite loops, but they use tools like:\n",
    "\n",
    "- **Task scheduling**: Limits CPU time per process.\n",
    "- **Watchdog timers**: Force restarts if tasks hang.\n",
    "- **Resource monitors**: Detect high memory/CPU usage.\n",
    "\n",
    "**Example**: Windows Task Manager lets users kill unresponsive apps. Linux uses the OOM Killer to stop memory-hogging processes.\n",
    "\n",
    "---\n",
    "\n",
    "### 🌐 Web Browsers\n",
    "Browsers use safeguards like:\n",
    "\n",
    "- **Script timeouts**: If JS runs too long, it shows a warning.\n",
    "- **Web Workers**: Run tasks in background threads to avoid freezing.\n",
    "- **Error messages**:  \n",
    "  - Chrome: _“Page Unresponsive”_  \n",
    "  - JS: _“Maximum call stack size exceeded”_\n",
    "\n",
    "---\n",
    "\n",
    "### ✅ Summary\n",
    "OSes and browsers can’t solve the halting problem, but they use **timeouts, limits, and user prompts** to keep systems stable and responsive.\n"
   ]
  },
  {
   "cell_type": "markdown",
   "id": "89652ece",
   "metadata": {},
   "source": [
    "# This is all for the other stuff, graphs part"
   ]
  },
  {
   "cell_type": "markdown",
   "id": "0f328dd4",
   "metadata": {},
   "source": [
    "# Popcorn Hacks\n",
    "\n",
    "## Popcorn Hack #1  \n",
    "**True or False:**  \n",
    "In a directed graph, an edge from node A to node B implies that there is always a corresponding edge from node B to node A.  \n",
    "**Answer:** False  \n",
    "> In a directed graph, edges have direction. An edge from A to B does *not* imply one from B to A.\n",
    "\n",
    "## Popcorn Hack #2  \n",
    "**True or False:**  \n",
    "Heuristics always provide faster solutions than exact algorithms, but they may sacrifice accuracy for speed.  \n",
    "**Answer:** True  \n",
    "> Heuristics are used to find good-enough solutions quickly, often trading off some accuracy for efficiency.\n",
    "\n",
    "## Popcorn Hack #3  \n",
    "**True or False:**  \n",
    "While heuristic algorithms like the Nearest Neighbor algorithm can significantly reduce the computational time for TSP, they can never guarantee an optimal solution, and the gap between the heuristic solution and the optimal solution can grow exponentially as the number of cities increases.  \n",
    "**Answer:** True  \n",
    "> Heuristics for problems like TSP (Traveling Salesman Problem) are fast but not guaranteed to be optimal, especially as complexity scales.\n",
    "\n",
    "---\n",
    "\n",
    "# Homework: Social Network Analysis\n",
    "\n",
    "## How Graphs Are Used in Social Media\n",
    "\n",
    "In social network analysis, users are represented as **nodes (vertices)** and their relationships (e.g., friendships, follows, likes) are represented as **edges (connections)** between those nodes. These graphs can be **directed** (e.g., Twitter follows) or **undirected** (e.g., Facebook friendships).\n",
    "\n",
    "Edges may also carry **weights** or **attributes**, such as frequency of communication or strength of interaction.\n",
    "\n",
    "## Real-World Example\n",
    "\n",
    "**Platform:** Facebook  \n",
    "Graph theory is used to analyze mutual friendships, suggest new friends through common connections, detect communities, and identify influential users. The \"People You May Know\" feature is one practical application powered by analyzing the underlying social graph.\n"
   ]
  }
 ],
 "metadata": {
  "language_info": {
   "name": "python"
  }
 },
 "nbformat": 4,
 "nbformat_minor": 5
}
