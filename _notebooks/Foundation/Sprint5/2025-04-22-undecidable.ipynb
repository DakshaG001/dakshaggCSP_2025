{
 "cells": [
  {
   "cell_type": "markdown",
   "id": "93c2d0f2",
   "metadata": {},
   "source": [
    "---\n",
    "layout: post\n",
    "title: undecidialbe thing\n",
    "description:  bombardillo crocodillo\n",
    "type: issues \n",
    "comments: true\n",
    "---"
   ]
  },
  {
   "cell_type": "markdown",
   "id": "af55f69d",
   "metadata": {},
   "source": [
    "# Popcorn Hacks – Big-O and Undecidability\n",
    "\n",
    "## Popcorn Hack 1: Undecidable Problem Solvability\n",
    "\n",
    "**Question:**  \n",
    "An algorithm can be used to solve an undecidable problem.  \n",
    "**Answer:** ❌ **False**  \n",
    "> Undecidable problems, by definition, have no algorithm that can solve all possible inputs.\n",
    "\n",
    "---\n",
    "\n",
    "## Popcorn Hack 2: Approximating Undecidable Problems\n",
    "\n",
    "**Question:**  \n",
    "If a programmer encounters an undecidable problem, they can just use an algorithm that works most of the time.  \n",
    "**Answer:** ✅ **True**  \n",
    "> While there's no guaranteed solution for every input, heuristics or approximate algorithms can be used to solve many cases in practice.\n",
    "\n",
    "---\n",
    "\n",
    "## Popcorn Hack 3: Identifying a Decidable Problem\n",
    "\n",
    "**Question:**  \n",
    "Which of the following options is **not** an example of an undecidable problem?\n",
    "\n",
    "- A. Halting Problem  \n",
    "- B. The Collatz Conjecture  \n",
    "- C. Rice’s Theorem  \n",
    "- D. Bubble sorting  \n",
    "\n",
    "**Answer:** ✅ **D. Bubble sorting**  \n",
    "> Bubble sorting is a deterministic and well-understood sorting algorithm, so it’s a decidable problem.\n",
    "\n",
    "---\n"
   ]
  },
  {
   "cell_type": "markdown",
   "id": "6b274509",
   "metadata": {},
   "source": [
    "# Undecidable Problems Homework  \n",
    "## How Systems Handle Infinite Loops or Long-Running Code\n",
    "\n",
    "### 🖥️ Operating Systems\n",
    "Modern OSes can't *guarantee* detection of infinite loops, but they use tools like:\n",
    "\n",
    "- **Task scheduling**: Limits CPU time per process.\n",
    "- **Watchdog timers**: Force restarts if tasks hang.\n",
    "- **Resource monitors**: Detect high memory/CPU usage.\n",
    "\n",
    "**Example**: Windows Task Manager lets users kill unresponsive apps. Linux uses the OOM Killer to stop memory-hogging processes.\n",
    "\n",
    "---\n",
    "\n",
    "### 🌐 Web Browsers\n",
    "Browsers use safeguards like:\n",
    "\n",
    "- **Script timeouts**: If JS runs too long, it shows a warning.\n",
    "- **Web Workers**: Run tasks in background threads to avoid freezing.\n",
    "- **Error messages**:  \n",
    "  - Chrome: _“Page Unresponsive”_  \n",
    "  - JS: _“Maximum call stack size exceeded”_\n",
    "\n",
    "---\n",
    "\n",
    "### ✅ Summary\n",
    "OSes and browsers can’t solve the halting problem, but they use **timeouts, limits, and user prompts** to keep systems stable and responsive.\n"
   ]
  }
 ],
 "metadata": {
  "language_info": {
   "name": "python"
  }
 },
 "nbformat": 4,
 "nbformat_minor": 5
}
