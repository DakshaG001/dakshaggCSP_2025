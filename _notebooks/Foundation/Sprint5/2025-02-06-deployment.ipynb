{
 "cells": [
  {
   "cell_type": "markdown",
   "metadata": {},
   "source": [
    "---\n",
    "layout: post\n",
    "title: BI 4.1 Internet - Web Server\n",
    "description:  Deployment\n",
    "type: issues \n",
    "comments: true\n",
    "---"
   ]
  },
  {
   "cell_type": "markdown",
   "metadata": {},
   "source": [
    "# Members\n",
    "\n",
    "- Keerthan: Primary Deployment Admin\n",
    "- Daksha: Secondary Deployment Admin\n",
    "- Max: Dev\n",
    "- Ian: Dev\n",
    "- Zach: Dev\n",
    "\n",
    "# Prerequisites\n",
    "\n",
    "- Burndown Issue  \n",
    "  [Here](https://github.com/Githubneos/scribble_frontend/issues/21)\n",
    "- Changing the ports!! (8087 is Mr. Mort's, so we chose 8203 for our table)  \n",
    "  - This is done by changing `main.py` and the frontend API URL to 8203\n",
    "- Prepping Config files  \n",
    "  - `main.py`   \n",
    "  - `Frontend .md`\n",
    "  - `Dockerfile` (contains all the commands a user could call on the command line to assemble an image)  \n",
    "  - `docker-compose.yml` (defines and shares multi-container applications)  \n",
    "  - `nginxfile` (web server designed for use cases involving high volumes of traffic)\n",
    "\n"
   ]
  },
  {
   "cell_type": "markdown",
   "metadata": {},
   "source": [
    "# First Time Install"
   ]
  },
  {
   "cell_type": "markdown",
   "metadata": {},
   "source": [
    "## Logging in\n",
    "\n",
    "- [Nighthawkcodingsociety](https://cockpit.stu.nighthawkcodingsociety.com/)\n",
    "-  git clone repo, run script commands\n",
    "- docker compose build and up-d\n",
    "- docker ps (look if the repo is there)"
   ]
  },
  {
   "cell_type": "markdown",
   "metadata": {},
   "source": [
    "# Deployment Tasks\n",
    "\n",
    "## Set up AWS Server through EC2 terminal\n",
    "\n",
    "login into the [AWS Terminal](https://cockpit.stu.nighthawkcodingsociety.com/system/terminal)\n",
    "\n",
    "- Now run the following commands:\n",
    "    1. Change into the correct directory: cd ~\n",
    "    2. Clone your backend repo: git clone https://github.com/Githubneos/scribble_backend.git\n",
    "    3. Navigate into your repo: cd scribble_backend\n",
    "    4. Build the site: docker-compose up -d --build\n",
    "    5. Test your site: curl localhost:8203 (8087 Morts Morts Morts)\n",
    "\n",
    "## Set up Nginx\n",
    "-  reverse proxy (map) of your application to your Domain."
   ]
  },
  {
   "cell_type": "code",
   "execution_count": null,
   "metadata": {},
   "outputs": [],
   "source": [
    " server {\n",
    "      listen 80;\n",
    "      listen [::]:80;\n",
    "      server_name scribble.stu.nighthawkcodingsociety.com;\n",
    "\n",
    "      location / {\n",
    "          proxy_pass http://localhost:8203;\n",
    "\n",
    "          # Preflighted requests\n",
    "          if ($request_method = OPTIONS) {\n",
    "              add_header \"Access-Control-Allow-Credentials\" \"true\" always;\n",
    "              add_header \"Access-Control-Allow-Origin\"  \"https://Githubneos.github.io\" always;\n",
    "              add_header \"Access-Control-Allow-Methods\" \"GET, POST, PUT, DELETE, OPTIONS, HEAD\" always;\n",
    "              add_header \"Access-Control-Allow-MaxAge\" 600 always;\n",
    "              add_header \"Access-Control-Allow-Headers\" \"Authorization, Origin, X-Origin, X-Requested-With, Content-Type, Accept\" always;\n",
    "              return 204;\n",
    "          }\n",
    "      }\n",
    "  }"
   ]
  },
  {
   "cell_type": "markdown",
   "metadata": {},
   "source": [
    "## Set up Certbot (HTTPS)\n",
    "- required after nginx file to get a certificate in order for the http request to be secure (https)"
   ]
  },
  {
   "cell_type": "code",
   "execution_count": null,
   "metadata": {},
   "outputs": [],
   "source": [
    "Which names would you like to activate HTTPS for?\n",
    "- - - - - - - - - - - - - - - - - - - - - - - - - - - - - - - - - - - - - - - -\n",
    ": scribble.stu.nighthawkcodingsociety.com\n",
    "- - - - - - - - - - - - - - - - - - - - - - - - - - - - - - - - - - - - - - - -\n",
    "Select the appropriate numbers separated by commas and/or spaces, or leave input\n",
    "blank to select all options shown (Enter 'c' to cancel):\n",
    "    \n",
    "Cert not yet due for renewal\n",
    "\n",
    "You have an existing certificate that has exactly the same domains or certificate name you requested and isn't close to expiry.\n",
    "(ref: /etc/letsencrypt/renewal/nighthawkcodingsociety.com-0001.conf)\n",
    "\n",
    "What would you like to do?\n",
    "- - - - - - - - - - - - - - - - - - - - - - - - - - - - - - - - - - - - - - - -\n",
    "1: Attempt to reinstall this existing certificate\n",
    "2: Renew & replace the cert (limit ~5 per 7 days)\n",
    "- - - - - - - - - - - - - - - - - - - - - - - - - - - - - - - - - - - - - - - -\n",
    "\n",
    "Please choose whether or not to redirect HTTP traffic to HTTPS, removing HTTP access.\n",
    "- - - - - - - - - - - - - - - - - - - - - - - - - - - - - - - - - - - - - - - -\n",
    "1: No redirect - Make no further changes to the webserver configuration.\n",
    "2: Redirect - Make all requests redirect to secure HTTPS access. Choose this for\n",
    "new sites, or if you're confident your site works on HTTPS. You can undo this\n",
    "change by editing your web server's configuration.\n",
    "- - - - - - - - - - - - - - - - - - - - - - - - - - - - - - - - - - - - - - - -\n",
    "Select the appropriate number [1-2] then [enter] (press 'c' to cancel): 2\n",
    "\n",
    "- - - - - - - - - - - - - - - - - - - - - - - - - - - - - - - - - - - - - - - -\n",
    "Your existing certificate has been successfully renewed, and the new certificate\n",
    "has been installed"
   ]
  }
 ],
 "metadata": {
  "language_info": {
   "name": "python"
  }
 },
 "nbformat": 4,
 "nbformat_minor": 2
}
