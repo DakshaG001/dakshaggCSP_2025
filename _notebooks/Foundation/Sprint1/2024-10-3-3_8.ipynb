{
 "cells": [
  {
   "cell_type": "markdown",
   "metadata": {},
   "source": [
    "---\n",
    "layout: post\n",
    "title: 3.8 Homework\n",
    "description:  Homework for 3-8 teachings\n",
    "type: issues \n",
    "comments: true\n",
    "---"
   ]
  },
  {
   "cell_type": "markdown",
   "metadata": {},
   "source": [
    "### 3.8 homeworks"
   ]
  },
  {
   "cell_type": "code",
   "execution_count": 8,
   "metadata": {},
   "outputs": [
    {
     "data": {
      "application/javascript": "\nconst taks = [\n    \"Eat\"\n    \"sleep\"\n    \"fun\"\n    \"efootball\"\n];\n\nfunction display Tasks() {\n    console.log(\"Your To-do lists\")\n    for (let index = 0; index < tasks.length; index++) {\n        console.log(`${index + 1}. ${tasks[index]}`); // Display task with its index\n    }\n}\n\ndisplayTasks();\n",
      "text/plain": [
       "<IPython.core.display.Javascript object>"
      ]
     },
     "metadata": {},
     "output_type": "display_data"
    }
   ],
   "source": [
    "%%javascript\n",
    "\n",
    "const taks = [\n",
    "    \"Eat\"\n",
    "    \"sleep\"\n",
    "    \"fun\"\n",
    "    \"efootball\"\n",
    "];\n",
    "\n",
    "function display Tasks() {\n",
    "    console.log(\"Your To-do lists\")\n",
    "    for (let index = 0; index < tasks.length; index++) {\n",
    "        console.log(`${index + 1}. ${tasks[index]}`); // Display task with its index\n",
    "    }\n",
    "}\n",
    "\n",
    "displayTasks();"
   ]
  },
  {
   "cell_type": "code",
   "execution_count": 2,
   "metadata": {},
   "outputs": [
    {
     "name": "stdout",
     "output_type": "stream",
     "text": [
      "Buzz\n",
      "51\n",
      "Fizz\n",
      "53\n",
      "54\n",
      "Buzz\n",
      "FizzBoom\n",
      "57\n",
      "58\n",
      "59\n",
      "FizzBuzz\n",
      "61\n",
      "62\n",
      "Boom\n",
      "Fizz\n",
      "Buzz\n",
      "66\n",
      "67\n",
      "Fizz\n",
      "69\n",
      "BuzzBoom\n",
      "71\n",
      "Fizz\n",
      "73\n",
      "74\n",
      "Buzz\n",
      "Fizz\n",
      "Boom\n",
      "78\n",
      "79\n",
      "FizzBuzz\n",
      "81\n",
      "82\n",
      "83\n",
      "FizzBoom\n",
      "Buzz\n",
      "86\n",
      "87\n",
      "Fizz\n",
      "89\n",
      "Buzz\n",
      "Boom\n",
      "Fizz\n",
      "93\n",
      "94\n",
      "Buzz\n",
      "Fizz\n",
      "97\n",
      "Boom\n",
      "99\n",
      "FizzBuzz\n"
     ]
    }
   ],
   "source": [
    "i = 50\n",
    "while i <= 100:\n",
    "    output = \"\"\n",
    "    \n",
    "    if i % 4 == 0:\n",
    "        output += \"Fizz\"\n",
    "    if i % 5 == 0:\n",
    "        output += \"Buzz\"\n",
    "    if i % 7 == 0:\n",
    "        output += \"Boom\"\n",
    "    \n",
    "    if output == \"\":\n",
    "        print(i)\n",
    "    else:\n",
    "        print(output)\n",
    "    \n",
    "    i += 1\n"
   ]
  },
  {
   "cell_type": "code",
   "execution_count": 3,
   "metadata": {},
   "outputs": [
    {
     "name": "stdout",
     "output_type": "stream",
     "text": [
      "Incorrect username or password. You have 2 attempts left.\n",
      "Incorrect username or password. You have 1 attempts left.\n",
      "Login successful!\n"
     ]
    }
   ],
   "source": [
    "correct_username = \"admin\"\n",
    "correct_password = \"password123\"\n",
    "\n",
    "attempts = 3\n",
    "\n",
    "while attempts > 0:\n",
    "    username = input(\"Enter username: \")\n",
    "    password = input(\"Enter password: \")\n",
    "    \n",
    "    if username == correct_username and password == correct_password:\n",
    "        print(\"Login successful!\")\n",
    "        break\n",
    "    else:\n",
    "        attempts -= 1\n",
    "        if attempts > 0:\n",
    "            print(f\"Incorrect username or password. You have {attempts} attempts left.\")\n",
    "        else:\n",
    "            print(\"Account locked. You have used all your attempts.\")\n"
   ]
  },
  {
   "cell_type": "code",
   "execution_count": 5,
   "metadata": {
    "vscode": {
     "languageId": "javascript"
    }
   },
   "outputs": [
    {
     "ename": "SyntaxError",
     "evalue": "invalid syntax (1598962102.py, line 1)",
     "output_type": "error",
     "traceback": [
      "\u001b[0;36m  Cell \u001b[0;32mIn[5], line 1\u001b[0;36m\u001b[0m\n\u001b[0;31m    let i = 0;\u001b[0m\n\u001b[0m        ^\u001b[0m\n\u001b[0;31mSyntaxError\u001b[0m\u001b[0;31m:\u001b[0m invalid syntax\n"
     ]
    }
   ],
   "source": [
    "let i = 0;\n",
    "\n",
    "while (true) {\n",
    "    console.log(i);\n",
    "    i += 2;\n",
    "    \n",
    "    if (i > 10) {  \n",
    "        break;\n",
    "    }\n",
    "}\n"
   ]
  },
  {
   "cell_type": "code",
   "execution_count": 6,
   "metadata": {},
   "outputs": [
    {
     "name": "stdout",
     "output_type": "stream",
     "text": [
      "This number is... 1\n",
      "This number is... 3\n",
      "This number is... 5\n",
      "This number is... 7\n",
      "This number is... 9\n"
     ]
    }
   ],
   "source": [
    "for i in range(10):\n",
    "    if i % 2 == 0:\n",
    "        continue\n",
    "    print(f\"This number is... {i}\")\n"
   ]
  },
  {
   "cell_type": "code",
   "execution_count": 7,
   "metadata": {},
   "outputs": [
    {
     "name": "stdout",
     "output_type": "stream",
     "text": [
      "name Daksha\n",
      "age 16\n",
      "Daksha\n",
      "16\n",
      "name Daksha\n",
      "age 16\n"
     ]
    }
   ],
   "source": [
    "person = {'name': 'Daksha', 'age': 16}\n",
    "\n",
    "# Looping through keys\n",
    "for key in person:\n",
    "    print(key, person[key])\n",
    "\n",
    "# Looping through values\n",
    "for value in person.values():\n",
    "    print(value)\n",
    "\n",
    "# Looping through keys and values\n",
    "for key, value in person.items():\n",
    "    print(key, value)"
   ]
  },
  {
   "cell_type": "markdown",
   "metadata": {},
   "source": [
    "### "
   ]
  }
 ],
 "metadata": {
  "kernelspec": {
   "display_name": "venv",
   "language": "python",
   "name": "python3"
  },
  "language_info": {
   "codemirror_mode": {
    "name": "ipython",
    "version": 3
   },
   "file_extension": ".py",
   "mimetype": "text/x-python",
   "name": "python",
   "nbconvert_exporter": "python",
   "pygments_lexer": "ipython3",
   "version": "3.12.3"
  }
 },
 "nbformat": 4,
 "nbformat_minor": 2
}
