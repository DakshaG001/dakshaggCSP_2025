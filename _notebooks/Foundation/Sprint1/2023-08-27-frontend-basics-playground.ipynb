{
 "cells": [
  {
   "cell_type": "markdown",
   "metadata": {
    "vscode": {
     "languageId": "raw"
    }
   },
   "source": [
    "---\n",
    "layout: post\n",
    "title: Frontend\n",
    "description:  Hacks Tools & Equipment Play Hacks\n",
    "type: issues \n",
    "comments: true\n",
    "---"
   ]
  },
  {
   "cell_type": "markdown",
   "metadata": {},
   "source": [
    "## How does HTML work?\n",
    "Similar function to Markdown, syntax defines how stuff should be displayed\n",
    "- HTML is based on beginning and closing tags `<tagname>content</tagname>`\n",
    "  - Note the \"/\" on the ending or closing tag of the pair"
   ]
  },
  {
   "cell_type": "markdown",
   "metadata": {},
   "source": [
    "## Compare markdown to html below\n",
    "This below example shows comparison of a [heading](https://www.w3schools.com/html/html_headings.asp) and [paragraph](https://www.w3schools.com/html/html_paragraphs.asp).  Click on links to see many more HTML examples."
   ]
  },
  {
   "cell_type": "code",
   "execution_count": 8,
   "metadata": {},
   "outputs": [
    {
     "data": {
      "text/markdown": [
       "\n",
       "### Markdown: This is a Heading\n",
       "\n",
       "This is a paragraph\n"
      ],
      "text/plain": [
       "<IPython.core.display.Markdown object>"
      ]
     },
     "metadata": {},
     "output_type": "display_data"
    }
   ],
   "source": [
    "%%markdown\n",
    "\n",
    "### Markdown: This is a Heading\n",
    "\n",
    "This is a paragraph\n"
   ]
  },
  {
   "cell_type": "code",
   "execution_count": 9,
   "metadata": {
    "vscode": {
     "languageId": "html"
    }
   },
   "outputs": [
    {
     "data": {
      "text/html": [
       "\n",
       "<h3>HTML: This is a Heading</h3>\n",
       "<p>This is a paragraph.</p>\n"
      ],
      "text/plain": [
       "<IPython.core.display.HTML object>"
      ]
     },
     "metadata": {},
     "output_type": "display_data"
    }
   ],
   "source": [
    "%%html\n",
    "\n",
    "<h3>HTML: This is a Heading</h3>\n",
    "<p>This is a paragraph.</p>"
   ]
  },
  {
   "cell_type": "markdown",
   "metadata": {},
   "source": [
    "## Attributes\n",
    "- Learn about [attributes](https://www.w3schools.com/html/html_attributes.asp) \n",
    "- Tags can have additional info in the form of attributes\n",
    "- Attributes usually come in name/value pairs like: name=\"value\"\n",
    "\n",
    "```html\n",
    "<tagname attribute_name=\"attribute_value\" another_attribute=\"another_value\">inner html text</tagname>\n",
    "```\n",
    "\n",
    "- href example with attribute for web link and inner html to describe link\n",
    "\n",
    "```html\n",
    "<a href=\"https://www.w3schools.com/html/default.asp\">Visit W3Schools HTML Page</a>\n",
    "```"
   ]
  },
  {
   "cell_type": "markdown",
   "metadata": {},
   "source": [
    "## Sample Markdown vs HTML Tags\n",
    "Image Tag - Markdown\n",
    "\n",
    "```md\n",
    "![describe image](link to image)\n",
    "```\n",
    "\n",
    "Image Tag - HTML\n",
    "\n",
    "```html\n",
    "<!-- no content so no end tag, width/height is optional (in pixels) -->\n",
    "<img alt=\"describe image\" src=\"link to image\" width=\"100\" height=\"200\">\n",
    "```\n",
    "\n",
    "Link Tag - Markdown\n",
    "\n",
    "```md\n",
    "[link text](link)\n",
    "```\n",
    "\n",
    "Link Tag - HTML\n",
    "\n",
    "```html\n",
    "<a href=\"link\">link text</a>\n",
    "```\n",
    "\n",
    "Bolded Text - Markdown\n",
    "\n",
    "```md\n",
    "**Bolded Text**\n",
    "```\n",
    "\n",
    "Bolded Text - HTML\n",
    "\n",
    "```md\n",
    "<strong>Bolded Text</strong>\n",
    "```\n",
    "\n",
    "Italic Text - Markdown\n",
    "\n",
    "```md\n",
    "*Italic Text*\n",
    "```\n",
    "\n",
    "Italic Text - HTML\n",
    "\n",
    "```md\n",
    "<i>Italic Text</i>\n",
    "```"
   ]
  },
  {
   "cell_type": "markdown",
   "metadata": {},
   "source": [
    "## More tags (not really in markdown)\n",
    "P tag (just represeants a paragraph/normal text)\n",
    "\n",
    "```html\n",
    "<p>This is a paragraph</p>\n",
    "```\n",
    "\n",
    "Button\n",
    "\n",
    "```html\n",
    "<button>some button text</button>\n",
    "```\n",
    "\n",
    "Div (groups together related content)\n",
    "\n",
    "```html\n",
    "<!-- first information -->\n",
    "<div>\n",
    "    <!-- notice how tags can be put INSIDE eachother -->\n",
    "    <p>This is the first paragarph of section 1</p>\n",
    "    <p>This is the second paragraph of section 1</p>\n",
    "</div>\n",
    "\n",
    "<!-- second information -->\n",
    "<div>\n",
    "    <!-- notice how tags can be put INSIDE eachother -->\n",
    "    <p>This is the first paragarph of section 2</p>\n",
    "    <p>This is the second paragraph of section 2</p>\n",
    "</div>\n",
    "```\n",
    "\n"
   ]
  },
  {
   "cell_type": "markdown",
   "metadata": {},
   "source": [
    "## Resources\n",
    "- https://www.w3schools.com/html/default.asp"
   ]
  },
  {
   "cell_type": "markdown",
   "metadata": {},
   "source": [
    "## HTML Hacks\n",
    "- Below is a wireframe for an HTML element you will create. A wireframe is a rough visual representation of HTML elements on a page and isn't necessarily to scale or have the exact styling that the final HTML will have. \n",
    "- Using the syntax above, try to create an HTML cell that corresponds to the below wireframe.\n",
    "- The \"a tags\" contain links to other content\n",
    "- Pick any topic but try to match the plan\n",
    "\n",
    "![wireframe for html hacks]({{ site.baseurl }}/images/wireframe.png)"
   ]
  },
  {
   "cell_type": "code",
   "execution_count": 20,
   "metadata": {
    "vscode": {
     "languageId": "html"
    }
   },
   "outputs": [
    {
     "data": {
      "text/html": [
       "<!-- put your HTML code in this cell, Make sure to press the Run button to see your results below -->\n",
       "\n",
       "<div>\n",
       "    <p style=\"border: 4px solid #ff0000; color: #FFFF; paddding: 12px; border-radius: 5px;\">\n",
       "                                                                                        paragraph\n",
       "    </p>\n",
       "     \n",
       "    <button class=\"cta\">\n",
       "        <span>Button</span>\n",
       "         <svg width=\"15px\" height=\"10px\" viewBox=\"0 0 13 10\">\n",
       "        <path d=\"M1,5 L11,5\"></path>\n",
       "        <polyline points=\"8 1 12 5 8 9\"></polyline>\n",
       "        </svg>\n",
       "    </button>\n",
       "\n",
       "</div>\n",
       "\n",
       "<div style=\"margin-top: 22px;\">\n",
       "    <style>\n",
       ".cta {\n",
       "    position: relative;\n",
       "    margin: auto;\n",
       "    padding: 12px 18px;\n",
       "    transition: all 0.2s ease;\n",
       "    border: none;\n",
       "    background: none;\n",
       "    cursor: pointer;\n",
       "  }\n",
       "  \n",
       "  .cta:before {\n",
       "    content: \"\";\n",
       "    position: absolute;\n",
       "    top: 0;\n",
       "    left: 0;\n",
       "    display: block;\n",
       "    border-radius: 50px;\n",
       "    background: #b1dae7;\n",
       "    width: 45px;\n",
       "    height: 45px;\n",
       "    transition: all 0.3s ease;\n",
       "  }\n",
       "  \n",
       "  .cta span {\n",
       "    position: relative;\n",
       "    font-family: \"Ubuntu\", sans-serif;\n",
       "    font-size: 18px;\n",
       "    font-weight: 700;\n",
       "    letter-spacing: 0.05em;\n",
       "    color: #234567;\n",
       "  }\n",
       "  \n",
       "  .cta svg {\n",
       "    position: relative;\n",
       "    top: 0;\n",
       "    margin-left: 10px;\n",
       "    fill: none;\n",
       "    stroke-linecap: round;\n",
       "    stroke-linejoin: round;\n",
       "    stroke: #234567;\n",
       "    stroke-width: 2;\n",
       "    transform: translateX(-5px);\n",
       "    transition: all 0.3s ease;\n",
       "  }\n",
       "  \n",
       "  .cta:hover:before {\n",
       "    width: 100%;\n",
       "    background: #b1dae7;\n",
       "  }\n",
       "  \n",
       "  .cta:hover svg {\n",
       "    transform: translateX(0);\n",
       "  }\n",
       "  \n",
       "  .cta:active {\n",
       "    transform: scale(0.95);\n",
       "  }\n",
       "  \n",
       "    </style>\n",
       "\n",
       "    <a href=\"https://example.com/\" style=\"border: 2px solid #1E90FF; color: #1E90FF; display: block; padding: 10px; border-radius: 5px; text-align: center; margin-bottom: 10px; text-decoration: none;\">\n",
       "        A\n",
       "    </a>\n",
       "    <a href=\"https://example.com/\" style=\"border: 2px solid #1E90FF; color: #1E90FF; display: block; padding: 10px; border-radius: 5px; text-align: center; margin-bottom: 10px; text-decoration: none;\">\n",
       "        A\n",
       "    </a>\n",
       "    <p style=\"border: 4px solid #ff0000; color: #FFFF; paddding: 12px; border-radius: 5px;\">\n",
       "        paragraph\n",
       "    </p>\n",
       "</div>\n"
      ],
      "text/plain": [
       "<IPython.core.display.HTML object>"
      ]
     },
     "metadata": {},
     "output_type": "display_data"
    }
   ],
   "source": [
    "%%html\n",
    "<!-- put your HTML code in this cell, Make sure to press the Run button to see your results below -->\n",
    "\n",
    "<div>\n",
    "    <p style=\"border: 4px solid #ff0000; color: #FFFF; paddding: 12px; border-radius: 5px;\">\n",
    "                                                                                        paragraph\n",
    "    </p>\n",
    "     \n",
    "    <button class=\"cta\">\n",
    "        <span>Button</span>\n",
    "         <svg width=\"15px\" height=\"10px\" viewBox=\"0 0 13 10\">\n",
    "        <path d=\"M1,5 L11,5\"></path>\n",
    "        <polyline points=\"8 1 12 5 8 9\"></polyline>\n",
    "        </svg>\n",
    "    </button>\n",
    "\n",
    "</div>\n",
    "\n",
    "<div style=\"margin-top: 22px;\">\n",
    "    <style>\n",
    ".cta {\n",
    "    position: relative;\n",
    "    margin: auto;\n",
    "    padding: 12px 18px;\n",
    "    transition: all 0.2s ease;\n",
    "    border: none;\n",
    "    background: none;\n",
    "    cursor: pointer;\n",
    "  }\n",
    "  \n",
    "  .cta:before {\n",
    "    content: \"\";\n",
    "    position: absolute;\n",
    "    top: 0;\n",
    "    left: 0;\n",
    "    display: block;\n",
    "    border-radius: 50px;\n",
    "    background: #b1dae7;\n",
    "    width: 45px;\n",
    "    height: 45px;\n",
    "    transition: all 0.3s ease;\n",
    "  }\n",
    "  \n",
    "  .cta span {\n",
    "    position: relative;\n",
    "    font-family: \"Ubuntu\", sans-serif;\n",
    "    font-size: 18px;\n",
    "    font-weight: 700;\n",
    "    letter-spacing: 0.05em;\n",
    "    color: #234567;\n",
    "  }\n",
    "  \n",
    "  .cta svg {\n",
    "    position: relative;\n",
    "    top: 0;\n",
    "    margin-left: 10px;\n",
    "    fill: none;\n",
    "    stroke-linecap: round;\n",
    "    stroke-linejoin: round;\n",
    "    stroke: #234567;\n",
    "    stroke-width: 2;\n",
    "    transform: translateX(-5px);\n",
    "    transition: all 0.3s ease;\n",
    "  }\n",
    "  \n",
    "  .cta:hover:before {\n",
    "    width: 100%;\n",
    "    background: #b1dae7;\n",
    "  }\n",
    "  \n",
    "  .cta:hover svg {\n",
    "    transform: translateX(0);\n",
    "  }\n",
    "  \n",
    "  .cta:active {\n",
    "    transform: scale(0.95);\n",
    "  }\n",
    "  \n",
    "    </style>\n",
    "\n",
    "    <a href=\"https://example.com/\" style=\"border: 2px solid #1E90FF; color: #1E90FF; display: block; padding: 10px; border-radius: 5px; text-align: center; margin-bottom: 10px; text-decoration: none;\">\n",
    "        A\n",
    "    </a>\n",
    "    <a href=\"https://example.com/\" style=\"border: 2px solid #1f8efd; color: #1E90FF; display: block; padding: 10px; border-radius: 5px; text-align: center; margin-bottom: 10px; text-decoration: none;\">\n",
    "        A\n",
    "    </a>\n",
    "    <p style=\"border: 4px solid #ff0000; color: #FFFF; paddding: 12px; border-radius: 5px;\">  \n",
    "        paragraph\n",
    "    </p>\n",
    "</div>\n"
   ]
  }
 ],
 "metadata": {
  "kernelspec": {
   "display_name": "Python 3",
   "language": "python",
   "name": "python3"
  },
  "language_info": {
   "codemirror_mode": {
    "name": "ipython",
    "version": 3
   },
   "file_extension": ".py",
   "mimetype": "text/x-python",
   "name": "python",
   "nbconvert_exporter": "python",
   "pygments_lexer": "ipython3",
   "version": "3.12.3"
  },
  "orig_nbformat": 4
 },
 "nbformat": 4,
 "nbformat_minor": 2
}
